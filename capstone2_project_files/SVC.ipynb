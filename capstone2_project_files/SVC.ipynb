{
 "cells": [
  {
   "cell_type": "code",
   "execution_count": 1,
   "metadata": {},
   "outputs": [],
   "source": [
    "%matplotlib inline\n",
    "import numpy as np\n",
    "import scipy as sp\n",
    "import matplotlib as mpl\n",
    "import matplotlib.cm as cm\n",
    "import matplotlib.pyplot as plt\n",
    "import pandas as pd\n",
    "import seaborn as sns\n",
    "from six.moves import range\n",
    "from sklearn.model_selection import train_test_split\n",
    "from sklearn.metrics import roc_curve, auc\n",
    "\n",
    "# Setup Pandas\n",
    "pd.set_option('display.width', 500)\n",
    "pd.set_option('display.max_columns', 100)\n",
    "pd.set_option('display.notebook_repr_html', True)\n",
    "\n",
    "# Setup Seaborn\n",
    "sns.set_style(\"whitegrid\")\n",
    "sns.set_context(\"poster\")"
   ]
  },
  {
   "cell_type": "code",
   "execution_count": 2,
   "metadata": {},
   "outputs": [],
   "source": [
    "##get the data set with clean reviews\n",
    "train = pd.read_csv(\"clean_train_reviewsbg.csv\")"
   ]
  },
  {
   "cell_type": "code",
   "execution_count": 3,
   "metadata": {},
   "outputs": [],
   "source": [
    "#import the word2vec model with gensim\n",
    "import gensim"
   ]
  },
  {
   "cell_type": "code",
   "execution_count": 4,
   "metadata": {},
   "outputs": [
    {
     "name": "stderr",
     "output_type": "stream",
     "text": [
      "C:\\Users\\ngmat\\Anaconda3\\lib\\site-packages\\smart_open\\smart_open_lib.py:398: UserWarning: This function is deprecated, use smart_open.open instead. See the migration notes for details: https://github.com/RaRe-Technologies/smart_open/blob/master/README.rst#migrating-to-the-new-open-function\n",
      "  'See the migration notes for details: %s' % _MIGRATION_NOTES_URL\n"
     ]
    }
   ],
   "source": [
    "#load word2vec\n",
    "model = gensim.models.KeyedVectors.load_word2vec_format('GoogleNews-vectors-negative300.bin.gz', binary=True, limit=500000)\n"
   ]
  },
  {
   "cell_type": "code",
   "execution_count": 5,
   "metadata": {},
   "outputs": [],
   "source": [
    "#change reviews to vectors space anf get the average vector for each review\n",
    "def review_to_vector(review):\n",
    "    review_array = review.split()\n",
    "    wordvectors = []\n",
    "    for word in review_array:\n",
    "        try:\n",
    "            vector = model.get_vector(word)\n",
    "            wordvectors.append(vector)\n",
    "        except KeyError:\n",
    "            pass\n",
    "    avg_word_vector = np.mean(np.array(wordvectors), axis=0)\n",
    "    return avg_word_vector"
   ]
  },
  {
   "cell_type": "code",
   "execution_count": 6,
   "metadata": {},
   "outputs": [],
   "source": [
    "cleanvector = []\n",
    "for review in train['cleanReview']:\n",
    "    cleanvector.append(review_to_vector(review))"
   ]
  },
  {
   "cell_type": "code",
   "execution_count": 7,
   "metadata": {},
   "outputs": [
    {
     "data": {
      "text/plain": [
       "(25000, 300)"
      ]
     },
     "execution_count": 7,
     "metadata": {},
     "output_type": "execute_result"
    }
   ],
   "source": [
    "X_emreviews = np.array(cleanvector, dtype=np.float)\n",
    "X_emreviews.shape"
   ]
  },
  {
   "cell_type": "code",
   "execution_count": 8,
   "metadata": {},
   "outputs": [
    {
     "name": "stdout",
     "output_type": "stream",
     "text": [
      "[ 0.03917618  0.07527008  0.00668135  0.12237892 -0.05514144  0.01250296\n",
      "  0.04666138 -0.04853227  0.06809974  0.06034899 -0.0264349  -0.13563843\n",
      " -0.02281494  0.04036713 -0.0774643   0.1085742   0.03467331  0.12186289\n",
      "  0.01463499 -0.05926056 -0.03535689  0.07528882  0.02703972  0.00123997\n",
      "  0.04615135 -0.03957943 -0.09244518  0.0536674   0.00888844 -0.00864553\n",
      " -0.06121502 -0.01299958 -0.01968536  0.03419232  0.05326509  0.0030509\n",
      "  0.03214207  0.04327729  0.05265088  0.09054108  0.11198883 -0.01156807\n",
      "  0.10114269  0.02941818 -0.02399211 -0.05242996 -0.06253014 -0.00025215\n",
      "  0.03833618 -0.01486816 -0.01893005  0.03220692 -0.04692974  0.01528053\n",
      "  0.02531347  0.02246552 -0.04301932 -0.09034767  0.02570829 -0.07500491\n",
      "  0.01776581  0.09853458 -0.09504414 -0.08185279  0.0098011  -0.03730826\n",
      " -0.1026289   0.06098423 -0.02648797  0.07591248  0.0409565  -0.00612602\n",
      "  0.07162933 -0.02266569 -0.12598877 -0.09535122  0.02087936  0.06742859\n",
      "  0.06781578  0.10706339 -0.02486682 -0.02205276  0.01952476 -0.00755806\n",
      " -0.03354416 -0.02675324 -0.07780381  0.13789615  0.0432416   0.04321108\n",
      "  0.04092674 -0.00406761 -0.04066338 -0.03041914 -0.03045635 -0.03265417\n",
      "  0.00537847  0.00116529  0.01319408 -0.04982672 -0.0320713   0.01041298\n",
      "  0.04274521  0.01638412 -0.01812897 -0.01291656  0.00203505 -0.01397324\n",
      "  0.04362183 -0.08087425 -0.03505726  0.03038459 -0.01818256  0.01543512\n",
      "  0.12339325  0.00201674  0.0230011  -0.05302453  0.06872873  0.00540767\n",
      " -0.06112514  0.01971245  0.03248906  0.02484074 -0.00200539 -0.04225402\n",
      " -0.0536644  -0.00547428 -0.03179278  0.02114239 -0.09763221 -0.07388382\n",
      " -0.02737465  0.051371   -0.01214066 -0.00177624  0.00588846  0.00446205\n",
      "  0.0141716   0.05488835  0.07450251 -0.04442434  0.00124378  0.02674446\n",
      "  0.02816525 -0.00233874 -0.00476418  0.02561762 -0.02843399 -0.02313423\n",
      "  0.04333    -0.01230054 -0.08882236  0.05244245 -0.04737167 -0.06583452\n",
      " -0.03338718 -0.02478504 -0.09255771 -0.04298391  0.01701183  0.10386572\n",
      "  0.0381979   0.05105858  0.02172956 -0.09971442  0.0669178  -0.06236224\n",
      "  0.00394688  0.00151367 -0.07764568 -0.04928856  0.01956596 -0.05983963\n",
      " -0.00854645  0.02050648  0.08085632 -0.11949845 -0.04259663  0.01047001\n",
      " -0.06695397 -0.06050224  0.00140824 -0.01616745 -0.02281075 -0.01270847\n",
      " -0.03983345 -0.01544151 -0.0130744   0.03479166  0.05098534  0.03166176\n",
      "  0.04678879  0.02357507  0.00573559  0.06386681 -0.01524739  0.01572933\n",
      " -0.0802002  -0.05786236  0.03583164  0.05950861 -0.05015409 -0.01014786\n",
      "  0.04701386 -0.02309036 -0.04573796 -0.02614861 -0.05566483  0.05925331\n",
      " -0.00711851  0.11417504 -0.00179157  0.00564728 -0.12234936 -0.01219993\n",
      "  0.05329742 -0.00785322 -0.05276308 -0.03320913 -0.02775803  0.03304977\n",
      " -0.02378044  0.02950134  0.04836883 -0.00833893  0.04862151 -0.00635371\n",
      "  0.03628664 -0.00354462  0.04844494 -0.02531013 -0.00535049  0.04118977\n",
      "  0.05862503  0.01184001  0.04297676 -0.01944704  0.0823822   0.00284567\n",
      "  0.0351059  -0.00381689  0.07167111 -0.08471756 -0.06391029  0.06308307\n",
      "  0.01384239  0.06641579 -0.01354866 -0.0240036  -0.01808748  0.06218567\n",
      "  0.04555225  0.0469266   0.03362932 -0.05887013 -0.01737785 -0.01062651\n",
      " -0.06456413 -0.07212295 -0.04503441  0.01664886 -0.02042713  0.00786285\n",
      "  0.03095512  0.10607795 -0.03940697 -0.10083542 -0.09050484 -0.02061209\n",
      "  0.03280792  0.09335766  0.01531801  0.02596726  0.05967903 -0.00926008\n",
      " -0.05287762 -0.10513401 -0.03089814  0.01939907 -0.00499496 -0.00445175\n",
      " -0.03134036  0.02073669  0.0095665  -0.01425333 -0.08875962 -0.00531454\n",
      "  0.01082382  0.04384365 -0.10198641  0.03021765 -0.1037159   0.03849125\n",
      " -0.04364643 -0.05891762 -0.00895462 -0.04843483  0.01169023  0.02353592]\n"
     ]
    }
   ],
   "source": [
    "print(X_emreviews[1])"
   ]
  },
  {
   "cell_type": "code",
   "execution_count": 9,
   "metadata": {},
   "outputs": [],
   "source": [
    "#train test split with features as vectors and the sentiment score \n",
    "train_features, test_features, train_labels, test_labels = train_test_split(X_emreviews, train['sentiment'], test_size = 0.33, random_state = 42)"
   ]
  },
  {
   "cell_type": "code",
   "execution_count": 10,
   "metadata": {},
   "outputs": [],
   "source": [
    "#set up SVC fit and predict\n",
    "from sklearn.svm import LinearSVC\n",
    "svc = LinearSVC()"
   ]
  },
  {
   "cell_type": "code",
   "execution_count": 11,
   "metadata": {},
   "outputs": [
    {
     "data": {
      "text/plain": [
       "LinearSVC(C=1.0, class_weight=None, dual=True, fit_intercept=True,\n",
       "     intercept_scaling=1, loss='squared_hinge', max_iter=1000,\n",
       "     multi_class='ovr', penalty='l2', random_state=None, tol=0.0001,\n",
       "     verbose=0)"
      ]
     },
     "execution_count": 11,
     "metadata": {},
     "output_type": "execute_result"
    }
   ],
   "source": [
    "svc.fit(train_features, train_labels)"
   ]
  },
  {
   "cell_type": "code",
   "execution_count": 12,
   "metadata": {},
   "outputs": [],
   "source": [
    "sen_pred_train = svc.predict(train_features)\n",
    "sen_pred_test = svc.predict(test_features)\n"
   ]
  },
  {
   "cell_type": "code",
   "execution_count": 13,
   "metadata": {},
   "outputs": [
    {
     "name": "stdout",
     "output_type": "stream",
     "text": [
      "accuracy scores training set:  0.8656119402985074\n",
      "accuracy scores test set:  0.8578181818181818\n"
     ]
    }
   ],
   "source": [
    "#performance scores below\n",
    "from sklearn.metrics import accuracy_score\n",
    "print('accuracy scores training set: ',accuracy_score(train_labels,sen_pred_train))\n",
    "print('accuracy scores test set: ',accuracy_score(test_labels,sen_pred_test))"
   ]
  },
  {
   "cell_type": "code",
   "execution_count": 15,
   "metadata": {},
   "outputs": [],
   "source": [
    "from sklearn.metrics import classification_report, confusion_matrix "
   ]
  },
  {
   "cell_type": "code",
   "execution_count": 16,
   "metadata": {},
   "outputs": [
    {
     "name": "stdout",
     "output_type": "stream",
     "text": [
      "              precision    recall  f1-score   support\n",
      "\n",
      "           0       0.86      0.85      0.86      4105\n",
      "           1       0.85      0.86      0.86      4145\n",
      "\n",
      "   micro avg       0.86      0.86      0.86      8250\n",
      "   macro avg       0.86      0.86      0.86      8250\n",
      "weighted avg       0.86      0.86      0.86      8250\n",
      "\n"
     ]
    }
   ],
   "source": [
    "print(classification_report(test_labels, sen_pred_test)) "
   ]
  },
  {
   "cell_type": "code",
   "execution_count": 17,
   "metadata": {},
   "outputs": [
    {
     "name": "stdout",
     "output_type": "stream",
     "text": [
      "[[3495  610]\n",
      " [ 563 3582]]\n"
     ]
    }
   ],
   "source": [
    "print(confusion_matrix(test_labels, sen_pred_test)) "
   ]
  },
  {
   "cell_type": "code",
   "execution_count": 18,
   "metadata": {},
   "outputs": [],
   "source": [
    "#hyperparamter tuning using C and loss paramters\n",
    "from sklearn.model_selection import GridSearchCV "
   ]
  },
  {
   "cell_type": "code",
   "execution_count": 41,
   "metadata": {},
   "outputs": [],
   "source": [
    "param_grid = {'C': [0.1, 1, 10, 100, 1000],\n",
    "             'loss': ['squared_hinge', 'hinge']}  \n",
    "  "
   ]
  },
  {
   "cell_type": "code",
   "execution_count": 42,
   "metadata": {},
   "outputs": [],
   "source": [
    "grid = GridSearchCV(LinearSVC(), param_grid, refit = True, verbose = 3) "
   ]
  },
  {
   "cell_type": "code",
   "execution_count": 43,
   "metadata": {},
   "outputs": [
    {
     "name": "stdout",
     "output_type": "stream",
     "text": [
      "LinearSVC(C=1.0, class_weight=None, dual=True, fit_intercept=True,\n",
      "     intercept_scaling=1, loss='squared_hinge', max_iter=1000,\n",
      "     multi_class='ovr', penalty='l2', random_state=None, tol=0.0001,\n",
      "     verbose=0)\n"
     ]
    }
   ],
   "source": [
    "print(LinearSVC())"
   ]
  },
  {
   "cell_type": "code",
   "execution_count": 44,
   "metadata": {},
   "outputs": [
    {
     "name": "stderr",
     "output_type": "stream",
     "text": [
      "C:\\Users\\ngmat\\Anaconda3\\lib\\site-packages\\sklearn\\model_selection\\_split.py:2053: FutureWarning: You should specify a value for 'cv' instead of relying on the default value. The default value will change from 3 to 5 in version 0.22.\n",
      "  warnings.warn(CV_WARNING, FutureWarning)\n",
      "[Parallel(n_jobs=1)]: Using backend SequentialBackend with 1 concurrent workers.\n"
     ]
    },
    {
     "name": "stdout",
     "output_type": "stream",
     "text": [
      "Fitting 3 folds for each of 10 candidates, totalling 30 fits\n",
      "[CV] C=0.1, loss=squared_hinge .......................................\n",
      "[CV]  C=0.1, loss=squared_hinge, score=0.8542263610315186, total=   0.2s\n",
      "[CV] C=0.1, loss=squared_hinge .......................................\n"
     ]
    },
    {
     "name": "stderr",
     "output_type": "stream",
     "text": [
      "[Parallel(n_jobs=1)]: Done   1 out of   1 | elapsed:    0.2s remaining:    0.0s\n"
     ]
    },
    {
     "name": "stdout",
     "output_type": "stream",
     "text": [
      "[CV]  C=0.1, loss=squared_hinge, score=0.8507970625111947, total=   0.3s\n",
      "[CV] C=0.1, loss=squared_hinge .......................................\n"
     ]
    },
    {
     "name": "stderr",
     "output_type": "stream",
     "text": [
      "[Parallel(n_jobs=1)]: Done   2 out of   2 | elapsed:    0.6s remaining:    0.0s\n"
     ]
    },
    {
     "name": "stdout",
     "output_type": "stream",
     "text": [
      "[CV]  C=0.1, loss=squared_hinge, score=0.8452444922084901, total=   0.3s\n",
      "[CV] C=0.1, loss=hinge ...............................................\n",
      "[CV] ...... C=0.1, loss=hinge, score=0.8402578796561605, total=   0.2s\n",
      "[CV] C=0.1, loss=hinge ...............................................\n",
      "[CV] ...... C=0.1, loss=hinge, score=0.8359305033136306, total=   0.1s\n",
      "[CV] C=0.1, loss=hinge ...............................................\n",
      "[CV] ....... C=0.1, loss=hinge, score=0.831810854379366, total=   0.2s\n",
      "[CV] C=1, loss=squared_hinge .........................................\n",
      "[CV]  C=1, loss=squared_hinge, score=0.8604942693409742, total=   0.9s\n",
      "[CV] C=1, loss=squared_hinge .........................................\n",
      "[CV]  C=1, loss=squared_hinge, score=0.8570660934981192, total=   0.9s\n",
      "[CV] C=1, loss=squared_hinge .........................................\n",
      "[CV]  C=1, loss=squared_hinge, score=0.8486476804585349, total=   0.9s\n",
      "[CV] C=1, loss=hinge .................................................\n"
     ]
    },
    {
     "name": "stderr",
     "output_type": "stream",
     "text": [
      "C:\\Users\\ngmat\\Anaconda3\\lib\\site-packages\\sklearn\\svm\\base.py:931: ConvergenceWarning: Liblinear failed to converge, increase the number of iterations.\n",
      "  \"the number of iterations.\", ConvergenceWarning)\n"
     ]
    },
    {
     "name": "stdout",
     "output_type": "stream",
     "text": [
      "[CV] ........ C=1, loss=hinge, score=0.8574498567335244, total=   0.4s\n",
      "[CV] C=1, loss=hinge .................................................\n"
     ]
    },
    {
     "name": "stderr",
     "output_type": "stream",
     "text": [
      "C:\\Users\\ngmat\\Anaconda3\\lib\\site-packages\\sklearn\\svm\\base.py:931: ConvergenceWarning: Liblinear failed to converge, increase the number of iterations.\n",
      "  \"the number of iterations.\", ConvergenceWarning)\n"
     ]
    },
    {
     "name": "stdout",
     "output_type": "stream",
     "text": [
      "[CV] ........ C=1, loss=hinge, score=0.8559914024717894, total=   0.4s\n",
      "[CV] C=1, loss=hinge .................................................\n",
      "[CV] ........ C=1, loss=hinge, score=0.8477521046032599, total=   0.6s\n",
      "[CV] C=10, loss=squared_hinge ........................................\n",
      "[CV]  C=10, loss=squared_hinge, score=0.857987106017192, total=   7.0s\n",
      "[CV] C=10, loss=squared_hinge ........................................\n",
      "[CV]  C=10, loss=squared_hinge, score=0.8542002507612395, total=   6.6s\n",
      "[CV] C=10, loss=squared_hinge ........................................\n",
      "[CV]  C=10, loss=squared_hinge, score=0.8500806018269748, total=   6.7s\n",
      "[CV] C=10, loss=hinge ................................................\n"
     ]
    },
    {
     "name": "stderr",
     "output_type": "stream",
     "text": [
      "C:\\Users\\ngmat\\Anaconda3\\lib\\site-packages\\sklearn\\svm\\base.py:931: ConvergenceWarning: Liblinear failed to converge, increase the number of iterations.\n",
      "  \"the number of iterations.\", ConvergenceWarning)\n"
     ]
    },
    {
     "name": "stdout",
     "output_type": "stream",
     "text": [
      "[CV] ....... C=10, loss=hinge, score=0.8576289398280802, total=   1.2s\n",
      "[CV] C=10, loss=hinge ................................................\n"
     ]
    },
    {
     "name": "stderr",
     "output_type": "stream",
     "text": [
      "C:\\Users\\ngmat\\Anaconda3\\lib\\site-packages\\sklearn\\svm\\base.py:931: ConvergenceWarning: Liblinear failed to converge, increase the number of iterations.\n",
      "  \"the number of iterations.\", ConvergenceWarning)\n"
     ]
    },
    {
     "name": "stdout",
     "output_type": "stream",
     "text": [
      "[CV] ....... C=10, loss=hinge, score=0.8529464445638546, total=   1.5s\n",
      "[CV] C=10, loss=hinge ................................................\n"
     ]
    },
    {
     "name": "stderr",
     "output_type": "stream",
     "text": [
      "C:\\Users\\ngmat\\Anaconda3\\lib\\site-packages\\sklearn\\svm\\base.py:931: ConvergenceWarning: Liblinear failed to converge, increase the number of iterations.\n",
      "  \"the number of iterations.\", ConvergenceWarning)\n"
     ]
    },
    {
     "name": "stdout",
     "output_type": "stream",
     "text": [
      "[CV] ....... C=10, loss=hinge, score=0.8490059108006448, total=   1.5s\n",
      "[CV] C=100, loss=squared_hinge .......................................\n"
     ]
    },
    {
     "name": "stderr",
     "output_type": "stream",
     "text": [
      "C:\\Users\\ngmat\\Anaconda3\\lib\\site-packages\\sklearn\\svm\\base.py:931: ConvergenceWarning: Liblinear failed to converge, increase the number of iterations.\n",
      "  \"the number of iterations.\", ConvergenceWarning)\n"
     ]
    },
    {
     "name": "stdout",
     "output_type": "stream",
     "text": [
      "[CV]  C=100, loss=squared_hinge, score=0.853689111747851, total=  16.3s\n",
      "[CV] C=100, loss=squared_hinge .......................................\n"
     ]
    },
    {
     "name": "stderr",
     "output_type": "stream",
     "text": [
      "C:\\Users\\ngmat\\Anaconda3\\lib\\site-packages\\sklearn\\svm\\base.py:931: ConvergenceWarning: Liblinear failed to converge, increase the number of iterations.\n",
      "  \"the number of iterations.\", ConvergenceWarning)\n"
     ]
    },
    {
     "name": "stdout",
     "output_type": "stream",
     "text": [
      "[CV]  C=100, loss=squared_hinge, score=0.8493641411427548, total=  14.5s\n",
      "[CV] C=100, loss=squared_hinge .......................................\n"
     ]
    },
    {
     "name": "stderr",
     "output_type": "stream",
     "text": [
      "C:\\Users\\ngmat\\Anaconda3\\lib\\site-packages\\sklearn\\svm\\base.py:931: ConvergenceWarning: Liblinear failed to converge, increase the number of iterations.\n",
      "  \"the number of iterations.\", ConvergenceWarning)\n"
     ]
    },
    {
     "name": "stdout",
     "output_type": "stream",
     "text": [
      "[CV]  C=100, loss=squared_hinge, score=0.8493641411427548, total=  14.3s\n",
      "[CV] C=100, loss=hinge ...............................................\n"
     ]
    },
    {
     "name": "stderr",
     "output_type": "stream",
     "text": [
      "C:\\Users\\ngmat\\Anaconda3\\lib\\site-packages\\sklearn\\svm\\base.py:931: ConvergenceWarning: Liblinear failed to converge, increase the number of iterations.\n",
      "  \"the number of iterations.\", ConvergenceWarning)\n"
     ]
    },
    {
     "name": "stdout",
     "output_type": "stream",
     "text": [
      "[CV] ...... C=100, loss=hinge, score=0.8581661891117478, total=   5.4s\n",
      "[CV] C=100, loss=hinge ...............................................\n"
     ]
    },
    {
     "name": "stderr",
     "output_type": "stream",
     "text": [
      "C:\\Users\\ngmat\\Anaconda3\\lib\\site-packages\\sklearn\\svm\\base.py:931: ConvergenceWarning: Liblinear failed to converge, increase the number of iterations.\n",
      "  \"the number of iterations.\", ConvergenceWarning)\n"
     ]
    },
    {
     "name": "stdout",
     "output_type": "stream",
     "text": [
      "[CV] ...... C=100, loss=hinge, score=0.8513344080243597, total=   5.5s\n",
      "[CV] C=100, loss=hinge ...............................................\n"
     ]
    },
    {
     "name": "stderr",
     "output_type": "stream",
     "text": [
      "C:\\Users\\ngmat\\Anaconda3\\lib\\site-packages\\sklearn\\svm\\base.py:931: ConvergenceWarning: Liblinear failed to converge, increase the number of iterations.\n",
      "  \"the number of iterations.\", ConvergenceWarning)\n"
     ]
    },
    {
     "name": "stdout",
     "output_type": "stream",
     "text": [
      "[CV] ...... C=100, loss=hinge, score=0.8495432563138098, total=   5.5s\n",
      "[CV] C=1000, loss=squared_hinge ......................................\n"
     ]
    },
    {
     "name": "stderr",
     "output_type": "stream",
     "text": [
      "C:\\Users\\ngmat\\Anaconda3\\lib\\site-packages\\sklearn\\svm\\base.py:931: ConvergenceWarning: Liblinear failed to converge, increase the number of iterations.\n",
      "  \"the number of iterations.\", ConvergenceWarning)\n"
     ]
    },
    {
     "name": "stdout",
     "output_type": "stream",
     "text": [
      "[CV]  C=1000, loss=squared_hinge, score=0.8492120343839542, total=  16.7s\n",
      "[CV] C=1000, loss=squared_hinge ......................................\n"
     ]
    },
    {
     "name": "stderr",
     "output_type": "stream",
     "text": [
      "C:\\Users\\ngmat\\Anaconda3\\lib\\site-packages\\sklearn\\svm\\base.py:931: ConvergenceWarning: Liblinear failed to converge, increase the number of iterations.\n",
      "  \"the number of iterations.\", ConvergenceWarning)\n"
     ]
    },
    {
     "name": "stdout",
     "output_type": "stream",
     "text": [
      "[CV]  C=1000, loss=squared_hinge, score=0.7479849543256314, total=  15.8s\n",
      "[CV] C=1000, loss=squared_hinge ......................................\n"
     ]
    },
    {
     "name": "stderr",
     "output_type": "stream",
     "text": [
      "C:\\Users\\ngmat\\Anaconda3\\lib\\site-packages\\sklearn\\svm\\base.py:931: ConvergenceWarning: Liblinear failed to converge, increase the number of iterations.\n",
      "  \"the number of iterations.\", ConvergenceWarning)\n"
     ]
    },
    {
     "name": "stdout",
     "output_type": "stream",
     "text": [
      "[CV]  C=1000, loss=squared_hinge, score=0.7476267239835214, total=  15.7s\n",
      "[CV] C=1000, loss=hinge ..............................................\n"
     ]
    },
    {
     "name": "stderr",
     "output_type": "stream",
     "text": [
      "C:\\Users\\ngmat\\Anaconda3\\lib\\site-packages\\sklearn\\svm\\base.py:931: ConvergenceWarning: Liblinear failed to converge, increase the number of iterations.\n",
      "  \"the number of iterations.\", ConvergenceWarning)\n"
     ]
    },
    {
     "name": "stdout",
     "output_type": "stream",
     "text": [
      "[CV] ..... C=1000, loss=hinge, score=0.7716690544412608, total=  16.0s\n",
      "[CV] C=1000, loss=hinge ..............................................\n"
     ]
    },
    {
     "name": "stderr",
     "output_type": "stream",
     "text": [
      "C:\\Users\\ngmat\\Anaconda3\\lib\\site-packages\\sklearn\\svm\\base.py:931: ConvergenceWarning: Liblinear failed to converge, increase the number of iterations.\n",
      "  \"the number of iterations.\", ConvergenceWarning)\n"
     ]
    },
    {
     "name": "stdout",
     "output_type": "stream",
     "text": [
      "[CV] ..... C=1000, loss=hinge, score=0.7295360917069675, total=  15.7s\n",
      "[CV] C=1000, loss=hinge ..............................................\n"
     ]
    },
    {
     "name": "stderr",
     "output_type": "stream",
     "text": [
      "C:\\Users\\ngmat\\Anaconda3\\lib\\site-packages\\sklearn\\svm\\base.py:931: ConvergenceWarning: Liblinear failed to converge, increase the number of iterations.\n",
      "  \"the number of iterations.\", ConvergenceWarning)\n",
      "[Parallel(n_jobs=1)]: Done  30 out of  30 | elapsed:  3.2min finished\n"
     ]
    },
    {
     "name": "stdout",
     "output_type": "stream",
     "text": [
      "[CV] ..... C=1000, loss=hinge, score=0.8310943936951459, total=  15.5s\n"
     ]
    },
    {
     "data": {
      "text/plain": [
       "GridSearchCV(cv='warn', error_score='raise-deprecating',\n",
       "       estimator=LinearSVC(C=1.0, class_weight=None, dual=True, fit_intercept=True,\n",
       "     intercept_scaling=1, loss='squared_hinge', max_iter=1000,\n",
       "     multi_class='ovr', penalty='l2', random_state=None, tol=0.0001,\n",
       "     verbose=0),\n",
       "       fit_params=None, iid='warn', n_jobs=None,\n",
       "       param_grid={'C': [0.1, 1, 10, 100, 1000], 'loss': ['squared_hinge', 'hinge']},\n",
       "       pre_dispatch='2*n_jobs', refit=True, return_train_score='warn',\n",
       "       scoring=None, verbose=3)"
      ]
     },
     "execution_count": 44,
     "metadata": {},
     "output_type": "execute_result"
    }
   ],
   "source": [
    "#same as above\n",
    "grid.fit(train_features, train_labels)"
   ]
  },
  {
   "cell_type": "code",
   "execution_count": 45,
   "metadata": {},
   "outputs": [
    {
     "name": "stdout",
     "output_type": "stream",
     "text": [
      "{'C': 1, 'loss': 'squared_hinge'}\n"
     ]
    }
   ],
   "source": [
    "print(grid.best_params_) "
   ]
  },
  {
   "cell_type": "code",
   "execution_count": 46,
   "metadata": {},
   "outputs": [
    {
     "name": "stdout",
     "output_type": "stream",
     "text": [
      "LinearSVC(C=1, class_weight=None, dual=True, fit_intercept=True,\n",
      "     intercept_scaling=1, loss='squared_hinge', max_iter=1000,\n",
      "     multi_class='ovr', penalty='l2', random_state=None, tol=0.0001,\n",
      "     verbose=0)\n"
     ]
    }
   ],
   "source": [
    "print(grid.best_estimator_)"
   ]
  },
  {
   "cell_type": "code",
   "execution_count": 47,
   "metadata": {},
   "outputs": [
    {
     "data": {
      "text/plain": [
       "array([0, 1, 0, ..., 0, 1, 1], dtype=int64)"
      ]
     },
     "execution_count": 47,
     "metadata": {},
     "output_type": "execute_result"
    }
   ],
   "source": [
    "grid.predict(test_features)"
   ]
  },
  {
   "cell_type": "code",
   "execution_count": 48,
   "metadata": {},
   "outputs": [],
   "source": [
    "grid_pred_train = grid.predict(train_features)\n",
    "grid_pred_test = grid.predict(test_features)"
   ]
  },
  {
   "cell_type": "code",
   "execution_count": 49,
   "metadata": {},
   "outputs": [
    {
     "name": "stdout",
     "output_type": "stream",
     "text": [
      "accuracy scores training set:  0.8656119402985074\n",
      "accuracy scores test set:  0.8578181818181818\n"
     ]
    }
   ],
   "source": [
    "print('accuracy scores training set: ',accuracy_score(train_labels,grid_pred_train))\n",
    "print('accuracy scores test set: ',accuracy_score(test_labels,grid_pred_test))"
   ]
  },
  {
   "cell_type": "code",
   "execution_count": 51,
   "metadata": {},
   "outputs": [],
   "source": [
    "from sklearn.model_selection import cross_val_score"
   ]
  },
  {
   "cell_type": "code",
   "execution_count": 52,
   "metadata": {},
   "outputs": [
    {
     "name": "stderr",
     "output_type": "stream",
     "text": [
      "C:\\Users\\ngmat\\Anaconda3\\lib\\site-packages\\sklearn\\model_selection\\_split.py:2053: FutureWarning: You should specify a value for 'cv' instead of relying on the default value. The default value will change from 3 to 5 in version 0.22.\n",
      "  warnings.warn(CV_WARNING, FutureWarning)\n",
      "[Parallel(n_jobs=1)]: Using backend SequentialBackend with 1 concurrent workers.\n"
     ]
    },
    {
     "name": "stdout",
     "output_type": "stream",
     "text": [
      "Fitting 3 folds for each of 10 candidates, totalling 30 fits\n",
      "[CV] C=0.1, loss=squared_hinge .......................................\n",
      "[CV]  C=0.1, loss=squared_hinge, score=0.8552789442111578, total=   0.3s\n",
      "[CV] C=0.1, loss=squared_hinge .......................................\n"
     ]
    },
    {
     "name": "stderr",
     "output_type": "stream",
     "text": [
      "[Parallel(n_jobs=1)]: Done   1 out of   1 | elapsed:    0.3s remaining:    0.0s\n"
     ]
    },
    {
     "name": "stdout",
     "output_type": "stream",
     "text": [
      "[CV]  C=0.1, loss=squared_hinge, score=0.8514851485148515, total=   0.4s\n",
      "[CV] C=0.1, loss=squared_hinge .......................................\n"
     ]
    },
    {
     "name": "stderr",
     "output_type": "stream",
     "text": [
      "[Parallel(n_jobs=1)]: Done   2 out of   2 | elapsed:    0.8s remaining:    0.0s\n"
     ]
    },
    {
     "name": "stdout",
     "output_type": "stream",
     "text": [
      "[CV]  C=0.1, loss=squared_hinge, score=0.8495349534953496, total=   0.4s\n",
      "[CV] C=0.1, loss=hinge ...............................................\n",
      "[CV] ...... C=0.1, loss=hinge, score=0.8428314337132573, total=   0.3s\n",
      "[CV] C=0.1, loss=hinge ...............................................\n",
      "[CV] ...... C=0.1, loss=hinge, score=0.8358835883588359, total=   0.3s\n",
      "[CV] C=0.1, loss=hinge ...............................................\n",
      "[CV] ...... C=0.1, loss=hinge, score=0.8339333933393339, total=   0.2s\n",
      "[CV] C=1, loss=squared_hinge .........................................\n",
      "[CV] . C=1, loss=squared_hinge, score=0.861127774445111, total=   1.3s\n",
      "[CV] C=1, loss=squared_hinge .........................................\n",
      "[CV]  C=1, loss=squared_hinge, score=0.8573357335733574, total=   1.2s\n",
      "[CV] C=1, loss=squared_hinge .........................................\n",
      "[CV]  C=1, loss=squared_hinge, score=0.8511851185118512, total=   1.2s\n",
      "[CV] C=1, loss=hinge .................................................\n"
     ]
    },
    {
     "name": "stderr",
     "output_type": "stream",
     "text": [
      "C:\\Users\\ngmat\\Anaconda3\\lib\\site-packages\\sklearn\\svm\\base.py:931: ConvergenceWarning: Liblinear failed to converge, increase the number of iterations.\n",
      "  \"the number of iterations.\", ConvergenceWarning)\n"
     ]
    },
    {
     "name": "stdout",
     "output_type": "stream",
     "text": [
      "[CV] ........ C=1, loss=hinge, score=0.8597780443911218, total=   0.5s\n",
      "[CV] C=1, loss=hinge .................................................\n"
     ]
    },
    {
     "name": "stderr",
     "output_type": "stream",
     "text": [
      "C:\\Users\\ngmat\\Anaconda3\\lib\\site-packages\\sklearn\\svm\\base.py:931: ConvergenceWarning: Liblinear failed to converge, increase the number of iterations.\n",
      "  \"the number of iterations.\", ConvergenceWarning)\n"
     ]
    },
    {
     "name": "stdout",
     "output_type": "stream",
     "text": [
      "[CV] ........ C=1, loss=hinge, score=0.8571857185718572, total=   0.6s\n",
      "[CV] C=1, loss=hinge .................................................\n"
     ]
    },
    {
     "name": "stderr",
     "output_type": "stream",
     "text": [
      "C:\\Users\\ngmat\\Anaconda3\\lib\\site-packages\\sklearn\\svm\\base.py:931: ConvergenceWarning: Liblinear failed to converge, increase the number of iterations.\n",
      "  \"the number of iterations.\", ConvergenceWarning)\n"
     ]
    },
    {
     "name": "stdout",
     "output_type": "stream",
     "text": [
      "[CV] ........ C=1, loss=hinge, score=0.8502850285028503, total=   0.6s\n",
      "[CV] C=10, loss=squared_hinge ........................................\n",
      "[CV]  C=10, loss=squared_hinge, score=0.860377924415117, total=   9.5s\n",
      "[CV] C=10, loss=squared_hinge ........................................\n",
      "[CV]  C=10, loss=squared_hinge, score=0.8567356735673567, total=   8.4s\n",
      "[CV] C=10, loss=squared_hinge ........................................\n",
      "[CV]  C=10, loss=squared_hinge, score=0.8493849384938494, total=  12.2s\n",
      "[CV] C=10, loss=hinge ................................................\n"
     ]
    },
    {
     "name": "stderr",
     "output_type": "stream",
     "text": [
      "C:\\Users\\ngmat\\Anaconda3\\lib\\site-packages\\sklearn\\svm\\base.py:931: ConvergenceWarning: Liblinear failed to converge, increase the number of iterations.\n",
      "  \"the number of iterations.\", ConvergenceWarning)\n"
     ]
    },
    {
     "name": "stdout",
     "output_type": "stream",
     "text": [
      "[CV] ....... C=10, loss=hinge, score=0.8572285542891421, total=   1.5s\n",
      "[CV] C=10, loss=hinge ................................................\n"
     ]
    },
    {
     "name": "stderr",
     "output_type": "stream",
     "text": [
      "C:\\Users\\ngmat\\Anaconda3\\lib\\site-packages\\sklearn\\svm\\base.py:931: ConvergenceWarning: Liblinear failed to converge, increase the number of iterations.\n",
      "  \"the number of iterations.\", ConvergenceWarning)\n"
     ]
    },
    {
     "name": "stdout",
     "output_type": "stream",
     "text": [
      "[CV] ....... C=10, loss=hinge, score=0.8585358535853586, total=   1.4s\n",
      "[CV] C=10, loss=hinge ................................................\n"
     ]
    },
    {
     "name": "stderr",
     "output_type": "stream",
     "text": [
      "C:\\Users\\ngmat\\Anaconda3\\lib\\site-packages\\sklearn\\svm\\base.py:931: ConvergenceWarning: Liblinear failed to converge, increase the number of iterations.\n",
      "  \"the number of iterations.\", ConvergenceWarning)\n"
     ]
    },
    {
     "name": "stdout",
     "output_type": "stream",
     "text": [
      "[CV] ....... C=10, loss=hinge, score=0.8516351635163516, total=   1.5s\n",
      "[CV] C=100, loss=squared_hinge .......................................\n"
     ]
    },
    {
     "name": "stderr",
     "output_type": "stream",
     "text": [
      "C:\\Users\\ngmat\\Anaconda3\\lib\\site-packages\\sklearn\\svm\\base.py:931: ConvergenceWarning: Liblinear failed to converge, increase the number of iterations.\n",
      "  \"the number of iterations.\", ConvergenceWarning)\n"
     ]
    },
    {
     "name": "stdout",
     "output_type": "stream",
     "text": [
      "[CV]  C=100, loss=squared_hinge, score=0.8567786442711458, total=  17.6s\n",
      "[CV] C=100, loss=squared_hinge .......................................\n"
     ]
    },
    {
     "name": "stderr",
     "output_type": "stream",
     "text": [
      "C:\\Users\\ngmat\\Anaconda3\\lib\\site-packages\\sklearn\\svm\\base.py:931: ConvergenceWarning: Liblinear failed to converge, increase the number of iterations.\n",
      "  \"the number of iterations.\", ConvergenceWarning)\n"
     ]
    },
    {
     "name": "stdout",
     "output_type": "stream",
     "text": [
      "[CV]  C=100, loss=squared_hinge, score=0.8556855685568557, total=  18.1s\n",
      "[CV] C=100, loss=squared_hinge .......................................\n"
     ]
    },
    {
     "name": "stderr",
     "output_type": "stream",
     "text": [
      "C:\\Users\\ngmat\\Anaconda3\\lib\\site-packages\\sklearn\\svm\\base.py:931: ConvergenceWarning: Liblinear failed to converge, increase the number of iterations.\n",
      "  \"the number of iterations.\", ConvergenceWarning)\n"
     ]
    },
    {
     "name": "stdout",
     "output_type": "stream",
     "text": [
      "[CV]  C=100, loss=squared_hinge, score=0.8484848484848485, total=  17.5s\n",
      "[CV] C=100, loss=hinge ...............................................\n"
     ]
    },
    {
     "name": "stderr",
     "output_type": "stream",
     "text": [
      "C:\\Users\\ngmat\\Anaconda3\\lib\\site-packages\\sklearn\\svm\\base.py:931: ConvergenceWarning: Liblinear failed to converge, increase the number of iterations.\n",
      "  \"the number of iterations.\", ConvergenceWarning)\n"
     ]
    },
    {
     "name": "stdout",
     "output_type": "stream",
     "text": [
      "[CV] ...... C=100, loss=hinge, score=0.8579784043191362, total=   6.6s\n",
      "[CV] C=100, loss=hinge ...............................................\n"
     ]
    },
    {
     "name": "stderr",
     "output_type": "stream",
     "text": [
      "C:\\Users\\ngmat\\Anaconda3\\lib\\site-packages\\sklearn\\svm\\base.py:931: ConvergenceWarning: Liblinear failed to converge, increase the number of iterations.\n",
      "  \"the number of iterations.\", ConvergenceWarning)\n"
     ]
    },
    {
     "name": "stdout",
     "output_type": "stream",
     "text": [
      "[CV] ....... C=100, loss=hinge, score=0.858985898589859, total=   6.5s\n",
      "[CV] C=100, loss=hinge ...............................................\n"
     ]
    },
    {
     "name": "stderr",
     "output_type": "stream",
     "text": [
      "C:\\Users\\ngmat\\Anaconda3\\lib\\site-packages\\sklearn\\svm\\base.py:931: ConvergenceWarning: Liblinear failed to converge, increase the number of iterations.\n",
      "  \"the number of iterations.\", ConvergenceWarning)\n"
     ]
    },
    {
     "name": "stdout",
     "output_type": "stream",
     "text": [
      "[CV] ....... C=100, loss=hinge, score=0.849084908490849, total=   6.4s\n",
      "[CV] C=1000, loss=squared_hinge ......................................\n"
     ]
    },
    {
     "name": "stderr",
     "output_type": "stream",
     "text": [
      "C:\\Users\\ngmat\\Anaconda3\\lib\\site-packages\\sklearn\\svm\\base.py:931: ConvergenceWarning: Liblinear failed to converge, increase the number of iterations.\n",
      "  \"the number of iterations.\", ConvergenceWarning)\n"
     ]
    },
    {
     "name": "stdout",
     "output_type": "stream",
     "text": [
      "[CV]  C=1000, loss=squared_hinge, score=0.8531793641271745, total=  19.3s\n",
      "[CV] C=1000, loss=squared_hinge ......................................\n"
     ]
    },
    {
     "name": "stderr",
     "output_type": "stream",
     "text": [
      "C:\\Users\\ngmat\\Anaconda3\\lib\\site-packages\\sklearn\\svm\\base.py:931: ConvergenceWarning: Liblinear failed to converge, increase the number of iterations.\n",
      "  \"the number of iterations.\", ConvergenceWarning)\n"
     ]
    },
    {
     "name": "stdout",
     "output_type": "stream",
     "text": [
      "[CV]  C=1000, loss=squared_hinge, score=0.8393339333933393, total=  19.2s\n",
      "[CV] C=1000, loss=squared_hinge ......................................\n"
     ]
    },
    {
     "name": "stderr",
     "output_type": "stream",
     "text": [
      "C:\\Users\\ngmat\\Anaconda3\\lib\\site-packages\\sklearn\\svm\\base.py:931: ConvergenceWarning: Liblinear failed to converge, increase the number of iterations.\n",
      "  \"the number of iterations.\", ConvergenceWarning)\n"
     ]
    },
    {
     "name": "stdout",
     "output_type": "stream",
     "text": [
      "[CV]  C=1000, loss=squared_hinge, score=0.8166816681668166, total=  19.7s\n",
      "[CV] C=1000, loss=hinge ..............................................\n"
     ]
    },
    {
     "name": "stderr",
     "output_type": "stream",
     "text": [
      "C:\\Users\\ngmat\\Anaconda3\\lib\\site-packages\\sklearn\\svm\\base.py:931: ConvergenceWarning: Liblinear failed to converge, increase the number of iterations.\n",
      "  \"the number of iterations.\", ConvergenceWarning)\n"
     ]
    },
    {
     "name": "stdout",
     "output_type": "stream",
     "text": [
      "[CV] ..... C=1000, loss=hinge, score=0.8545290941811637, total=  19.6s\n",
      "[CV] C=1000, loss=hinge ..............................................\n"
     ]
    },
    {
     "name": "stderr",
     "output_type": "stream",
     "text": [
      "C:\\Users\\ngmat\\Anaconda3\\lib\\site-packages\\sklearn\\svm\\base.py:931: ConvergenceWarning: Liblinear failed to converge, increase the number of iterations.\n",
      "  \"the number of iterations.\", ConvergenceWarning)\n"
     ]
    },
    {
     "name": "stdout",
     "output_type": "stream",
     "text": [
      "[CV] ..... C=1000, loss=hinge, score=0.8292829282928292, total=  20.2s\n",
      "[CV] C=1000, loss=hinge ..............................................\n"
     ]
    },
    {
     "name": "stderr",
     "output_type": "stream",
     "text": [
      "C:\\Users\\ngmat\\Anaconda3\\lib\\site-packages\\sklearn\\svm\\base.py:931: ConvergenceWarning: Liblinear failed to converge, increase the number of iterations.\n",
      "  \"the number of iterations.\", ConvergenceWarning)\n",
      "[Parallel(n_jobs=1)]: Done  30 out of  30 | elapsed:  3.9min finished\n"
     ]
    },
    {
     "name": "stdout",
     "output_type": "stream",
     "text": [
      "[CV] ..... C=1000, loss=hinge, score=0.8148814881488149, total=  19.4s\n"
     ]
    },
    {
     "name": "stderr",
     "output_type": "stream",
     "text": [
      "C:\\Users\\ngmat\\Anaconda3\\lib\\site-packages\\sklearn\\model_selection\\_split.py:2053: FutureWarning: You should specify a value for 'cv' instead of relying on the default value. The default value will change from 3 to 5 in version 0.22.\n",
      "  warnings.warn(CV_WARNING, FutureWarning)\n",
      "[Parallel(n_jobs=1)]: Using backend SequentialBackend with 1 concurrent workers.\n"
     ]
    },
    {
     "name": "stdout",
     "output_type": "stream",
     "text": [
      "Fitting 3 folds for each of 10 candidates, totalling 30 fits\n",
      "[CV] C=0.1, loss=squared_hinge .......................................\n",
      "[CV]  C=0.1, loss=squared_hinge, score=0.8527294541091782, total=   0.3s\n",
      "[CV] C=0.1, loss=squared_hinge .......................................\n"
     ]
    },
    {
     "name": "stderr",
     "output_type": "stream",
     "text": [
      "[Parallel(n_jobs=1)]: Done   1 out of   1 | elapsed:    0.4s remaining:    0.0s\n"
     ]
    },
    {
     "name": "stdout",
     "output_type": "stream",
     "text": [
      "[CV]  C=0.1, loss=squared_hinge, score=0.8513351335133513, total=   0.4s\n",
      "[CV] C=0.1, loss=squared_hinge .......................................\n"
     ]
    },
    {
     "name": "stderr",
     "output_type": "stream",
     "text": [
      "[Parallel(n_jobs=1)]: Done   2 out of   2 | elapsed:    0.8s remaining:    0.0s\n"
     ]
    },
    {
     "name": "stdout",
     "output_type": "stream",
     "text": [
      "[CV]  C=0.1, loss=squared_hinge, score=0.8468346834683468, total=   0.4s\n",
      "[CV] C=0.1, loss=hinge ...............................................\n",
      "[CV] ...... C=0.1, loss=hinge, score=0.8411817636472706, total=   0.2s\n",
      "[CV] C=0.1, loss=hinge ...............................................\n",
      "[CV] ...... C=0.1, loss=hinge, score=0.8382838283828383, total=   0.2s\n",
      "[CV] C=0.1, loss=hinge ...............................................\n",
      "[CV] ...... C=0.1, loss=hinge, score=0.8348334833483348, total=   0.3s\n",
      "[CV] C=1, loss=squared_hinge .........................................\n",
      "[CV]  C=1, loss=squared_hinge, score=0.8575284943011398, total=   1.2s\n",
      "[CV] C=1, loss=squared_hinge .........................................\n",
      "[CV] .. C=1, loss=squared_hinge, score=0.86003600360036, total=   1.0s\n",
      "[CV] C=1, loss=squared_hinge .........................................\n",
      "[CV]  C=1, loss=squared_hinge, score=0.8535853585358536, total=   1.2s\n",
      "[CV] C=1, loss=hinge .................................................\n"
     ]
    },
    {
     "name": "stderr",
     "output_type": "stream",
     "text": [
      "C:\\Users\\ngmat\\Anaconda3\\lib\\site-packages\\sklearn\\svm\\base.py:931: ConvergenceWarning: Liblinear failed to converge, increase the number of iterations.\n",
      "  \"the number of iterations.\", ConvergenceWarning)\n"
     ]
    },
    {
     "name": "stdout",
     "output_type": "stream",
     "text": [
      "[CV] ........ C=1, loss=hinge, score=0.8557288542291541, total=   0.5s\n",
      "[CV] C=1, loss=hinge .................................................\n"
     ]
    },
    {
     "name": "stderr",
     "output_type": "stream",
     "text": [
      "C:\\Users\\ngmat\\Anaconda3\\lib\\site-packages\\sklearn\\svm\\base.py:931: ConvergenceWarning: Liblinear failed to converge, increase the number of iterations.\n",
      "  \"the number of iterations.\", ConvergenceWarning)\n"
     ]
    },
    {
     "name": "stdout",
     "output_type": "stream",
     "text": [
      "[CV] ........ C=1, loss=hinge, score=0.8556855685568557, total=   0.5s\n",
      "[CV] C=1, loss=hinge .................................................\n"
     ]
    },
    {
     "name": "stderr",
     "output_type": "stream",
     "text": [
      "C:\\Users\\ngmat\\Anaconda3\\lib\\site-packages\\sklearn\\svm\\base.py:931: ConvergenceWarning: Liblinear failed to converge, increase the number of iterations.\n",
      "  \"the number of iterations.\", ConvergenceWarning)\n"
     ]
    },
    {
     "name": "stdout",
     "output_type": "stream",
     "text": [
      "[CV] ........ C=1, loss=hinge, score=0.8511851185118512, total=   0.6s\n",
      "[CV] C=10, loss=squared_hinge ........................................\n",
      "[CV]  C=10, loss=squared_hinge, score=0.8582783443311338, total=   9.5s\n",
      "[CV] C=10, loss=squared_hinge ........................................\n",
      "[CV]  C=10, loss=squared_hinge, score=0.8604860486048604, total=   8.1s\n",
      "[CV] C=10, loss=squared_hinge ........................................\n",
      "[CV]  C=10, loss=squared_hinge, score=0.8511851185118512, total=   9.2s\n",
      "[CV] C=10, loss=hinge ................................................\n"
     ]
    },
    {
     "name": "stderr",
     "output_type": "stream",
     "text": [
      "C:\\Users\\ngmat\\Anaconda3\\lib\\site-packages\\sklearn\\svm\\base.py:931: ConvergenceWarning: Liblinear failed to converge, increase the number of iterations.\n",
      "  \"the number of iterations.\", ConvergenceWarning)\n"
     ]
    },
    {
     "name": "stdout",
     "output_type": "stream",
     "text": [
      "[CV] ....... C=10, loss=hinge, score=0.8549790041991602, total=   1.5s\n",
      "[CV] C=10, loss=hinge ................................................\n"
     ]
    },
    {
     "name": "stderr",
     "output_type": "stream",
     "text": [
      "C:\\Users\\ngmat\\Anaconda3\\lib\\site-packages\\sklearn\\svm\\base.py:931: ConvergenceWarning: Liblinear failed to converge, increase the number of iterations.\n",
      "  \"the number of iterations.\", ConvergenceWarning)\n"
     ]
    },
    {
     "name": "stdout",
     "output_type": "stream",
     "text": [
      "[CV] ....... C=10, loss=hinge, score=0.8586858685868587, total=   1.5s\n",
      "[CV] C=10, loss=hinge ................................................\n"
     ]
    },
    {
     "name": "stderr",
     "output_type": "stream",
     "text": [
      "C:\\Users\\ngmat\\Anaconda3\\lib\\site-packages\\sklearn\\svm\\base.py:931: ConvergenceWarning: Liblinear failed to converge, increase the number of iterations.\n",
      "  \"the number of iterations.\", ConvergenceWarning)\n"
     ]
    },
    {
     "name": "stdout",
     "output_type": "stream",
     "text": [
      "[CV] ....... C=10, loss=hinge, score=0.8498349834983498, total=   1.5s\n",
      "[CV] C=100, loss=squared_hinge .......................................\n"
     ]
    },
    {
     "name": "stderr",
     "output_type": "stream",
     "text": [
      "C:\\Users\\ngmat\\Anaconda3\\lib\\site-packages\\sklearn\\svm\\base.py:931: ConvergenceWarning: Liblinear failed to converge, increase the number of iterations.\n",
      "  \"the number of iterations.\", ConvergenceWarning)\n"
     ]
    },
    {
     "name": "stdout",
     "output_type": "stream",
     "text": [
      "[CV]  C=100, loss=squared_hinge, score=0.8569286142771446, total=  17.7s\n",
      "[CV] C=100, loss=squared_hinge .......................................\n"
     ]
    },
    {
     "name": "stderr",
     "output_type": "stream",
     "text": [
      "C:\\Users\\ngmat\\Anaconda3\\lib\\site-packages\\sklearn\\svm\\base.py:931: ConvergenceWarning: Liblinear failed to converge, increase the number of iterations.\n",
      "  \"the number of iterations.\", ConvergenceWarning)\n"
     ]
    },
    {
     "name": "stdout",
     "output_type": "stream",
     "text": [
      "[CV]  C=100, loss=squared_hinge, score=0.8567356735673567, total=  16.9s\n",
      "[CV] C=100, loss=squared_hinge .......................................\n"
     ]
    },
    {
     "name": "stderr",
     "output_type": "stream",
     "text": [
      "C:\\Users\\ngmat\\Anaconda3\\lib\\site-packages\\sklearn\\svm\\base.py:931: ConvergenceWarning: Liblinear failed to converge, increase the number of iterations.\n",
      "  \"the number of iterations.\", ConvergenceWarning)\n"
     ]
    },
    {
     "name": "stdout",
     "output_type": "stream",
     "text": [
      "[CV]  C=100, loss=squared_hinge, score=0.851035103510351, total=  17.4s\n",
      "[CV] C=100, loss=hinge ...............................................\n"
     ]
    },
    {
     "name": "stderr",
     "output_type": "stream",
     "text": [
      "C:\\Users\\ngmat\\Anaconda3\\lib\\site-packages\\sklearn\\svm\\base.py:931: ConvergenceWarning: Liblinear failed to converge, increase the number of iterations.\n",
      "  \"the number of iterations.\", ConvergenceWarning)\n"
     ]
    },
    {
     "name": "stdout",
     "output_type": "stream",
     "text": [
      "[CV] ....... C=100, loss=hinge, score=0.853629274145171, total=   6.5s\n",
      "[CV] C=100, loss=hinge ...............................................\n"
     ]
    },
    {
     "name": "stderr",
     "output_type": "stream",
     "text": [
      "C:\\Users\\ngmat\\Anaconda3\\lib\\site-packages\\sklearn\\svm\\base.py:931: ConvergenceWarning: Liblinear failed to converge, increase the number of iterations.\n",
      "  \"the number of iterations.\", ConvergenceWarning)\n"
     ]
    },
    {
     "name": "stdout",
     "output_type": "stream",
     "text": [
      "[CV] ...... C=100, loss=hinge, score=0.8571857185718572, total=   6.5s\n",
      "[CV] C=100, loss=hinge ...............................................\n"
     ]
    },
    {
     "name": "stderr",
     "output_type": "stream",
     "text": [
      "C:\\Users\\ngmat\\Anaconda3\\lib\\site-packages\\sklearn\\svm\\base.py:931: ConvergenceWarning: Liblinear failed to converge, increase the number of iterations.\n",
      "  \"the number of iterations.\", ConvergenceWarning)\n"
     ]
    },
    {
     "name": "stdout",
     "output_type": "stream",
     "text": [
      "[CV] ...... C=100, loss=hinge, score=0.8486348634863486, total=   6.4s\n",
      "[CV] C=1000, loss=squared_hinge ......................................\n"
     ]
    },
    {
     "name": "stderr",
     "output_type": "stream",
     "text": [
      "C:\\Users\\ngmat\\Anaconda3\\lib\\site-packages\\sklearn\\svm\\base.py:931: ConvergenceWarning: Liblinear failed to converge, increase the number of iterations.\n",
      "  \"the number of iterations.\", ConvergenceWarning)\n"
     ]
    },
    {
     "name": "stdout",
     "output_type": "stream",
     "text": [
      "[CV]  C=1000, loss=squared_hinge, score=0.7603479304139172, total=  19.3s\n",
      "[CV] C=1000, loss=squared_hinge ......................................\n"
     ]
    },
    {
     "name": "stderr",
     "output_type": "stream",
     "text": [
      "C:\\Users\\ngmat\\Anaconda3\\lib\\site-packages\\sklearn\\svm\\base.py:931: ConvergenceWarning: Liblinear failed to converge, increase the number of iterations.\n",
      "  \"the number of iterations.\", ConvergenceWarning)\n"
     ]
    },
    {
     "name": "stdout",
     "output_type": "stream",
     "text": [
      "[CV]  C=1000, loss=squared_hinge, score=0.818031803180318, total=  19.2s\n",
      "[CV] C=1000, loss=squared_hinge ......................................\n"
     ]
    },
    {
     "name": "stderr",
     "output_type": "stream",
     "text": [
      "C:\\Users\\ngmat\\Anaconda3\\lib\\site-packages\\sklearn\\svm\\base.py:931: ConvergenceWarning: Liblinear failed to converge, increase the number of iterations.\n",
      "  \"the number of iterations.\", ConvergenceWarning)\n"
     ]
    },
    {
     "name": "stdout",
     "output_type": "stream",
     "text": [
      "[CV]  C=1000, loss=squared_hinge, score=0.8343834383438344, total=  19.2s\n",
      "[CV] C=1000, loss=hinge ..............................................\n"
     ]
    },
    {
     "name": "stderr",
     "output_type": "stream",
     "text": [
      "C:\\Users\\ngmat\\Anaconda3\\lib\\site-packages\\sklearn\\svm\\base.py:931: ConvergenceWarning: Liblinear failed to converge, increase the number of iterations.\n",
      "  \"the number of iterations.\", ConvergenceWarning)\n"
     ]
    },
    {
     "name": "stdout",
     "output_type": "stream",
     "text": [
      "[CV] ..... C=1000, loss=hinge, score=0.8182363527294542, total=  16.3s\n",
      "[CV] C=1000, loss=hinge ..............................................\n"
     ]
    },
    {
     "name": "stderr",
     "output_type": "stream",
     "text": [
      "C:\\Users\\ngmat\\Anaconda3\\lib\\site-packages\\sklearn\\svm\\base.py:931: ConvergenceWarning: Liblinear failed to converge, increase the number of iterations.\n",
      "  \"the number of iterations.\", ConvergenceWarning)\n"
     ]
    },
    {
     "name": "stdout",
     "output_type": "stream",
     "text": [
      "[CV] ..... C=1000, loss=hinge, score=0.7416741674167416, total=  18.1s\n",
      "[CV] C=1000, loss=hinge ..............................................\n"
     ]
    },
    {
     "name": "stderr",
     "output_type": "stream",
     "text": [
      "C:\\Users\\ngmat\\Anaconda3\\lib\\site-packages\\sklearn\\svm\\base.py:931: ConvergenceWarning: Liblinear failed to converge, increase the number of iterations.\n",
      "  \"the number of iterations.\", ConvergenceWarning)\n",
      "[Parallel(n_jobs=1)]: Done  30 out of  30 | elapsed:  3.7min finished\n"
     ]
    },
    {
     "name": "stdout",
     "output_type": "stream",
     "text": [
      "[CV] ..... C=1000, loss=hinge, score=0.8229822982298229, total=  19.1s\n"
     ]
    },
    {
     "name": "stderr",
     "output_type": "stream",
     "text": [
      "C:\\Users\\ngmat\\Anaconda3\\lib\\site-packages\\sklearn\\model_selection\\_split.py:2053: FutureWarning: You should specify a value for 'cv' instead of relying on the default value. The default value will change from 3 to 5 in version 0.22.\n",
      "  warnings.warn(CV_WARNING, FutureWarning)\n",
      "[Parallel(n_jobs=1)]: Using backend SequentialBackend with 1 concurrent workers.\n"
     ]
    },
    {
     "name": "stdout",
     "output_type": "stream",
     "text": [
      "Fitting 3 folds for each of 10 candidates, totalling 30 fits\n",
      "[CV] C=0.1, loss=squared_hinge .......................................\n",
      "[CV]  C=0.1, loss=squared_hinge, score=0.8576784643071386, total=   0.3s\n",
      "[CV] C=0.1, loss=squared_hinge .......................................\n"
     ]
    },
    {
     "name": "stderr",
     "output_type": "stream",
     "text": [
      "[Parallel(n_jobs=1)]: Done   1 out of   1 | elapsed:    0.4s remaining:    0.0s\n"
     ]
    },
    {
     "name": "stdout",
     "output_type": "stream",
     "text": [
      "[CV]  C=0.1, loss=squared_hinge, score=0.8507350735073508, total=   0.4s\n",
      "[CV] C=0.1, loss=squared_hinge .......................................\n"
     ]
    },
    {
     "name": "stderr",
     "output_type": "stream",
     "text": [
      "[Parallel(n_jobs=1)]: Done   2 out of   2 | elapsed:    0.9s remaining:    0.0s\n"
     ]
    },
    {
     "name": "stdout",
     "output_type": "stream",
     "text": [
      "[CV]  C=0.1, loss=squared_hinge, score=0.8483348334833484, total=   0.3s\n",
      "[CV] C=0.1, loss=hinge ...............................................\n",
      "[CV] ...... C=0.1, loss=hinge, score=0.8465806838632274, total=   0.2s\n",
      "[CV] C=0.1, loss=hinge ...............................................\n",
      "[CV] ...... C=0.1, loss=hinge, score=0.8393339333933393, total=   0.2s\n",
      "[CV] C=0.1, loss=hinge ...............................................\n",
      "[CV] ...... C=0.1, loss=hinge, score=0.8342334233423342, total=   0.2s\n",
      "[CV] C=1, loss=squared_hinge .........................................\n",
      "[CV] . C=1, loss=squared_hinge, score=0.862627474505099, total=   1.2s\n",
      "[CV] C=1, loss=squared_hinge .........................................\n",
      "[CV]  C=1, loss=squared_hinge, score=0.8579357935793579, total=   1.0s\n",
      "[CV] C=1, loss=squared_hinge .........................................\n",
      "[CV]  C=1, loss=squared_hinge, score=0.8537353735373537, total=   1.1s\n",
      "[CV] C=1, loss=hinge .................................................\n"
     ]
    },
    {
     "name": "stderr",
     "output_type": "stream",
     "text": [
      "C:\\Users\\ngmat\\Anaconda3\\lib\\site-packages\\sklearn\\svm\\base.py:931: ConvergenceWarning: Liblinear failed to converge, increase the number of iterations.\n",
      "  \"the number of iterations.\", ConvergenceWarning)\n"
     ]
    },
    {
     "name": "stdout",
     "output_type": "stream",
     "text": [
      "[CV] ........ C=1, loss=hinge, score=0.8609778044391122, total=   0.5s\n",
      "[CV] C=1, loss=hinge .................................................\n"
     ]
    },
    {
     "name": "stderr",
     "output_type": "stream",
     "text": [
      "C:\\Users\\ngmat\\Anaconda3\\lib\\site-packages\\sklearn\\svm\\base.py:931: ConvergenceWarning: Liblinear failed to converge, increase the number of iterations.\n",
      "  \"the number of iterations.\", ConvergenceWarning)\n"
     ]
    },
    {
     "name": "stdout",
     "output_type": "stream",
     "text": [
      "[CV] ........ C=1, loss=hinge, score=0.8556855685568557, total=   0.5s\n",
      "[CV] C=1, loss=hinge .................................................\n"
     ]
    },
    {
     "name": "stderr",
     "output_type": "stream",
     "text": [
      "C:\\Users\\ngmat\\Anaconda3\\lib\\site-packages\\sklearn\\svm\\base.py:931: ConvergenceWarning: Liblinear failed to converge, increase the number of iterations.\n",
      "  \"the number of iterations.\", ConvergenceWarning)\n"
     ]
    },
    {
     "name": "stdout",
     "output_type": "stream",
     "text": [
      "[CV] ........ C=1, loss=hinge, score=0.8498349834983498, total=   0.5s\n",
      "[CV] C=10, loss=squared_hinge ........................................\n",
      "[CV]  C=10, loss=squared_hinge, score=0.8615776844631073, total=   9.2s\n",
      "[CV] C=10, loss=squared_hinge ........................................\n",
      "[CV]  C=10, loss=squared_hinge, score=0.8568856885688569, total=   8.1s\n",
      "[CV] C=10, loss=squared_hinge ........................................\n",
      "[CV]  C=10, loss=squared_hinge, score=0.8532853285328533, total=   9.1s\n",
      "[CV] C=10, loss=hinge ................................................\n"
     ]
    },
    {
     "name": "stderr",
     "output_type": "stream",
     "text": [
      "C:\\Users\\ngmat\\Anaconda3\\lib\\site-packages\\sklearn\\svm\\base.py:931: ConvergenceWarning: Liblinear failed to converge, increase the number of iterations.\n",
      "  \"the number of iterations.\", ConvergenceWarning)\n"
     ]
    },
    {
     "name": "stdout",
     "output_type": "stream",
     "text": [
      "[CV] ....... C=10, loss=hinge, score=0.8609778044391122, total=   1.4s\n",
      "[CV] C=10, loss=hinge ................................................\n"
     ]
    },
    {
     "name": "stderr",
     "output_type": "stream",
     "text": [
      "C:\\Users\\ngmat\\Anaconda3\\lib\\site-packages\\sklearn\\svm\\base.py:931: ConvergenceWarning: Liblinear failed to converge, increase the number of iterations.\n",
      "  \"the number of iterations.\", ConvergenceWarning)\n"
     ]
    },
    {
     "name": "stdout",
     "output_type": "stream",
     "text": [
      "[CV] ....... C=10, loss=hinge, score=0.8550855085508551, total=   1.5s\n",
      "[CV] C=10, loss=hinge ................................................\n"
     ]
    },
    {
     "name": "stderr",
     "output_type": "stream",
     "text": [
      "C:\\Users\\ngmat\\Anaconda3\\lib\\site-packages\\sklearn\\svm\\base.py:931: ConvergenceWarning: Liblinear failed to converge, increase the number of iterations.\n",
      "  \"the number of iterations.\", ConvergenceWarning)\n"
     ]
    },
    {
     "name": "stdout",
     "output_type": "stream",
     "text": [
      "[CV] ....... C=10, loss=hinge, score=0.8535853585358536, total=   1.5s\n",
      "[CV] C=100, loss=squared_hinge .......................................\n"
     ]
    },
    {
     "name": "stderr",
     "output_type": "stream",
     "text": [
      "C:\\Users\\ngmat\\Anaconda3\\lib\\site-packages\\sklearn\\svm\\base.py:931: ConvergenceWarning: Liblinear failed to converge, increase the number of iterations.\n",
      "  \"the number of iterations.\", ConvergenceWarning)\n"
     ]
    },
    {
     "name": "stdout",
     "output_type": "stream",
     "text": [
      "[CV]  C=100, loss=squared_hinge, score=0.8606778644271146, total=  17.4s\n",
      "[CV] C=100, loss=squared_hinge .......................................\n"
     ]
    },
    {
     "name": "stderr",
     "output_type": "stream",
     "text": [
      "C:\\Users\\ngmat\\Anaconda3\\lib\\site-packages\\sklearn\\svm\\base.py:931: ConvergenceWarning: Liblinear failed to converge, increase the number of iterations.\n",
      "  \"the number of iterations.\", ConvergenceWarning)\n"
     ]
    },
    {
     "name": "stdout",
     "output_type": "stream",
     "text": [
      "[CV]  C=100, loss=squared_hinge, score=0.8556855685568557, total=  17.3s\n",
      "[CV] C=100, loss=squared_hinge .......................................\n"
     ]
    },
    {
     "name": "stderr",
     "output_type": "stream",
     "text": [
      "C:\\Users\\ngmat\\Anaconda3\\lib\\site-packages\\sklearn\\svm\\base.py:931: ConvergenceWarning: Liblinear failed to converge, increase the number of iterations.\n",
      "  \"the number of iterations.\", ConvergenceWarning)\n"
     ]
    },
    {
     "name": "stdout",
     "output_type": "stream",
     "text": [
      "[CV]  C=100, loss=squared_hinge, score=0.8537353735373537, total=  17.8s\n",
      "[CV] C=100, loss=hinge ...............................................\n"
     ]
    },
    {
     "name": "stderr",
     "output_type": "stream",
     "text": [
      "C:\\Users\\ngmat\\Anaconda3\\lib\\site-packages\\sklearn\\svm\\base.py:931: ConvergenceWarning: Liblinear failed to converge, increase the number of iterations.\n",
      "  \"the number of iterations.\", ConvergenceWarning)\n"
     ]
    },
    {
     "name": "stdout",
     "output_type": "stream",
     "text": [
      "[CV] ....... C=100, loss=hinge, score=0.863377324535093, total=   6.5s\n",
      "[CV] C=100, loss=hinge ...............................................\n"
     ]
    },
    {
     "name": "stderr",
     "output_type": "stream",
     "text": [
      "C:\\Users\\ngmat\\Anaconda3\\lib\\site-packages\\sklearn\\svm\\base.py:931: ConvergenceWarning: Liblinear failed to converge, increase the number of iterations.\n",
      "  \"the number of iterations.\", ConvergenceWarning)\n"
     ]
    },
    {
     "name": "stdout",
     "output_type": "stream",
     "text": [
      "[CV] ...... C=100, loss=hinge, score=0.8538853885388539, total=   6.5s\n",
      "[CV] C=100, loss=hinge ...............................................\n"
     ]
    },
    {
     "name": "stderr",
     "output_type": "stream",
     "text": [
      "C:\\Users\\ngmat\\Anaconda3\\lib\\site-packages\\sklearn\\svm\\base.py:931: ConvergenceWarning: Liblinear failed to converge, increase the number of iterations.\n",
      "  \"the number of iterations.\", ConvergenceWarning)\n"
     ]
    },
    {
     "name": "stdout",
     "output_type": "stream",
     "text": [
      "[CV] ...... C=100, loss=hinge, score=0.8511851185118512, total=   6.1s\n",
      "[CV] C=1000, loss=squared_hinge ......................................\n"
     ]
    },
    {
     "name": "stderr",
     "output_type": "stream",
     "text": [
      "C:\\Users\\ngmat\\Anaconda3\\lib\\site-packages\\sklearn\\svm\\base.py:931: ConvergenceWarning: Liblinear failed to converge, increase the number of iterations.\n",
      "  \"the number of iterations.\", ConvergenceWarning)\n"
     ]
    },
    {
     "name": "stdout",
     "output_type": "stream",
     "text": [
      "[CV]  C=1000, loss=squared_hinge, score=0.8584283143371326, total=  19.2s\n",
      "[CV] C=1000, loss=squared_hinge ......................................\n"
     ]
    },
    {
     "name": "stderr",
     "output_type": "stream",
     "text": [
      "C:\\Users\\ngmat\\Anaconda3\\lib\\site-packages\\sklearn\\svm\\base.py:931: ConvergenceWarning: Liblinear failed to converge, increase the number of iterations.\n",
      "  \"the number of iterations.\", ConvergenceWarning)\n"
     ]
    },
    {
     "name": "stdout",
     "output_type": "stream",
     "text": [
      "[CV]  C=1000, loss=squared_hinge, score=0.8127812781278128, total=  19.3s\n",
      "[CV] C=1000, loss=squared_hinge ......................................\n"
     ]
    },
    {
     "name": "stderr",
     "output_type": "stream",
     "text": [
      "C:\\Users\\ngmat\\Anaconda3\\lib\\site-packages\\sklearn\\svm\\base.py:931: ConvergenceWarning: Liblinear failed to converge, increase the number of iterations.\n",
      "  \"the number of iterations.\", ConvergenceWarning)\n"
     ]
    },
    {
     "name": "stdout",
     "output_type": "stream",
     "text": [
      "[CV]  C=1000, loss=squared_hinge, score=0.8391839183918391, total=  19.3s\n",
      "[CV] C=1000, loss=hinge ..............................................\n"
     ]
    },
    {
     "name": "stderr",
     "output_type": "stream",
     "text": [
      "C:\\Users\\ngmat\\Anaconda3\\lib\\site-packages\\sklearn\\svm\\base.py:931: ConvergenceWarning: Liblinear failed to converge, increase the number of iterations.\n",
      "  \"the number of iterations.\", ConvergenceWarning)\n"
     ]
    },
    {
     "name": "stdout",
     "output_type": "stream",
     "text": [
      "[CV] ...... C=1000, loss=hinge, score=0.762747450509898, total=  19.4s\n",
      "[CV] C=1000, loss=hinge ..............................................\n"
     ]
    },
    {
     "name": "stderr",
     "output_type": "stream",
     "text": [
      "C:\\Users\\ngmat\\Anaconda3\\lib\\site-packages\\sklearn\\svm\\base.py:931: ConvergenceWarning: Liblinear failed to converge, increase the number of iterations.\n",
      "  \"the number of iterations.\", ConvergenceWarning)\n"
     ]
    },
    {
     "name": "stdout",
     "output_type": "stream",
     "text": [
      "[CV] ..... C=1000, loss=hinge, score=0.8505850585058505, total=  18.9s\n",
      "[CV] C=1000, loss=hinge ..............................................\n"
     ]
    },
    {
     "name": "stderr",
     "output_type": "stream",
     "text": [
      "C:\\Users\\ngmat\\Anaconda3\\lib\\site-packages\\sklearn\\svm\\base.py:931: ConvergenceWarning: Liblinear failed to converge, increase the number of iterations.\n",
      "  \"the number of iterations.\", ConvergenceWarning)\n",
      "[Parallel(n_jobs=1)]: Done  30 out of  30 | elapsed:  3.8min finished\n"
     ]
    },
    {
     "name": "stdout",
     "output_type": "stream",
     "text": [
      "[CV] ..... C=1000, loss=hinge, score=0.8426342634263426, total=  19.1s\n"
     ]
    },
    {
     "name": "stderr",
     "output_type": "stream",
     "text": [
      "C:\\Users\\ngmat\\Anaconda3\\lib\\site-packages\\sklearn\\model_selection\\_split.py:2053: FutureWarning: You should specify a value for 'cv' instead of relying on the default value. The default value will change from 3 to 5 in version 0.22.\n",
      "  warnings.warn(CV_WARNING, FutureWarning)\n",
      "[Parallel(n_jobs=1)]: Using backend SequentialBackend with 1 concurrent workers.\n"
     ]
    },
    {
     "name": "stdout",
     "output_type": "stream",
     "text": [
      "Fitting 3 folds for each of 10 candidates, totalling 30 fits\n",
      "[CV] C=0.1, loss=squared_hinge .......................................\n",
      "[CV]  C=0.1, loss=squared_hinge, score=0.8599280143971205, total=   0.3s\n",
      "[CV] C=0.1, loss=squared_hinge .......................................\n"
     ]
    },
    {
     "name": "stderr",
     "output_type": "stream",
     "text": [
      "[Parallel(n_jobs=1)]: Done   1 out of   1 | elapsed:    0.3s remaining:    0.0s\n"
     ]
    },
    {
     "name": "stdout",
     "output_type": "stream",
     "text": [
      "[CV]  C=0.1, loss=squared_hinge, score=0.8468346834683468, total=   0.3s\n",
      "[CV] C=0.1, loss=squared_hinge .......................................\n"
     ]
    },
    {
     "name": "stderr",
     "output_type": "stream",
     "text": [
      "[Parallel(n_jobs=1)]: Done   2 out of   2 | elapsed:    0.8s remaining:    0.0s\n"
     ]
    },
    {
     "name": "stdout",
     "output_type": "stream",
     "text": [
      "[CV]  C=0.1, loss=squared_hinge, score=0.8432343234323433, total=   0.4s\n",
      "[CV] C=0.1, loss=hinge ...............................................\n",
      "[CV] ...... C=0.1, loss=hinge, score=0.8465806838632274, total=   0.4s\n",
      "[CV] C=0.1, loss=hinge ...............................................\n",
      "[CV] ...... C=0.1, loss=hinge, score=0.8351335133513351, total=   0.3s\n",
      "[CV] C=0.1, loss=hinge ...............................................\n",
      "[CV] ...... C=0.1, loss=hinge, score=0.8315331533153315, total=   0.2s\n",
      "[CV] C=1, loss=squared_hinge .........................................\n",
      "[CV]  C=1, loss=squared_hinge, score=0.8645770845830834, total=   1.1s\n",
      "[CV] C=1, loss=squared_hinge .........................................\n",
      "[CV]  C=1, loss=squared_hinge, score=0.8523852385238524, total=   1.0s\n",
      "[CV] C=1, loss=squared_hinge .........................................\n",
      "[CV]  C=1, loss=squared_hinge, score=0.8534353435343535, total=   1.0s\n",
      "[CV] C=1, loss=hinge .................................................\n"
     ]
    },
    {
     "name": "stderr",
     "output_type": "stream",
     "text": [
      "C:\\Users\\ngmat\\Anaconda3\\lib\\site-packages\\sklearn\\svm\\base.py:931: ConvergenceWarning: Liblinear failed to converge, increase the number of iterations.\n",
      "  \"the number of iterations.\", ConvergenceWarning)\n"
     ]
    },
    {
     "name": "stdout",
     "output_type": "stream",
     "text": [
      "[CV] ........ C=1, loss=hinge, score=0.8630773845230953, total=   0.5s\n",
      "[CV] C=1, loss=hinge .................................................\n"
     ]
    },
    {
     "name": "stderr",
     "output_type": "stream",
     "text": [
      "C:\\Users\\ngmat\\Anaconda3\\lib\\site-packages\\sklearn\\svm\\base.py:931: ConvergenceWarning: Liblinear failed to converge, increase the number of iterations.\n",
      "  \"the number of iterations.\", ConvergenceWarning)\n"
     ]
    },
    {
     "name": "stdout",
     "output_type": "stream",
     "text": [
      "[CV] ........ C=1, loss=hinge, score=0.8516351635163516, total=   0.5s\n",
      "[CV] C=1, loss=hinge .................................................\n"
     ]
    },
    {
     "name": "stderr",
     "output_type": "stream",
     "text": [
      "C:\\Users\\ngmat\\Anaconda3\\lib\\site-packages\\sklearn\\svm\\base.py:931: ConvergenceWarning: Liblinear failed to converge, increase the number of iterations.\n",
      "  \"the number of iterations.\", ConvergenceWarning)\n"
     ]
    },
    {
     "name": "stdout",
     "output_type": "stream",
     "text": [
      "[CV] ........ C=1, loss=hinge, score=0.8484848484848485, total=   0.5s\n",
      "[CV] C=10, loss=squared_hinge ........................................\n",
      "[CV]  C=10, loss=squared_hinge, score=0.8650269946010798, total=  11.9s\n",
      "[CV] C=10, loss=squared_hinge ........................................\n",
      "[CV]  C=10, loss=squared_hinge, score=0.8522352235223523, total=   7.9s\n",
      "[CV] C=10, loss=squared_hinge ........................................\n",
      "[CV]  C=10, loss=squared_hinge, score=0.8525352535253525, total=   7.7s\n",
      "[CV] C=10, loss=hinge ................................................\n"
     ]
    },
    {
     "name": "stderr",
     "output_type": "stream",
     "text": [
      "C:\\Users\\ngmat\\Anaconda3\\lib\\site-packages\\sklearn\\svm\\base.py:931: ConvergenceWarning: Liblinear failed to converge, increase the number of iterations.\n",
      "  \"the number of iterations.\", ConvergenceWarning)\n"
     ]
    },
    {
     "name": "stdout",
     "output_type": "stream",
     "text": [
      "[CV] ....... C=10, loss=hinge, score=0.8629274145170965, total=   1.5s\n",
      "[CV] C=10, loss=hinge ................................................\n"
     ]
    },
    {
     "name": "stderr",
     "output_type": "stream",
     "text": [
      "C:\\Users\\ngmat\\Anaconda3\\lib\\site-packages\\sklearn\\svm\\base.py:931: ConvergenceWarning: Liblinear failed to converge, increase the number of iterations.\n",
      "  \"the number of iterations.\", ConvergenceWarning)\n"
     ]
    },
    {
     "name": "stdout",
     "output_type": "stream",
     "text": [
      "[CV] ....... C=10, loss=hinge, score=0.8511851185118512, total=   1.5s\n",
      "[CV] C=10, loss=hinge ................................................\n"
     ]
    },
    {
     "name": "stderr",
     "output_type": "stream",
     "text": [
      "C:\\Users\\ngmat\\Anaconda3\\lib\\site-packages\\sklearn\\svm\\base.py:931: ConvergenceWarning: Liblinear failed to converge, increase the number of iterations.\n",
      "  \"the number of iterations.\", ConvergenceWarning)\n"
     ]
    },
    {
     "name": "stdout",
     "output_type": "stream",
     "text": [
      "[CV] ....... C=10, loss=hinge, score=0.8528352835283528, total=   1.4s\n",
      "[CV] C=100, loss=squared_hinge .......................................\n"
     ]
    },
    {
     "name": "stderr",
     "output_type": "stream",
     "text": [
      "C:\\Users\\ngmat\\Anaconda3\\lib\\site-packages\\sklearn\\svm\\base.py:931: ConvergenceWarning: Liblinear failed to converge, increase the number of iterations.\n",
      "  \"the number of iterations.\", ConvergenceWarning)\n"
     ]
    },
    {
     "name": "stdout",
     "output_type": "stream",
     "text": [
      "[CV]  C=100, loss=squared_hinge, score=0.8623275344931014, total=  17.3s\n",
      "[CV] C=100, loss=squared_hinge .......................................\n"
     ]
    },
    {
     "name": "stderr",
     "output_type": "stream",
     "text": [
      "C:\\Users\\ngmat\\Anaconda3\\lib\\site-packages\\sklearn\\svm\\base.py:931: ConvergenceWarning: Liblinear failed to converge, increase the number of iterations.\n",
      "  \"the number of iterations.\", ConvergenceWarning)\n"
     ]
    },
    {
     "name": "stdout",
     "output_type": "stream",
     "text": [
      "[CV]  C=100, loss=squared_hinge, score=0.8502850285028503, total=  16.3s\n",
      "[CV] C=100, loss=squared_hinge .......................................\n"
     ]
    },
    {
     "name": "stderr",
     "output_type": "stream",
     "text": [
      "C:\\Users\\ngmat\\Anaconda3\\lib\\site-packages\\sklearn\\svm\\base.py:931: ConvergenceWarning: Liblinear failed to converge, increase the number of iterations.\n",
      "  \"the number of iterations.\", ConvergenceWarning)\n"
     ]
    },
    {
     "name": "stdout",
     "output_type": "stream",
     "text": [
      "[CV]  C=100, loss=squared_hinge, score=0.8526852685268527, total=  15.4s\n",
      "[CV] C=100, loss=hinge ...............................................\n"
     ]
    },
    {
     "name": "stderr",
     "output_type": "stream",
     "text": [
      "C:\\Users\\ngmat\\Anaconda3\\lib\\site-packages\\sklearn\\svm\\base.py:931: ConvergenceWarning: Liblinear failed to converge, increase the number of iterations.\n",
      "  \"the number of iterations.\", ConvergenceWarning)\n"
     ]
    },
    {
     "name": "stdout",
     "output_type": "stream",
     "text": [
      "[CV] ...... C=100, loss=hinge, score=0.8615776844631073, total=   6.5s\n",
      "[CV] C=100, loss=hinge ...............................................\n"
     ]
    },
    {
     "name": "stderr",
     "output_type": "stream",
     "text": [
      "C:\\Users\\ngmat\\Anaconda3\\lib\\site-packages\\sklearn\\svm\\base.py:931: ConvergenceWarning: Liblinear failed to converge, increase the number of iterations.\n",
      "  \"the number of iterations.\", ConvergenceWarning)\n"
     ]
    },
    {
     "name": "stdout",
     "output_type": "stream",
     "text": [
      "[CV] ...... C=100, loss=hinge, score=0.8502850285028503, total=   6.7s\n",
      "[CV] C=100, loss=hinge ...............................................\n"
     ]
    },
    {
     "name": "stderr",
     "output_type": "stream",
     "text": [
      "C:\\Users\\ngmat\\Anaconda3\\lib\\site-packages\\sklearn\\svm\\base.py:931: ConvergenceWarning: Liblinear failed to converge, increase the number of iterations.\n",
      "  \"the number of iterations.\", ConvergenceWarning)\n"
     ]
    },
    {
     "name": "stdout",
     "output_type": "stream",
     "text": [
      "[CV] ...... C=100, loss=hinge, score=0.8489348934893489, total=   6.3s\n",
      "[CV] C=1000, loss=squared_hinge ......................................\n"
     ]
    },
    {
     "name": "stderr",
     "output_type": "stream",
     "text": [
      "C:\\Users\\ngmat\\Anaconda3\\lib\\site-packages\\sklearn\\svm\\base.py:931: ConvergenceWarning: Liblinear failed to converge, increase the number of iterations.\n",
      "  \"the number of iterations.\", ConvergenceWarning)\n"
     ]
    },
    {
     "name": "stdout",
     "output_type": "stream",
     "text": [
      "[CV]  C=1000, loss=squared_hinge, score=0.8533293341331734, total=  19.8s\n",
      "[CV] C=1000, loss=squared_hinge ......................................\n"
     ]
    },
    {
     "name": "stderr",
     "output_type": "stream",
     "text": [
      "C:\\Users\\ngmat\\Anaconda3\\lib\\site-packages\\sklearn\\svm\\base.py:931: ConvergenceWarning: Liblinear failed to converge, increase the number of iterations.\n",
      "  \"the number of iterations.\", ConvergenceWarning)\n"
     ]
    },
    {
     "name": "stdout",
     "output_type": "stream",
     "text": [
      "[CV]  C=1000, loss=squared_hinge, score=0.7496249624962497, total=  19.0s\n",
      "[CV] C=1000, loss=squared_hinge ......................................\n"
     ]
    },
    {
     "name": "stderr",
     "output_type": "stream",
     "text": [
      "C:\\Users\\ngmat\\Anaconda3\\lib\\site-packages\\sklearn\\svm\\base.py:931: ConvergenceWarning: Liblinear failed to converge, increase the number of iterations.\n",
      "  \"the number of iterations.\", ConvergenceWarning)\n"
     ]
    },
    {
     "name": "stdout",
     "output_type": "stream",
     "text": [
      "[CV]  C=1000, loss=squared_hinge, score=0.7982298229822983, total=  19.0s\n",
      "[CV] C=1000, loss=hinge ..............................................\n"
     ]
    },
    {
     "name": "stderr",
     "output_type": "stream",
     "text": [
      "C:\\Users\\ngmat\\Anaconda3\\lib\\site-packages\\sklearn\\svm\\base.py:931: ConvergenceWarning: Liblinear failed to converge, increase the number of iterations.\n",
      "  \"the number of iterations.\", ConvergenceWarning)\n"
     ]
    },
    {
     "name": "stdout",
     "output_type": "stream",
     "text": [
      "[CV] ..... C=1000, loss=hinge, score=0.6498200359928015, total=  19.1s\n",
      "[CV] C=1000, loss=hinge ..............................................\n"
     ]
    },
    {
     "name": "stderr",
     "output_type": "stream",
     "text": [
      "C:\\Users\\ngmat\\Anaconda3\\lib\\site-packages\\sklearn\\svm\\base.py:931: ConvergenceWarning: Liblinear failed to converge, increase the number of iterations.\n",
      "  \"the number of iterations.\", ConvergenceWarning)\n"
     ]
    },
    {
     "name": "stdout",
     "output_type": "stream",
     "text": [
      "[CV] ..... C=1000, loss=hinge, score=0.7758775877587759, total=  19.6s\n",
      "[CV] C=1000, loss=hinge ..............................................\n"
     ]
    },
    {
     "name": "stderr",
     "output_type": "stream",
     "text": [
      "C:\\Users\\ngmat\\Anaconda3\\lib\\site-packages\\sklearn\\svm\\base.py:931: ConvergenceWarning: Liblinear failed to converge, increase the number of iterations.\n",
      "  \"the number of iterations.\", ConvergenceWarning)\n",
      "[Parallel(n_jobs=1)]: Done  30 out of  30 | elapsed:  3.8min finished\n"
     ]
    },
    {
     "name": "stdout",
     "output_type": "stream",
     "text": [
      "[CV] ..... C=1000, loss=hinge, score=0.8271827182718272, total=  20.1s\n"
     ]
    },
    {
     "name": "stderr",
     "output_type": "stream",
     "text": [
      "C:\\Users\\ngmat\\Anaconda3\\lib\\site-packages\\sklearn\\model_selection\\_split.py:2053: FutureWarning: You should specify a value for 'cv' instead of relying on the default value. The default value will change from 3 to 5 in version 0.22.\n",
      "  warnings.warn(CV_WARNING, FutureWarning)\n",
      "[Parallel(n_jobs=1)]: Using backend SequentialBackend with 1 concurrent workers.\n"
     ]
    },
    {
     "name": "stdout",
     "output_type": "stream",
     "text": [
      "Fitting 3 folds for each of 10 candidates, totalling 30 fits\n",
      "[CV] C=0.1, loss=squared_hinge .......................................\n",
      "[CV]  C=0.1, loss=squared_hinge, score=0.8569286142771446, total=   0.4s\n",
      "[CV] C=0.1, loss=squared_hinge .......................................\n"
     ]
    },
    {
     "name": "stderr",
     "output_type": "stream",
     "text": [
      "[Parallel(n_jobs=1)]: Done   1 out of   1 | elapsed:    0.4s remaining:    0.0s\n"
     ]
    },
    {
     "name": "stdout",
     "output_type": "stream",
     "text": [
      "[CV]  C=0.1, loss=squared_hinge, score=0.8486348634863486, total=   0.4s\n",
      "[CV] C=0.1, loss=squared_hinge .......................................\n"
     ]
    },
    {
     "name": "stderr",
     "output_type": "stream",
     "text": [
      "[Parallel(n_jobs=1)]: Done   2 out of   2 | elapsed:    1.0s remaining:    0.0s\n"
     ]
    },
    {
     "name": "stdout",
     "output_type": "stream",
     "text": [
      "[CV]  C=0.1, loss=squared_hinge, score=0.8511851185118512, total=   0.4s\n",
      "[CV] C=0.1, loss=hinge ...............................................\n",
      "[CV] ....... C=0.1, loss=hinge, score=0.845380923815237, total=   0.2s\n",
      "[CV] C=0.1, loss=hinge ...............................................\n",
      "[CV] ...... C=0.1, loss=hinge, score=0.8345334533453346, total=   0.2s\n",
      "[CV] C=0.1, loss=hinge ...............................................\n",
      "[CV] ...... C=0.1, loss=hinge, score=0.8381338133813382, total=   0.2s\n",
      "[CV] C=1, loss=squared_hinge .........................................\n",
      "[CV] . C=1, loss=squared_hinge, score=0.864127174565087, total=   1.1s\n",
      "[CV] C=1, loss=squared_hinge .........................................\n",
      "[CV]  C=1, loss=squared_hinge, score=0.8546354635463547, total=   1.0s\n",
      "[CV] C=1, loss=squared_hinge .........................................\n",
      "[CV]  C=1, loss=squared_hinge, score=0.8594359435943595, total=   1.0s\n",
      "[CV] C=1, loss=hinge .................................................\n"
     ]
    },
    {
     "name": "stderr",
     "output_type": "stream",
     "text": [
      "C:\\Users\\ngmat\\Anaconda3\\lib\\site-packages\\sklearn\\svm\\base.py:931: ConvergenceWarning: Liblinear failed to converge, increase the number of iterations.\n",
      "  \"the number of iterations.\", ConvergenceWarning)\n"
     ]
    },
    {
     "name": "stdout",
     "output_type": "stream",
     "text": [
      "[CV] ........ C=1, loss=hinge, score=0.8605278944211158, total=   0.6s\n",
      "[CV] C=1, loss=hinge .................................................\n"
     ]
    },
    {
     "name": "stderr",
     "output_type": "stream",
     "text": [
      "C:\\Users\\ngmat\\Anaconda3\\lib\\site-packages\\sklearn\\svm\\base.py:931: ConvergenceWarning: Liblinear failed to converge, increase the number of iterations.\n",
      "  \"the number of iterations.\", ConvergenceWarning)\n"
     ]
    },
    {
     "name": "stdout",
     "output_type": "stream",
     "text": [
      "[CV] ........ C=1, loss=hinge, score=0.8495349534953496, total=   0.6s\n",
      "[CV] C=1, loss=hinge .................................................\n"
     ]
    },
    {
     "name": "stderr",
     "output_type": "stream",
     "text": [
      "C:\\Users\\ngmat\\Anaconda3\\lib\\site-packages\\sklearn\\svm\\base.py:931: ConvergenceWarning: Liblinear failed to converge, increase the number of iterations.\n",
      "  \"the number of iterations.\", ConvergenceWarning)\n"
     ]
    },
    {
     "name": "stdout",
     "output_type": "stream",
     "text": [
      "[CV] ........ C=1, loss=hinge, score=0.8549354935493549, total=   0.5s\n",
      "[CV] C=10, loss=squared_hinge ........................................\n",
      "[CV]  C=10, loss=squared_hinge, score=0.8642771445710857, total=   9.3s\n",
      "[CV] C=10, loss=squared_hinge ........................................\n",
      "[CV]  C=10, loss=squared_hinge, score=0.854035403540354, total=  12.9s\n",
      "[CV] C=10, loss=squared_hinge ........................................\n",
      "[CV]  C=10, loss=squared_hinge, score=0.8583858385838584, total=   7.7s\n",
      "[CV] C=10, loss=hinge ................................................\n"
     ]
    },
    {
     "name": "stderr",
     "output_type": "stream",
     "text": [
      "C:\\Users\\ngmat\\Anaconda3\\lib\\site-packages\\sklearn\\svm\\base.py:931: ConvergenceWarning: Liblinear failed to converge, increase the number of iterations.\n",
      "  \"the number of iterations.\", ConvergenceWarning)\n"
     ]
    },
    {
     "name": "stdout",
     "output_type": "stream",
     "text": [
      "[CV] ....... C=10, loss=hinge, score=0.8614277144571085, total=   1.5s\n",
      "[CV] C=10, loss=hinge ................................................\n"
     ]
    },
    {
     "name": "stderr",
     "output_type": "stream",
     "text": [
      "C:\\Users\\ngmat\\Anaconda3\\lib\\site-packages\\sklearn\\svm\\base.py:931: ConvergenceWarning: Liblinear failed to converge, increase the number of iterations.\n",
      "  \"the number of iterations.\", ConvergenceWarning)\n"
     ]
    },
    {
     "name": "stdout",
     "output_type": "stream",
     "text": [
      "[CV] ....... C=10, loss=hinge, score=0.8553855385538554, total=   1.5s\n",
      "[CV] C=10, loss=hinge ................................................\n"
     ]
    },
    {
     "name": "stderr",
     "output_type": "stream",
     "text": [
      "C:\\Users\\ngmat\\Anaconda3\\lib\\site-packages\\sklearn\\svm\\base.py:931: ConvergenceWarning: Liblinear failed to converge, increase the number of iterations.\n",
      "  \"the number of iterations.\", ConvergenceWarning)\n"
     ]
    },
    {
     "name": "stdout",
     "output_type": "stream",
     "text": [
      "[CV] ....... C=10, loss=hinge, score=0.8597359735973598, total=   1.5s\n",
      "[CV] C=100, loss=squared_hinge .......................................\n"
     ]
    },
    {
     "name": "stderr",
     "output_type": "stream",
     "text": [
      "C:\\Users\\ngmat\\Anaconda3\\lib\\site-packages\\sklearn\\svm\\base.py:931: ConvergenceWarning: Liblinear failed to converge, increase the number of iterations.\n",
      "  \"the number of iterations.\", ConvergenceWarning)\n"
     ]
    },
    {
     "name": "stdout",
     "output_type": "stream",
     "text": [
      "[CV]  C=100, loss=squared_hinge, score=0.8632273545290942, total=  18.3s\n",
      "[CV] C=100, loss=squared_hinge .......................................\n"
     ]
    },
    {
     "name": "stderr",
     "output_type": "stream",
     "text": [
      "C:\\Users\\ngmat\\Anaconda3\\lib\\site-packages\\sklearn\\svm\\base.py:931: ConvergenceWarning: Liblinear failed to converge, increase the number of iterations.\n",
      "  \"the number of iterations.\", ConvergenceWarning)\n"
     ]
    },
    {
     "name": "stdout",
     "output_type": "stream",
     "text": [
      "[CV]  C=100, loss=squared_hinge, score=0.8532853285328533, total=  17.6s\n",
      "[CV] C=100, loss=squared_hinge .......................................\n"
     ]
    },
    {
     "name": "stderr",
     "output_type": "stream",
     "text": [
      "C:\\Users\\ngmat\\Anaconda3\\lib\\site-packages\\sklearn\\svm\\base.py:931: ConvergenceWarning: Liblinear failed to converge, increase the number of iterations.\n",
      "  \"the number of iterations.\", ConvergenceWarning)\n"
     ]
    },
    {
     "name": "stdout",
     "output_type": "stream",
     "text": [
      "[CV]  C=100, loss=squared_hinge, score=0.8583858385838584, total=  17.2s\n",
      "[CV] C=100, loss=hinge ...............................................\n"
     ]
    },
    {
     "name": "stderr",
     "output_type": "stream",
     "text": [
      "C:\\Users\\ngmat\\Anaconda3\\lib\\site-packages\\sklearn\\svm\\base.py:931: ConvergenceWarning: Liblinear failed to converge, increase the number of iterations.\n",
      "  \"the number of iterations.\", ConvergenceWarning)\n"
     ]
    },
    {
     "name": "stdout",
     "output_type": "stream",
     "text": [
      "[CV] ...... C=100, loss=hinge, score=0.8597780443911218, total=   6.6s\n",
      "[CV] C=100, loss=hinge ...............................................\n"
     ]
    },
    {
     "name": "stderr",
     "output_type": "stream",
     "text": [
      "C:\\Users\\ngmat\\Anaconda3\\lib\\site-packages\\sklearn\\svm\\base.py:931: ConvergenceWarning: Liblinear failed to converge, increase the number of iterations.\n",
      "  \"the number of iterations.\", ConvergenceWarning)\n"
     ]
    },
    {
     "name": "stdout",
     "output_type": "stream",
     "text": [
      "[CV] ...... C=100, loss=hinge, score=0.8546354635463547, total=   6.7s\n",
      "[CV] C=100, loss=hinge ...............................................\n"
     ]
    },
    {
     "name": "stderr",
     "output_type": "stream",
     "text": [
      "C:\\Users\\ngmat\\Anaconda3\\lib\\site-packages\\sklearn\\svm\\base.py:931: ConvergenceWarning: Liblinear failed to converge, increase the number of iterations.\n",
      "  \"the number of iterations.\", ConvergenceWarning)\n"
     ]
    },
    {
     "name": "stdout",
     "output_type": "stream",
     "text": [
      "[CV] ....... C=100, loss=hinge, score=0.858085808580858, total=   6.5s\n",
      "[CV] C=1000, loss=squared_hinge ......................................\n"
     ]
    },
    {
     "name": "stderr",
     "output_type": "stream",
     "text": [
      "C:\\Users\\ngmat\\Anaconda3\\lib\\site-packages\\sklearn\\svm\\base.py:931: ConvergenceWarning: Liblinear failed to converge, increase the number of iterations.\n",
      "  \"the number of iterations.\", ConvergenceWarning)\n"
     ]
    },
    {
     "name": "stdout",
     "output_type": "stream",
     "text": [
      "[CV]  C=1000, loss=squared_hinge, score=0.8498800239952009, total=  19.5s\n",
      "[CV] C=1000, loss=squared_hinge ......................................\n"
     ]
    },
    {
     "name": "stderr",
     "output_type": "stream",
     "text": [
      "C:\\Users\\ngmat\\Anaconda3\\lib\\site-packages\\sklearn\\svm\\base.py:931: ConvergenceWarning: Liblinear failed to converge, increase the number of iterations.\n",
      "  \"the number of iterations.\", ConvergenceWarning)\n"
     ]
    },
    {
     "name": "stdout",
     "output_type": "stream",
     "text": [
      "[CV]  C=1000, loss=squared_hinge, score=0.7961296129612961, total=  19.0s\n",
      "[CV] C=1000, loss=squared_hinge ......................................\n"
     ]
    },
    {
     "name": "stderr",
     "output_type": "stream",
     "text": [
      "C:\\Users\\ngmat\\Anaconda3\\lib\\site-packages\\sklearn\\svm\\base.py:931: ConvergenceWarning: Liblinear failed to converge, increase the number of iterations.\n",
      "  \"the number of iterations.\", ConvergenceWarning)\n"
     ]
    },
    {
     "name": "stdout",
     "output_type": "stream",
     "text": [
      "[CV]  C=1000, loss=squared_hinge, score=0.653015301530153, total=  19.4s\n",
      "[CV] C=1000, loss=hinge ..............................................\n"
     ]
    },
    {
     "name": "stderr",
     "output_type": "stream",
     "text": [
      "C:\\Users\\ngmat\\Anaconda3\\lib\\site-packages\\sklearn\\svm\\base.py:931: ConvergenceWarning: Liblinear failed to converge, increase the number of iterations.\n",
      "  \"the number of iterations.\", ConvergenceWarning)\n"
     ]
    },
    {
     "name": "stdout",
     "output_type": "stream",
     "text": [
      "[CV] ..... C=1000, loss=hinge, score=0.7435512897420515, total=  19.5s\n",
      "[CV] C=1000, loss=hinge ..............................................\n"
     ]
    },
    {
     "name": "stderr",
     "output_type": "stream",
     "text": [
      "C:\\Users\\ngmat\\Anaconda3\\lib\\site-packages\\sklearn\\svm\\base.py:931: ConvergenceWarning: Liblinear failed to converge, increase the number of iterations.\n",
      "  \"the number of iterations.\", ConvergenceWarning)\n"
     ]
    },
    {
     "name": "stdout",
     "output_type": "stream",
     "text": [
      "[CV] ..... C=1000, loss=hinge, score=0.7913291329132913, total=  19.1s\n",
      "[CV] C=1000, loss=hinge ..............................................\n"
     ]
    },
    {
     "name": "stderr",
     "output_type": "stream",
     "text": [
      "C:\\Users\\ngmat\\Anaconda3\\lib\\site-packages\\sklearn\\svm\\base.py:931: ConvergenceWarning: Liblinear failed to converge, increase the number of iterations.\n",
      "  \"the number of iterations.\", ConvergenceWarning)\n",
      "[Parallel(n_jobs=1)]: Done  30 out of  30 | elapsed:  3.9min finished\n"
     ]
    },
    {
     "name": "stdout",
     "output_type": "stream",
     "text": [
      "[CV] ...... C=1000, loss=hinge, score=0.845934593459346, total=  18.8s\n"
     ]
    }
   ],
   "source": [
    "scores = cross_val_score(grid, X_emreviews, train['sentiment'], cv=5)"
   ]
  },
  {
   "cell_type": "code",
   "execution_count": 53,
   "metadata": {},
   "outputs": [],
   "source": [
    "#cross valdiate to make sure the model is stable\n",
    "scores = cross_val_score(svc, X_emreviews, train['sentiment'], cv=5)"
   ]
  },
  {
   "cell_type": "code",
   "execution_count": 54,
   "metadata": {},
   "outputs": [
    {
     "name": "stdout",
     "output_type": "stream",
     "text": [
      "[0.8574 0.8642 0.858  0.8632 0.8532]\n"
     ]
    }
   ],
   "source": [
    "print(scores)"
   ]
  }
 ],
 "metadata": {
  "kernelspec": {
   "display_name": "Python 3",
   "language": "python",
   "name": "python3"
  },
  "language_info": {
   "codemirror_mode": {
    "name": "ipython",
    "version": 3
   },
   "file_extension": ".py",
   "mimetype": "text/x-python",
   "name": "python",
   "nbconvert_exporter": "python",
   "pygments_lexer": "ipython3",
   "version": "3.7.3"
  }
 },
 "nbformat": 4,
 "nbformat_minor": 2
}
