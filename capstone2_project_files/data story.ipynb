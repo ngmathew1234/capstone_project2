{
 "cells": [
  {
   "cell_type": "code",
   "execution_count": 7,
   "metadata": {},
   "outputs": [],
   "source": [
    "import pandas as pd "
   ]
  },
  {
   "cell_type": "code",
   "execution_count": 2,
   "metadata": {},
   "outputs": [],
   "source": [
    "train = pd.read_csv(\"clean_train_reviewsbg.csv\")"
   ]
  },
  {
   "cell_type": "code",
   "execution_count": 3,
   "metadata": {},
   "outputs": [
    {
     "data": {
      "text/plain": [
       "(25000, 4)"
      ]
     },
     "execution_count": 3,
     "metadata": {},
     "output_type": "execute_result"
    }
   ],
   "source": [
    "#data set exploration to see if data got clean correctly \n",
    "train.shape"
   ]
  },
  {
   "cell_type": "code",
   "execution_count": 4,
   "metadata": {},
   "outputs": [
    {
     "data": {
      "text/plain": [
       "array(['id', 'sentiment', 'review', 'cleanReview'], dtype=object)"
      ]
     },
     "execution_count": 4,
     "metadata": {},
     "output_type": "execute_result"
    }
   ],
   "source": [
    "train.columns.values"
   ]
  },
  {
   "cell_type": "code",
   "execution_count": 5,
   "metadata": {},
   "outputs": [
    {
     "data": {
      "text/plain": [
       "0        stuff going moment mj started listening music ...\n",
       "1        classic war worlds timothy hines entertaining ...\n",
       "2        film starts manager nicholas bell giving welco...\n",
       "3        must assumed praised film greatest filmed oper...\n",
       "4        superbly trashy wondrously unpretentious explo...\n",
       "5        dont know people think bad movie got pretty go...\n",
       "6        movie could good comes way short cheesy specia...\n",
       "7        watched video friend house glad waste money bu...\n",
       "8        friend mine bought film even grossly overprice...\n",
       "9        movie full references like mad max ii wild one...\n",
       "10       happens army wetbacks towelheads godless easte...\n",
       "11       although generally like remakes believing rema...\n",
       "12       mr harvey lights candle anchored brilliant per...\n",
       "13       feeling submerged one better right must lookin...\n",
       "14       note george litman others mystery science thea...\n",
       "15       stephen king adaptation scripted king young fa...\n",
       "16       matrix exciting summer blockbuster visually fa...\n",
       "17       ulli lommel film boogey man classic average lo...\n",
       "18       movie one among indian movies would never fade...\n",
       "19       people especially young people may understand ...\n",
       "20       soylent green one best disturbing science fict...\n",
       "21       michael stearns plays mike sexually frustrated...\n",
       "22       happy go luck military swashbuckler based rath...\n",
       "23       would love two hours life back seemed several ...\n",
       "24       script movie probably found hair ball recently...\n",
       "25       looking quo vadis local video store found vers...\n",
       "26       note mad scientists everywhere going turn son ...\n",
       "27       must without doubt biggest waste film settings...\n",
       "28       intrigued synopsis every gay video days hunk c...\n",
       "29       would anyone really watch rubbish contain litt...\n",
       "                               ...                        \n",
       "24970    red rock west nicolas cage gets embroiled dead...\n",
       "24971    say ms erika eleniak favorite blonde girl ever...\n",
       "24972    spoiler warning people want see animals landsc...\n",
       "24973    call horror story without horror story irritat...\n",
       "24974    though horror film traditional sense creepy li...\n",
       "24975    black society like crack epidemics gangsta rap...\n",
       "24976    probably called movie map majority whole stupi...\n",
       "24977    attractive marjorie farrah fawcett lives fear ...\n",
       "24978    vaguely reminiscent great westerns like treasu...\n",
       "24979    admit idea expect viewing highly stylized piec...\n",
       "24980    final scene harris responds press corp worthy ...\n",
       "24981    far funniest short made two comic geniuses tim...\n",
       "24982    buster keaton fan heart broken regular basis u...\n",
       "24983    one americans grew gerry andersen marvelous cr...\n",
       "24984    visually disjointed full director apparently c...\n",
       "24985    movie holes piece swiss cheese ben affleck ser...\n",
       "24986    last november chance see film reno film festiv...\n",
       "24987    first like make correction another review film...\n",
       "24988    originally reluctant jump bandwagon watching l...\n",
       "24989    heard movie watching vh metal moments segment ...\n",
       "24990    never huge imax films cool get initial rush wh...\n",
       "24991    steve mcqueen certainly lot loyal fans certain...\n",
       "24992    sometimes wonder people get funding create mov...\n",
       "24993    student film several years concept cyber kung ...\n",
       "24994    unimaginably stupid redundant humiliating clos...\n",
       "24995    seems like consideration gone imdb reviews fil...\n",
       "24996    believe made film completely unnecessary first...\n",
       "24997    guy loser get girls needs build picked stronge...\n",
       "24998    minute documentary bu uel made early one spain...\n",
       "24999    saw movie child broke heart story unfinished e...\n",
       "Name: cleanReview, Length: 25000, dtype: object"
      ]
     },
     "execution_count": 5,
     "metadata": {},
     "output_type": "execute_result"
    }
   ],
   "source": [
    "train['cleanReview']"
   ]
  },
  {
   "cell_type": "code",
   "execution_count": 6,
   "metadata": {},
   "outputs": [
    {
     "name": "stdout",
     "output_type": "stream",
     "text": [
      "<class 'pandas.core.frame.DataFrame'>\n",
      "RangeIndex: 25000 entries, 0 to 24999\n",
      "Data columns (total 4 columns):\n",
      "id             25000 non-null object\n",
      "sentiment      25000 non-null int64\n",
      "review         25000 non-null object\n",
      "cleanReview    25000 non-null object\n",
      "dtypes: int64(1), object(3)\n",
      "memory usage: 781.3+ KB\n"
     ]
    }
   ],
   "source": [
    "train.info()"
   ]
  },
  {
   "cell_type": "code",
   "execution_count": 8,
   "metadata": {},
   "outputs": [
    {
     "data": {
      "text/plain": [
       "'stuff going moment mj started listening music watching odd documentary watched wiz watched moonwalker maybe want get certain insight guy thought really cool eighties maybe make mind whether guilty innocent moonwalker part biography part feature film remember going see cinema originally released subtle messages mj feeling towards press also obvious message drugs bad kay visually impressive course michael jackson unless remotely like mj anyway going hate find boring may call mj egotist consenting making movie mj fans would say made fans true really nice actual feature film bit finally starts minutes excluding smooth criminal sequence joe pesci convincing psychopathic powerful drug lord wants mj dead bad beyond mj overheard plans nah joe pesci character ranted wanted people know supplying drugs etc dunno maybe hates mj music lots cool things like mj turning car robot whole speed demon sequence also director must patience saint came filming kiddy bad sequence usually directors hate working one kid let alone whole bunch performing complex dance scene bottom line movie people like mj one level another think people stay away try give wholesome message ironically mj bestest buddy movie girl michael jackson truly one talented people ever grace planet guilty well attention gave subject hmmm well know people different behind closed doors know fact either extremely nice stupid guy one sickest liars hope latter'"
      ]
     },
     "execution_count": 8,
     "metadata": {},
     "output_type": "execute_result"
    }
   ],
   "source": [
    "train.loc[0]['cleanReview']"
   ]
  },
  {
   "cell_type": "code",
   "execution_count": 9,
   "metadata": {},
   "outputs": [
    {
     "data": {
      "text/plain": [
       "str"
      ]
     },
     "execution_count": 9,
     "metadata": {},
     "output_type": "execute_result"
    }
   ],
   "source": [
    "type(train['cleanReview'][0])"
   ]
  },
  {
   "cell_type": "code",
   "execution_count": 10,
   "metadata": {},
   "outputs": [],
   "source": [
    "#get a word2vec model and load it\n",
    "import gensim"
   ]
  },
  {
   "cell_type": "code",
   "execution_count": 11,
   "metadata": {},
   "outputs": [
    {
     "name": "stderr",
     "output_type": "stream",
     "text": [
      "C:\\Users\\ngmat\\Anaconda3\\lib\\site-packages\\smart_open\\smart_open_lib.py:398: UserWarning: This function is deprecated, use smart_open.open instead. See the migration notes for details: https://github.com/RaRe-Technologies/smart_open/blob/master/README.rst#migrating-to-the-new-open-function\n",
      "  'See the migration notes for details: %s' % _MIGRATION_NOTES_URL\n"
     ]
    }
   ],
   "source": [
    "model = gensim.models.KeyedVectors.load_word2vec_format('GoogleNews-vectors-negative300.bin.gz', binary=True, limit=500000)\n"
   ]
  },
  {
   "cell_type": "code",
   "execution_count": 12,
   "metadata": {},
   "outputs": [
    {
     "data": {
      "text/plain": [
       "[('saddening', 0.7273085713386536),\n",
       " ('Sad', 0.6610826253890991),\n",
       " ('saddened', 0.6604382991790771),\n",
       " ('heartbreaking', 0.6573507785797119),\n",
       " ('disheartening', 0.6507317423820496),\n",
       " ('saddens_me', 0.6407118439674377),\n",
       " ('distressing', 0.6399092674255371),\n",
       " ('saddest', 0.6345508694648743),\n",
       " ('unfortunate', 0.6272086501121521),\n",
       " ('sorry', 0.6194046139717102)]"
      ]
     },
     "execution_count": 12,
     "metadata": {},
     "output_type": "execute_result"
    }
   ],
   "source": [
    "# try the model out and similar words for random words. Just to test the model\n",
    "model.most_similar(positive=['sad'])"
   ]
  },
  {
   "cell_type": "code",
   "execution_count": 13,
   "metadata": {},
   "outputs": [
    {
     "data": {
      "text/plain": [
       "[('great', 0.7291510105133057),\n",
       " ('bad', 0.7190051078796387),\n",
       " ('terrific', 0.6889115571975708),\n",
       " ('decent', 0.6837348937988281),\n",
       " ('nice', 0.6836092472076416),\n",
       " ('excellent', 0.644292950630188),\n",
       " ('fantastic', 0.6407778263092041),\n",
       " ('better', 0.6120728254318237),\n",
       " ('solid', 0.5806034803390503),\n",
       " ('lousy', 0.5764201879501343)]"
      ]
     },
     "execution_count": 13,
     "metadata": {},
     "output_type": "execute_result"
    }
   ],
   "source": [
    "model.most_similar(positive=['good'])"
   ]
  },
  {
   "cell_type": "code",
   "execution_count": 14,
   "metadata": {},
   "outputs": [
    {
     "data": {
      "text/plain": [
       "[('good', 0.7190051078796387),\n",
       " ('terrible', 0.6828612089157104),\n",
       " ('horrible', 0.6702598333358765),\n",
       " ('Bad', 0.6698919534683228),\n",
       " ('lousy', 0.6647640466690063),\n",
       " ('crummy', 0.5677819848060608),\n",
       " ('horrid', 0.5651682615280151),\n",
       " ('awful', 0.5527253150939941),\n",
       " ('dreadful', 0.5526429414749146),\n",
       " ('horrendous', 0.5445997714996338)]"
      ]
     },
     "execution_count": 14,
     "metadata": {},
     "output_type": "execute_result"
    }
   ],
   "source": [
    "model.most_similar(positive=['bad'])"
   ]
  },
  {
   "cell_type": "code",
   "execution_count": 15,
   "metadata": {},
   "outputs": [
    {
     "data": {
      "text/plain": [
       "[('terrible', 0.92439204454422),\n",
       " ('horrendous', 0.8412426114082336),\n",
       " ('dreadful', 0.770708441734314),\n",
       " ('horrid', 0.7669703960418701),\n",
       " ('awful', 0.7597668170928955),\n",
       " ('atrocious', 0.7203570604324341),\n",
       " ('horrific', 0.7141486406326294),\n",
       " ('horrible_horrible', 0.7102487087249756),\n",
       " ('hideous', 0.697683572769165),\n",
       " ('appalling', 0.6743218898773193)]"
      ]
     },
     "execution_count": 15,
     "metadata": {},
     "output_type": "execute_result"
    }
   ],
   "source": [
    "model.most_similar(positive=['horrible'])"
   ]
  },
  {
   "cell_type": "code",
   "execution_count": 16,
   "metadata": {},
   "outputs": [
    {
     "data": {
      "text/plain": [
       "[('terrific', 0.8317593932151794),\n",
       " ('wonderful', 0.8047919273376465),\n",
       " ('great', 0.7935211658477783),\n",
       " ('amazing', 0.7789870500564575),\n",
       " ('marvelous', 0.7687596082687378),\n",
       " ('fabulous', 0.760596513748169),\n",
       " ('awesome', 0.7453290224075317),\n",
       " ('phenomenal', 0.7392951846122742),\n",
       " ('incredible', 0.730705976486206),\n",
       " ('unbelievable', 0.7045333385467529)]"
      ]
     },
     "execution_count": 16,
     "metadata": {},
     "output_type": "execute_result"
    }
   ],
   "source": [
    "model.most_similar(positive=['fantastic'])"
   ]
  },
  {
   "cell_type": "code",
   "execution_count": 17,
   "metadata": {},
   "outputs": [],
   "source": [
    "import matplotlib.pyplot as plt\n",
    "import numpy as np"
   ]
  },
  {
   "cell_type": "code",
   "execution_count": 18,
   "metadata": {},
   "outputs": [
    {
     "data": {
      "image/png": "[encoded data removed]",
      "text/plain": [
       "<Figure size 432x288 with 1 Axes>"
      ]
     },
     "metadata": {
      "needs_background": "light"
     },
     "output_type": "display_data"
    }
   ],
   "source": [
    "#see the distrbution of reviews\n",
    "objects = ('0', '1')\n",
    "y_pos = np.arange(len(objects))\n",
    "\n",
    "plt.hist(train['sentiment'])\n",
    "plt.xticks(y_pos, objects)\n",
    "plt.ylabel('Score')\n",
    "plt.title('frequency')\n",
    "\n",
    "plt.show()"
   ]
  },
  {
   "cell_type": "code",
   "execution_count": 32,
   "metadata": {},
   "outputs": [],
   "source": [
    "# see the distrbution of reviews based on certain words and their similar words\n",
    "c = model.most_similar(positive=['fantastic'])"
   ]
  },
  {
   "cell_type": "code",
   "execution_count": 33,
   "metadata": {},
   "outputs": [],
   "source": [
    "j = [i[0] for i in c]"
   ]
  },
  {
   "cell_type": "code",
   "execution_count": 34,
   "metadata": {},
   "outputs": [
    {
     "name": "stdout",
     "output_type": "stream",
     "text": [
      "['terrific', 'wonderful', 'great', 'amazing', 'marvelous', 'fabulous', 'awesome', 'phenomenal', 'incredible', 'unbelievable', 'fantastic']\n"
     ]
    }
   ],
   "source": [
    "j.append('fantastic')\n",
    "print(j)"
   ]
  },
  {
   "cell_type": "code",
   "execution_count": 25,
   "metadata": {},
   "outputs": [],
   "source": [
    "b = []\n",
    "for x in range(0, len(train)):\n",
    "    for k in j:\n",
    "        if (train.loc[x]['cleanReview'].find(k) != -1):\n",
    "            b.append(train.loc[x])\n",
    "            break"
   ]
  },
  {
   "cell_type": "code",
   "execution_count": 26,
   "metadata": {},
   "outputs": [
    {
     "data": {
      "text/plain": [
       "9968"
      ]
     },
     "execution_count": 26,
     "metadata": {},
     "output_type": "execute_result"
    }
   ],
   "source": [
    "len(b)"
   ]
  },
  {
   "cell_type": "code",
   "execution_count": 27,
   "metadata": {},
   "outputs": [
    {
     "name": "stdout",
     "output_type": "stream",
     "text": [
      "               id  sentiment  \\\n",
      "1        \"2381_9\"          1   \n",
      "3        \"3630_4\"          0   \n",
      "16       \"4489_1\"          0   \n",
      "18      \"3304_10\"          1   \n",
      "19      \"9352_10\"          1   \n",
      "20       \"3374_7\"          1   \n",
      "25       \"6581_7\"          1   \n",
      "32       \"1297_8\"          1   \n",
      "33       \"5586_8\"          1   \n",
      "35      \"11241_1\"          0   \n",
      "40       \"7897_8\"          1   \n",
      "42     \"12106_10\"          1   \n",
      "45       \"4221_8\"          1   \n",
      "51       \"2395_7\"          1   \n",
      "52       \"4439_4\"          0   \n",
      "53       \"8516_2\"          0   \n",
      "56       \"301_10\"          1   \n",
      "57      \"4155_10\"          1   \n",
      "58       \"8880_3\"          0   \n",
      "59       \"9569_9\"          1   \n",
      "60       \"1510_8\"          1   \n",
      "66      \"1150_10\"          1   \n",
      "70      \"11471_7\"          1   \n",
      "72       \"1142_3\"          0   \n",
      "73       \"6403_3\"          0   \n",
      "74       \"5440_2\"          0   \n",
      "78       \"9952_8\"          1   \n",
      "79      \"8605_10\"          1   \n",
      "81      \"11736_9\"          1   \n",
      "84      \"7168_10\"          1   \n",
      "...           ...        ...   \n",
      "24923    \"8442_9\"          1   \n",
      "24926   \"11939_4\"          0   \n",
      "24932    \"7057_9\"          1   \n",
      "24933   \"4176_10\"          1   \n",
      "24935  \"11117_10\"          1   \n",
      "24936     \"730_1\"          0   \n",
      "24937   \"9118_10\"          1   \n",
      "24940    \"2197_7\"          1   \n",
      "24943    \"9703_9\"          1   \n",
      "24944   \"8109_10\"          1   \n",
      "24945   \"9802_10\"          1   \n",
      "24949    \"5048_9\"          1   \n",
      "24953  \"11710_10\"          1   \n",
      "24955   \"7668_10\"          1   \n",
      "24958    \"6615_8\"          1   \n",
      "24959   \"7980_10\"          1   \n",
      "24960    \"6303_8\"          1   \n",
      "24961    \"9280_9\"          1   \n",
      "24962    \"2041_2\"          0   \n",
      "24969  \"11416_10\"          1   \n",
      "24972   \"1422_10\"          1   \n",
      "24978    \"9397_9\"          1   \n",
      "24979    \"5992_7\"          1   \n",
      "24982    \"3822_2\"          0   \n",
      "24983    \"5983_4\"          0   \n",
      "24986   \"6034_10\"          1   \n",
      "24987    \"1988_9\"          1   \n",
      "24991    \"9416_3\"          0   \n",
      "24993   \"10957_3\"          0   \n",
      "24999    \"8478_8\"          1   \n",
      "\n",
      "                                                  review  \\\n",
      "1      \"\\\"The Classic War of the Worlds\\\" by Timothy ...   \n",
      "3      \"It must be assumed that those who praised thi...   \n",
      "16     \"`The Matrix' was an exciting summer blockbust...   \n",
      "18     \"This movie is one among the very few Indian m...   \n",
      "19     \"Most people, especially young people, may not...   \n",
      "20     \"\\\"Soylent Green\\\" is one of the best and most...   \n",
      "25     \"Looking for Quo Vadis at my local video store...   \n",
      "32     \"Faithful adaptation of witty and interesting ...   \n",
      "33     \"Eva (Hedy Lamarr) has just got married with a...   \n",
      "35     \"If you are looking for eye candy, you may enj...   \n",
      "40     \"At first sight this movie doesn't look like a...   \n",
      "42     \"Antonio Margheriti's \\\"Danza Macabra\\\"/\\\"Cast...   \n",
      "45     \"I loved the episode but seems to me there sho...   \n",
      "51     \"Though it had the misfortune to hit the festi...   \n",
      "52     \"Yikes. This is pretty bad. The play isn't gre...   \n",
      "53     \"Last week, I took a look at the weekly Nielse...   \n",
      "56     \"'They All Laughed' is a superb Peter Bogdanov...   \n",
      "57     \"What a stunning episode for this fine series....   \n",
      "58     \"This movie was o.k. but it could have been mu...   \n",
      "59     \"As I understand it, after the Chinese took ov...   \n",
      "60     \"Yes, this IS a horror anthology film and it w...   \n",
      "66     \"WARNING: POSSIBLE SPOILERS (but not really - ...   \n",
      "70     \"I am a big fan of cinema verite and saw this ...   \n",
      "72     \"You've been fouled and beaten up in submissio...   \n",
      "73     \"....as to the level of wit on which this come...   \n",
      "74     \"I have been a huge Lynn Peterson fan ever sin...   \n",
      "78     \"Before watching this movie I thought this mov...   \n",
      "79     \"Jeanette MacDonald and Nelson Eddy star in th...   \n",
      "81     \"Those who are not familiar with Cassandra Pet...   \n",
      "84     \"And I'm serious! Truly one of the most fantas...   \n",
      "...                                                  ...   \n",
      "24923  \"The movie was excellent, save for some of the...   \n",
      "24926  \"Let me tell you something about this movie. I...   \n",
      "24932  \"As an adult I really did enjoy this one. I wa...   \n",
      "24933  \"What an amazing film. With very little dialog...   \n",
      "24935  \"Not only do the storylines in \\\"The Sopranos\\...   \n",
      "24936  \"I have not seen the first film and if it anyt...   \n",
      "24937  \"I saw this film with a special screening of t...   \n",
      "24940  \"I am quite the Mitchell Leisen fan so it was ...   \n",
      "24943  \"One of the best comedy series to ever come ou...   \n",
      "24944  \"H.G. Wells story the shape of things to come ...   \n",
      "24945  \"For starters I have always been a fan of the ...   \n",
      "24949  \"This is a very dark and intriguing horror typ...   \n",
      "24953  \"Long before Tim LaHaye and Jerry B. Jenkins w...   \n",
      "24955  \"I loved this movie for two reasons: 1) Jeff C...   \n",
      "24958  \"I am glad being able to say almost only posit...   \n",
      "24959  \"Man On Fire tells a story of an ex-special fo...   \n",
      "24960  \"Having heard quite positive reviews and havin...   \n",
      "24961  \"In Iran, women are officially banned from men...   \n",
      "24962  \"Well I'll start with the good points. The mov...   \n",
      "24969  \"An excellent family movie... gives a lot to t...   \n",
      "24972  \"The spoiler warning is for those people who w...   \n",
      "24978  \"Vaguely reminiscent of great 1940's westerns,...   \n",
      "24979  \"I admit I had no idea what to expect before v...   \n",
      "24982  \"To be a Buster Keaton fan is to have your hea...   \n",
      "24983  \"I was one of those \\\"few Americans\\\" that gre...   \n",
      "24986  \"Last November, I had a chance to see this fil...   \n",
      "24987  \"First off, I'd like to make a correction on a...   \n",
      "24991  \"Steve McQueen has certainly a lot of loyal fa...   \n",
      "24993  \"I am a student of film, and have been for sev...   \n",
      "24999  \"I saw this movie as a child and it broke my h...   \n",
      "\n",
      "                                             cleanReview  \n",
      "1      classic war worlds timothy hines entertaining ...  \n",
      "3      must assumed praised film greatest filmed oper...  \n",
      "16     matrix exciting summer blockbuster visually fa...  \n",
      "18     movie one among indian movies would never fade...  \n",
      "19     people especially young people may understand ...  \n",
      "20     soylent green one best disturbing science fict...  \n",
      "25     looking quo vadis local video store found vers...  \n",
      "32     faithful adaptation witty interesting french n...  \n",
      "33     eva hedy lamarr got married older man honeymoo...  \n",
      "35     looking eye candy may enjoy sky captain sky ca...  \n",
      "40     first sight movie look like particular great o...  \n",
      "42     antonio margheriti danza macabra castle blood ...  \n",
      "45     loved episode seems quick reference secretary ...  \n",
      "51     though misfortune hit festival circuit austin ...  \n",
      "52     yikes pretty bad play great begin decision tra...  \n",
      "53     last week took look weekly nielsen ratings ver...  \n",
      "56     laughed superb peter bogdanovich finally getti...  \n",
      "57     stunning episode fine series television excell...  \n",
      "58     movie k could much better spooky moments enoug...  \n",
      "59     understand chinese took hong kong infamous cat...  \n",
      "60     yes horror anthology film lot fun although fil...  \n",
      "66     warning possible spoilers really keep reading ...  \n",
      "70     big fan cinema verite saw movie heard interest...  \n",
      "72     fouled beaten submission harsh statements femm...  \n",
      "73     level wit comedy operates barely even reaching...  \n",
      "74     huge lynn peterson fan ever since breakthrough...  \n",
      "78     watching movie thought movie great flashpoint ...  \n",
      "79     jeanette macdonald nelson eddy star modern mus...  \n",
      "81     familiar cassandra peterson alter ego elvira g...  \n",
      "84     serious truly one fantastic films ever pleasur...  \n",
      "...                                                  ...  \n",
      "24923  movie excellent save scenes esposito enjoyed b...  \n",
      "24926  let tell something movie seen twice first time...  \n",
      "24932  adult really enjoy one watched granddaughters ...  \n",
      "24933  amazing film little dialogue whole story told ...  \n",
      "24935  storylines sopranos engage audiences think lea...  \n",
      "24936  seen first film anything like great desire wat...  \n",
      "24937  saw film special screening work owen alik shah...  \n",
      "24940  quite mitchell leisen fan great anticipation r...  \n",
      "24943  one best comedy series ever come britain mark ...  \n",
      "24944  h g wells story shape things come made movie w...  \n",
      "24945  starters always fan batman cartoons theme univ...  \n",
      "24949  dark intriguing horror type thriller based ide...  \n",
      "24953  long tim lahaye jerry b jenkins would shake wo...  \n",
      "24955  loved movie two reasons jeff combs absolutely ...  \n",
      "24958  glad able say almost positive things movie kar...  \n",
      "24959  man fire tells story ex special forces guy dri...  \n",
      "24960  heard quite positive reviews seen trailer see ...  \n",
      "24961  iran women officially banned men sporting even...  \n",
      "24962  well start good points movie minutes long bad ...  \n",
      "24969  excellent family movie gives lot think absolut...  \n",
      "24972  spoiler warning people want see animals landsc...  \n",
      "24978  vaguely reminiscent great westerns like treasu...  \n",
      "24979  admit idea expect viewing highly stylized piec...  \n",
      "24982  buster keaton fan heart broken regular basis u...  \n",
      "24983  one americans grew gerry andersen marvelous cr...  \n",
      "24986  last november chance see film reno film festiv...  \n",
      "24987  first like make correction another review film...  \n",
      "24991  steve mcqueen certainly lot loyal fans certain...  \n",
      "24993  student film several years concept cyber kung ...  \n",
      "24999  saw movie child broke heart story unfinished e...  \n",
      "\n",
      "[9968 rows x 4 columns]\n"
     ]
    }
   ],
   "source": [
    "dfObj = pd.DataFrame(b) \n",
    "print(dfObj)"
   ]
  },
  {
   "cell_type": "code",
   "execution_count": 30,
   "metadata": {},
   "outputs": [
    {
     "data": {
      "image/png": "[encoded data removed]",
      "text/plain": [
       "<Figure size 432x288 with 1 Axes>"
      ]
     },
     "metadata": {
      "needs_background": "light"
     },
     "output_type": "display_data"
    }
   ],
   "source": [
    "objects = ('0', '1')\n",
    "y_pos = np.arange(len(objects))\n",
    "\n",
    "plt.hist(dfObj['sentiment'])\n",
    "plt.xticks(y_pos, objects)\n",
    "plt.ylabel('Score')\n",
    "plt.title('Frequency for Fantastic and similar words')\n",
    "\n",
    "plt.show()"
   ]
  },
  {
   "cell_type": "code",
   "execution_count": 35,
   "metadata": {},
   "outputs": [],
   "source": [
    "c = model.most_similar(positive=['horrible'])"
   ]
  },
  {
   "cell_type": "code",
   "execution_count": 36,
   "metadata": {},
   "outputs": [],
   "source": [
    "j = [i[0] for i in c]"
   ]
  },
  {
   "cell_type": "code",
   "execution_count": 37,
   "metadata": {},
   "outputs": [
    {
     "name": "stdout",
     "output_type": "stream",
     "text": [
      "['terrible', 'horrendous', 'dreadful', 'horrid', 'awful', 'atrocious', 'horrific', 'horrible_horrible', 'hideous', 'appalling', 'horrible']\n"
     ]
    }
   ],
   "source": [
    "j.append('horrible')\n",
    "print(j)"
   ]
  },
  {
   "cell_type": "code",
   "execution_count": 38,
   "metadata": {},
   "outputs": [],
   "source": [
    "b = []\n",
    "for x in range(0, len(train)):\n",
    "    for k in j:\n",
    "        if (train.loc[x]['cleanReview'].find(k) != -1):\n",
    "            b.append(train.loc[x])\n",
    "            break"
   ]
  },
  {
   "cell_type": "code",
   "execution_count": 39,
   "metadata": {},
   "outputs": [
    {
     "data": {
      "text/plain": [
       "4168"
      ]
     },
     "execution_count": 39,
     "metadata": {},
     "output_type": "execute_result"
    }
   ],
   "source": [
    "len(b)"
   ]
  },
  {
   "cell_type": "code",
   "execution_count": 40,
   "metadata": {},
   "outputs": [
    {
     "name": "stdout",
     "output_type": "stream",
     "text": [
      "               id  sentiment  \\\n",
      "4        \"9495_8\"          1   \n",
      "17       \"3951_2\"          0   \n",
      "21      \"10782_7\"          1   \n",
      "33       \"5586_8\"          1   \n",
      "34       \"1119_1\"          0   \n",
      "35      \"11241_1\"          0   \n",
      "43      \"11427_1\"          0   \n",
      "48       \"7316_1\"          0   \n",
      "76       \"8459_3\"          0   \n",
      "85       \"9060_1\"          0   \n",
      "88     \"10533_10\"          1   \n",
      "101      \"8157_4\"          0   \n",
      "108      \"9170_1\"          0   \n",
      "110      \"2493_1\"          0   \n",
      "111      \"1587_2\"          0   \n",
      "120      \"2229_7\"          1   \n",
      "122       \"116_1\"          0   \n",
      "124     \"10069_1\"          0   \n",
      "125      \"2982_1\"          0   \n",
      "126      \"2119_4\"          0   \n",
      "131      \"8132_3\"          0   \n",
      "142      \"3160_1\"          0   \n",
      "144      \"4886_1\"          0   \n",
      "146      \"9934_3\"          0   \n",
      "149     \"11973_4\"          0   \n",
      "153      \"8125_7\"          1   \n",
      "155      \"5752_1\"          0   \n",
      "159      \"5427_3\"          0   \n",
      "162      \"2326_8\"          1   \n",
      "169      \"8273_2\"          0   \n",
      "...           ...        ...   \n",
      "24758    \"7293_3\"          0   \n",
      "24760     \"879_2\"          0   \n",
      "24768    \"5122_3\"          0   \n",
      "24770    \"9447_1\"          0   \n",
      "24787    \"5370_7\"          1   \n",
      "24795    \"7636_2\"          0   \n",
      "24817   \"12220_8\"          1   \n",
      "24818    \"1195_1\"          0   \n",
      "24824    \"6187_2\"          0   \n",
      "24829    \"3316_2\"          0   \n",
      "24830   \"10986_1\"          0   \n",
      "24832    \"5714_1\"          0   \n",
      "24848    \"7347_1\"          0   \n",
      "24852    \"7391_2\"          0   \n",
      "24869    \"2384_1\"          0   \n",
      "24870    \"4640_3\"          0   \n",
      "24884    \"6183_7\"          1   \n",
      "24913    \"8062_8\"          1   \n",
      "24920    \"5016_1\"          0   \n",
      "24922    \"5559_1\"          0   \n",
      "24926   \"11939_4\"          0   \n",
      "24935  \"11117_10\"          1   \n",
      "24939    \"9933_1\"          0   \n",
      "24948   \"10114_1\"          0   \n",
      "24957    \"9083_1\"          0   \n",
      "24962    \"2041_2\"          0   \n",
      "24967    \"7061_1\"          0   \n",
      "24987    \"1988_9\"          1   \n",
      "24989    \"5974_7\"          1   \n",
      "24994    \"2372_1\"          0   \n",
      "\n",
      "                                                  review  \\\n",
      "4      \"Superbly trashy and wondrously unpretentious ...   \n",
      "17     \"Ulli Lommel's 1980 film 'The Boogey Man' is n...   \n",
      "21     \"Michael Stearns plays Mike, a sexually frustr...   \n",
      "33     \"Eva (Hedy Lamarr) has just got married with a...   \n",
      "34     \"Even if this film was allegedly a joke in res...   \n",
      "35     \"If you are looking for eye candy, you may enj...   \n",
      "43     \"I don't know who Sue Kramer, the director of ...   \n",
      "48     \"When I saw the previews for this movie, I did...   \n",
      "76     \"Some very interesting camera work and a story...   \n",
      "85     \"Channel surfing and caught this on LOGO. It w...   \n",
      "88     \"I totally agree that \\\"Nothing\\\" is a fantast...   \n",
      "101    \"Hello Mary Lou: Prom Night II starts at the H...   \n",
      "108    \"The question, when one sees a movie this bad,...   \n",
      "110    \"A truly dreadful film. I did not know initial...   \n",
      "111    \"Maybe television will be as brutal one day. M...   \n",
      "120    \"I've read some terrible things about this fil...   \n",
      "122    \"I can't believe that those praising this movi...   \n",
      "124    \"This is an awful film. Yea the girls are pret...   \n",
      "125    \"Zombie Review #3<br /><br />**Spoilers**<br /...   \n",
      "126    \"SEVEN POUNDS: EMOTIONALLY FLAT, ILLOGICAL, MO...   \n",
      "131    \"Really, the use of stock nature documentary o...   \n",
      "142    \"You know you are in trouble watching a comedy...   \n",
      "144    \"Due to budget cuts, Ethel Janowski (again pla...   \n",
      "146    \"As a casual listener of the Rolling Stones, I...   \n",
      "149    \"This is probably one of the worst French movi...   \n",
      "153    \"Things to Come is that rarity of rarities, a ...   \n",
      "155    \"I don't usually comment, but there are things...   \n",
      "159    \"A typical Goth chick (Rainbow Harvest looking...   \n",
      "162    \"Dani(Reese Witherspoon) has always been very ...   \n",
      "169    \"A lot of promise and nothing more. An all-sta...   \n",
      "...                                                  ...   \n",
      "24758  \"Aaron Spelling produced this made for televis...   \n",
      "24760  \"Casting bone to pick: David Jannsen was 38 pl...   \n",
      "24768  \"I've been scolded and scorned by fellow Chris...   \n",
      "24770  \"Most movies I can sit through easily, even if...   \n",
      "24787  \"Of all Arnold's mid-'80s movies who would hav...   \n",
      "24795  \"I so wanted to believe in this movie after th...   \n",
      "24817  \"Very good drama about a young girl who attemp...   \n",
      "24818  \"This is the single worst movie I have ever se...   \n",
      "24824  \"This was in short a terrible disappointment. ...   \n",
      "24829  \"This was the first Ewan McGregor movie I ever...   \n",
      "24830  \"When I saw that Mary Louise Parker was associ...   \n",
      "24832  \"I have seen many good Korean Movies including...   \n",
      "24848  \"No spoilers here but I have been a fan since ...   \n",
      "24852  \"Okay like most Steven Seagal fans I know I no...   \n",
      "24869  \"Certainly one of the dozen or so worst movies...   \n",
      "24870  \"Hunters chase what they think is a man throug...   \n",
      "24884  \"Financially strapped Paramount pulled out all...   \n",
      "24913  \"Yet again, early morning television proves an...   \n",
      "24920  \"The name of Nick Stahl, the young cast and th...   \n",
      "24922  \"This is the worst movie I have ever seen. The...   \n",
      "24926  \"Let me tell you something about this movie. I...   \n",
      "24935  \"Not only do the storylines in \\\"The Sopranos\\...   \n",
      "24939  \"It was difficult to sit through this horrible...   \n",
      "24948  \"This is one of the worst films ever. I like c...   \n",
      "24957  \"It was so terrible. It wasn't fun to watch at...   \n",
      "24962  \"Well I'll start with the good points. The mov...   \n",
      "24967  \"I'm still trying to figure out if there was a...   \n",
      "24987  \"First off, I'd like to make a correction on a...   \n",
      "24989  \"I heard about this movie when watching VH1's ...   \n",
      "24994  \"Unimaginably stupid, redundant and humiliatin...   \n",
      "\n",
      "                                             cleanReview  \n",
      "4      superbly trashy wondrously unpretentious explo...  \n",
      "17     ulli lommel film boogey man classic average lo...  \n",
      "21     michael stearns plays mike sexually frustrated...  \n",
      "33     eva hedy lamarr got married older man honeymoo...  \n",
      "34     even film allegedly joke response critics stil...  \n",
      "35     looking eye candy may enjoy sky captain sky ca...  \n",
      "43     know sue kramer director film strong suspicion...  \n",
      "48     saw previews movie expect much begin around se...  \n",
      "76     interesting camera work story much potential n...  \n",
      "85     channel surfing caught logo one watch horribly...  \n",
      "88     totally agree nothing fantastic film laughed m...  \n",
      "101    hello mary lou prom night ii starts hamilton h...  \n",
      "108    question one sees movie bad necessarily movie ...  \n",
      "110    truly dreadful film know initially kiwi effort...  \n",
      "111    maybe television brutal one day maybe big brot...  \n",
      "120    read terrible things film prepared worst confu...  \n",
      "122    believe praising movie herein thinking film pr...  \n",
      "124    awful film yea girls pretty good plot cowboy g...  \n",
      "125    zombie review spoilers films actually bad good...  \n",
      "126    seven pounds emotionally flat illogical morall...  \n",
      "131    really use stock nature documentary swarming b...  \n",
      "142    know trouble watching comedy amusing parts ani...  \n",
      "144    due budget cuts ethel janowski played priscill...  \n",
      "146    casual listener rolling stones thought might i...  \n",
      "149    probably one worst french movies seen far amon...  \n",
      "153    things come rarity rarities film ideas many fi...  \n",
      "155    usually comment things need said start acting ...  \n",
      "159    typical goth chick rainbow harvest looking lik...  \n",
      "162    dani reese witherspoon always close older sist...  \n",
      "169    lot promise nothing star cast certainly hk sta...  \n",
      "...                                                  ...  \n",
      "24758  aaron spelling produced made television wester...  \n",
      "24760  casting bone pick david jannsen playing father...  \n",
      "24768  scolded scorned fellow christians stating disa...  \n",
      "24770  movies sit easily even particularly like movie...  \n",
      "24787  arnold mid movies would thought relevant today...  \n",
      "24795  wanted believe movie form mainstream comedy co...  \n",
      "24817  good drama young girl attempts unravel series ...  \n",
      "24818  single worst movie ever seen cannot express ba...  \n",
      "24824  short terrible disappointment far worst adapta...  \n",
      "24829  first ewan mcgregor movie ever saw outside sta...  \n",
      "24830  saw mary louise parker associated epic novel t...  \n",
      "24832  seen many good korean movies including thrille...  \n",
      "24848  spoilers fan since waking dead started last se...  \n",
      "24852  okay like steven seagal fans know going expect...  \n",
      "24869  certainly one dozen worst movies ever released...  \n",
      "24870  hunters chase think man forest though audience...  \n",
      "24884  financially strapped paramount pulled stops st...  \n",
      "24913  yet early morning television proves invaluable...  \n",
      "24920  name nick stahl young cast attractive cover vh...  \n",
      "24922  worst movie ever seen avengers held dubious ho...  \n",
      "24926  let tell something movie seen twice first time...  \n",
      "24935  storylines sopranos engage audiences think lea...  \n",
      "24939  difficult sit horrible heretical adaptation sh...  \n",
      "24948  one worst films ever like cheesy movies simply...  \n",
      "24957  terrible fun watch even scene girl using vibra...  \n",
      "24962  well start good points movie minutes long bad ...  \n",
      "24967  still trying figure point film content suppose...  \n",
      "24987  first like make correction another review film...  \n",
      "24989  heard movie watching vh metal moments segment ...  \n",
      "24994  unimaginably stupid redundant humiliating clos...  \n",
      "\n",
      "[4168 rows x 4 columns]\n"
     ]
    }
   ],
   "source": [
    "dfObj = pd.DataFrame(b) \n",
    "print(dfObj)"
   ]
  },
  {
   "cell_type": "code",
   "execution_count": 41,
   "metadata": {},
   "outputs": [
    {
     "data": {
      "image/png": "[encoded data removed]",
      "text/plain": [
       "<Figure size 432x288 with 1 Axes>"
      ]
     },
     "metadata": {
      "needs_background": "light"
     },
     "output_type": "display_data"
    }
   ],
   "source": [
    "objects = ('0', '1')\n",
    "y_pos = np.arange(len(objects))\n",
    "\n",
    "plt.hist(dfObj['sentiment'])\n",
    "plt.xticks(y_pos, objects)\n",
    "plt.ylabel('Score')\n",
    "plt.title('Frequency of the word horrible and similar words')\n",
    "\n",
    "plt.show()"
   ]
  },
  {
   "cell_type": "code",
   "execution_count": 42,
   "metadata": {},
   "outputs": [],
   "source": [
    "c = model.most_similar(positive=['bad'])"
   ]
  },
  {
   "cell_type": "code",
   "execution_count": 43,
   "metadata": {},
   "outputs": [],
   "source": [
    "j = [i[0] for i in c]"
   ]
  },
  {
   "cell_type": "code",
   "execution_count": 44,
   "metadata": {},
   "outputs": [
    {
     "name": "stdout",
     "output_type": "stream",
     "text": [
      "['good', 'terrible', 'horrible', 'Bad', 'lousy', 'crummy', 'horrid', 'awful', 'dreadful', 'horrendous', 'bad']\n"
     ]
    }
   ],
   "source": [
    "j.append('bad')\n",
    "print(j)"
   ]
  },
  {
   "cell_type": "code",
   "execution_count": 45,
   "metadata": {},
   "outputs": [],
   "source": [
    "b = []\n",
    "for x in range(0, len(train)):\n",
    "    for k in j:\n",
    "        if (train.loc[x]['cleanReview'].find(k) != -1):\n",
    "            b.append(train.loc[x])\n",
    "            break"
   ]
  },
  {
   "cell_type": "code",
   "execution_count": 46,
   "metadata": {},
   "outputs": [
    {
     "data": {
      "text/plain": [
       "14333"
      ]
     },
     "execution_count": 46,
     "metadata": {},
     "output_type": "execute_result"
    }
   ],
   "source": [
    "len(b)"
   ]
  },
  {
   "cell_type": "code",
   "execution_count": 47,
   "metadata": {},
   "outputs": [
    {
     "name": "stdout",
     "output_type": "stream",
     "text": [
      "              id  sentiment  \\\n",
      "0       \"5814_8\"          1   \n",
      "2       \"7759_3\"          0   \n",
      "3       \"3630_4\"          0   \n",
      "5       \"8196_8\"          1   \n",
      "6       \"7166_2\"          0   \n",
      "7      \"10633_1\"          0   \n",
      "11     \"6811_10\"          1   \n",
      "12     \"11744_9\"          1   \n",
      "13      \"7369_1\"          0   \n",
      "14     \"12081_1\"          0   \n",
      "16      \"4489_1\"          0   \n",
      "17      \"3951_2\"          0   \n",
      "21     \"10782_7\"          1   \n",
      "28      \"9152_1\"          0   \n",
      "31      \"9727_7\"          1   \n",
      "32      \"1297_8\"          1   \n",
      "33      \"5586_8\"          1   \n",
      "34      \"1119_1\"          0   \n",
      "35     \"11241_1\"          0   \n",
      "38      \"9011_9\"          1   \n",
      "39     \"11885_1\"          0   \n",
      "40      \"7897_8\"          1   \n",
      "41      \"4613_4\"          0   \n",
      "43     \"11427_1\"          0   \n",
      "47      \"9788_9\"          1   \n",
      "48      \"7316_1\"          0   \n",
      "52      \"4439_4\"          0   \n",
      "59      \"9569_9\"          1   \n",
      "60      \"1510_8\"          1   \n",
      "66     \"1150_10\"          1   \n",
      "...          ...        ...   \n",
      "24943   \"9703_9\"          1   \n",
      "24945  \"9802_10\"          1   \n",
      "24946   \"3067_1\"          0   \n",
      "24947   \"9915_2\"          0   \n",
      "24948  \"10114_1\"          0   \n",
      "24949   \"5048_9\"          1   \n",
      "24952  \"10005_7\"          1   \n",
      "24955  \"7668_10\"          1   \n",
      "24956   \"6958_7\"          1   \n",
      "24957   \"9083_1\"          0   \n",
      "24959  \"7980_10\"          1   \n",
      "24960   \"6303_8\"          1   \n",
      "24962   \"2041_2\"          0   \n",
      "24964   \"7532_4\"          0   \n",
      "24965   \"1397_7\"          1   \n",
      "24966   \"1184_3\"          0   \n",
      "24967   \"7061_1\"          0   \n",
      "24971   \"9251_9\"          1   \n",
      "24973   \"7415_2\"          0   \n",
      "24974   \"7492_7\"          1   \n",
      "24978   \"9397_9\"          1   \n",
      "24979   \"5992_7\"          1   \n",
      "24982   \"3822_2\"          0   \n",
      "24987   \"1988_9\"          1   \n",
      "24989   \"5974_7\"          1   \n",
      "24991   \"9416_3\"          0   \n",
      "24992  \"10994_1\"          0   \n",
      "24993  \"10957_3\"          0   \n",
      "24994   \"2372_1\"          0   \n",
      "24996   \"5064_1\"          0   \n",
      "\n",
      "                                                  review  \\\n",
      "0      \"With all this stuff going down at the moment ...   \n",
      "2      \"The film starts with a manager (Nicholas Bell...   \n",
      "3      \"It must be assumed that those who praised thi...   \n",
      "5      \"I dont know why people think this is such a b...   \n",
      "6      \"This movie could have been very good, but com...   \n",
      "7      \"I watched this video at a friend's house. I'm...   \n",
      "11     \"Although I generally do not like remakes beli...   \n",
      "12     \"\\\"Mr. Harvey Lights a Candle\\\" is anchored by...   \n",
      "13     \"I had a feeling that after \\\"Submerged\\\", thi...   \n",
      "14     \"note to George Litman, and others: the Myster...   \n",
      "16     \"`The Matrix' was an exciting summer blockbust...   \n",
      "17     \"Ulli Lommel's 1980 film 'The Boogey Man' is n...   \n",
      "21     \"Michael Stearns plays Mike, a sexually frustr...   \n",
      "28     \"Intrigued by the synopsis (every gay video th...   \n",
      "31     \"Simon Pegg plays a rude crude and often out o...   \n",
      "32     \"Faithful adaptation of witty and interesting ...   \n",
      "33     \"Eva (Hedy Lamarr) has just got married with a...   \n",
      "34     \"Even if this film was allegedly a joke in res...   \n",
      "35     \"If you are looking for eye candy, you may enj...   \n",
      "38     \"I found this movie quite by accident, but am ...   \n",
      "39     \"I'll dispense with the usual comparisons to a...   \n",
      "40     \"At first sight this movie doesn't look like a...   \n",
      "41     \"Well then, what is it?! I found Nicholson's c...   \n",
      "43     \"I don't know who Sue Kramer, the director of ...   \n",
      "47     \"I was at the same screenwriters conference an...   \n",
      "48     \"When I saw the previews for this movie, I did...   \n",
      "52     \"Yikes. This is pretty bad. The play isn't gre...   \n",
      "59     \"As I understand it, after the Chinese took ov...   \n",
      "60     \"Yes, this IS a horror anthology film and it w...   \n",
      "66     \"WARNING: POSSIBLE SPOILERS (but not really - ...   \n",
      "...                                                  ...   \n",
      "24943  \"One of the best comedy series to ever come ou...   \n",
      "24945  \"For starters I have always been a fan of the ...   \n",
      "24946  \"This is just plain bad. Sometimes remakes, ev...   \n",
      "24947  \"I just finished \\\"Dark Chamber\\\" aka \\\"Under ...   \n",
      "24948  \"This is one of the worst films ever. I like c...   \n",
      "24949  \"This is a very dark and intriguing horror typ...   \n",
      "24952  \"Yes its an art... to successfully make a slow...   \n",
      "24955  \"I loved this movie for two reasons: 1) Jeff C...   \n",
      "24956  \"Of those comments here before mine, I mostly ...   \n",
      "24957  \"It was so terrible. It wasn't fun to watch at...   \n",
      "24959  \"Man On Fire tells a story of an ex-special fo...   \n",
      "24960  \"Having heard quite positive reviews and havin...   \n",
      "24962  \"Well I'll start with the good points. The mov...   \n",
      "24964  \"Something I really love about this woman's sh...   \n",
      "24965  \"\\\"Shore Leave\\\" is mostly an average Star Tre...   \n",
      "24966  \"this movie had a fairly good sounding plot, b...   \n",
      "24967  \"I'm still trying to figure out if there was a...   \n",
      "24971  \"what can i say?, ms Erika Eleniak is my favor...   \n",
      "24973  \"What do you call a horror story without horro...   \n",
      "24974  \"Though not a horror film in the traditional s...   \n",
      "24978  \"Vaguely reminiscent of great 1940's westerns,...   \n",
      "24979  \"I admit I had no idea what to expect before v...   \n",
      "24982  \"To be a Buster Keaton fan is to have your hea...   \n",
      "24987  \"First off, I'd like to make a correction on a...   \n",
      "24989  \"I heard about this movie when watching VH1's ...   \n",
      "24991  \"Steve McQueen has certainly a lot of loyal fa...   \n",
      "24992  \"Sometimes you wonder how some people get fund...   \n",
      "24993  \"I am a student of film, and have been for sev...   \n",
      "24994  \"Unimaginably stupid, redundant and humiliatin...   \n",
      "24996  \"I don't believe they made this film. Complete...   \n",
      "\n",
      "                                             cleanReview  \n",
      "0      stuff going moment mj started listening music ...  \n",
      "2      film starts manager nicholas bell giving welco...  \n",
      "3      must assumed praised film greatest filmed oper...  \n",
      "5      dont know people think bad movie got pretty go...  \n",
      "6      movie could good comes way short cheesy specia...  \n",
      "7      watched video friend house glad waste money bu...  \n",
      "11     although generally like remakes believing rema...  \n",
      "12     mr harvey lights candle anchored brilliant per...  \n",
      "13     feeling submerged one better right must lookin...  \n",
      "14     note george litman others mystery science thea...  \n",
      "16     matrix exciting summer blockbuster visually fa...  \n",
      "17     ulli lommel film boogey man classic average lo...  \n",
      "21     michael stearns plays mike sexually frustrated...  \n",
      "28     intrigued synopsis every gay video days hunk c...  \n",
      "31     simon pegg plays rude crude often control cele...  \n",
      "32     faithful adaptation witty interesting french n...  \n",
      "33     eva hedy lamarr got married older man honeymoo...  \n",
      "34     even film allegedly joke response critics stil...  \n",
      "35     looking eye candy may enjoy sky captain sky ca...  \n",
      "38     found movie quite accident happy kenneth brana...  \n",
      "39     dispense usual comparisons certain legendary f...  \n",
      "40     first sight movie look like particular great o...  \n",
      "41     well found nicholson character shallow unfortu...  \n",
      "43     know sue kramer director film strong suspicion...  \n",
      "47     screenwriters conference saw movie thought wri...  \n",
      "48     saw previews movie expect much begin around se...  \n",
      "52     yikes pretty bad play great begin decision tra...  \n",
      "59     understand chinese took hong kong infamous cat...  \n",
      "60     yes horror anthology film lot fun although fil...  \n",
      "66     warning possible spoilers really keep reading ...  \n",
      "...                                                  ...  \n",
      "24943  one best comedy series ever come britain mark ...  \n",
      "24945  starters always fan batman cartoons theme univ...  \n",
      "24946  plain bad sometimes remakes even stray origina...  \n",
      "24947  finished dark chamber aka surveillance stunned...  \n",
      "24948  one worst films ever like cheesy movies simply...  \n",
      "24949  dark intriguing horror type thriller based ide...  \n",
      "24952  yes art successfully make slow paced thriller ...  \n",
      "24955  loved movie two reasons jeff combs absolutely ...  \n",
      "24956  comments mine mostly agree edyarb story script...  \n",
      "24957  terrible fun watch even scene girl using vibra...  \n",
      "24959  man fire tells story ex special forces guy dri...  \n",
      "24960  heard quite positive reviews seen trailer see ...  \n",
      "24962  well start good points movie minutes long bad ...  \n",
      "24964  something really love woman short films elusiv...  \n",
      "24965  shore leave mostly average star trek adventure...  \n",
      "24966  movie fairly good sounding plot paste slow slo...  \n",
      "24967  still trying figure point film content suppose...  \n",
      "24971  say ms erika eleniak favorite blonde girl ever...  \n",
      "24973  call horror story without horror story irritat...  \n",
      "24974  though horror film traditional sense creepy li...  \n",
      "24978  vaguely reminiscent great westerns like treasu...  \n",
      "24979  admit idea expect viewing highly stylized piec...  \n",
      "24982  buster keaton fan heart broken regular basis u...  \n",
      "24987  first like make correction another review film...  \n",
      "24989  heard movie watching vh metal moments segment ...  \n",
      "24991  steve mcqueen certainly lot loyal fans certain...  \n",
      "24992  sometimes wonder people get funding create mov...  \n",
      "24993  student film several years concept cyber kung ...  \n",
      "24994  unimaginably stupid redundant humiliating clos...  \n",
      "24996  believe made film completely unnecessary first...  \n",
      "\n",
      "[14333 rows x 4 columns]\n"
     ]
    }
   ],
   "source": [
    "dfObj = pd.DataFrame(b) \n",
    "print(dfObj)"
   ]
  },
  {
   "cell_type": "code",
   "execution_count": 50,
   "metadata": {},
   "outputs": [
    {
     "data": {
      "image/png": "[encoded data removed]",
      "text/plain": [
       "<Figure size 432x288 with 1 Axes>"
      ]
     },
     "metadata": {
      "needs_background": "light"
     },
     "output_type": "display_data"
    }
   ],
   "source": [
    "objects = ('0', '1')\n",
    "y_pos = np.arange(len(objects))\n",
    "\n",
    "plt.hist(dfObj['sentiment'])\n",
    "plt.xticks(y_pos, objects)\n",
    "plt.ylabel('Score')\n",
    "plt.title('Frequency of the word bad and similar words')\n",
    "\n",
    "plt.show()"
   ]
  },
  {
   "cell_type": "code",
   "execution_count": 54,
   "metadata": {},
   "outputs": [],
   "source": [
    "c = model.most_similar(positive=['good'])"
   ]
  },
  {
   "cell_type": "code",
   "execution_count": 55,
   "metadata": {},
   "outputs": [],
   "source": [
    "j = [i[0] for i in c]\n",
    "j.append('good')"
   ]
  },
  {
   "cell_type": "code",
   "execution_count": 56,
   "metadata": {},
   "outputs": [
    {
     "name": "stdout",
     "output_type": "stream",
     "text": [
      "['great', 'bad', 'terrific', 'decent', 'nice', 'excellent', 'fantastic', 'better', 'solid', 'lousy', 'good']\n"
     ]
    }
   ],
   "source": [
    "print(j)"
   ]
  },
  {
   "cell_type": "code",
   "execution_count": 57,
   "metadata": {},
   "outputs": [],
   "source": [
    "b = []\n",
    "for x in range(0, len(train)):\n",
    "    for k in j:\n",
    "        if (train.loc[x]['cleanReview'].find(k) != -1):\n",
    "            b.append(train.loc[x])\n",
    "            break"
   ]
  },
  {
   "cell_type": "code",
   "execution_count": 59,
   "metadata": {},
   "outputs": [
    {
     "data": {
      "text/plain": [
       "18757"
      ]
     },
     "execution_count": 59,
     "metadata": {},
     "output_type": "execute_result"
    }
   ],
   "source": [
    "len(b)"
   ]
  },
  {
   "cell_type": "code",
   "execution_count": 60,
   "metadata": {},
   "outputs": [
    {
     "name": "stdout",
     "output_type": "stream",
     "text": [
      "               id  sentiment  \\\n",
      "0        \"5814_8\"          1   \n",
      "1        \"2381_9\"          1   \n",
      "2        \"7759_3\"          0   \n",
      "3        \"3630_4\"          0   \n",
      "5        \"8196_8\"          1   \n",
      "6        \"7166_2\"          0   \n",
      "7       \"10633_1\"          0   \n",
      "10       \"2486_3\"          0   \n",
      "11      \"6811_10\"          1   \n",
      "12      \"11744_9\"          1   \n",
      "13       \"7369_1\"          0   \n",
      "14      \"12081_1\"          0   \n",
      "15       \"3561_4\"          0   \n",
      "16       \"4489_1\"          0   \n",
      "17       \"3951_2\"          0   \n",
      "18      \"3304_10\"          1   \n",
      "19      \"9352_10\"          1   \n",
      "20       \"3374_7\"          1   \n",
      "21      \"10782_7\"          1   \n",
      "26       \"2203_3\"          0   \n",
      "28       \"9152_1\"          0   \n",
      "31       \"9727_7\"          1   \n",
      "32       \"1297_8\"          1   \n",
      "33       \"5586_8\"          1   \n",
      "34       \"1119_1\"          0   \n",
      "35      \"11241_1\"          0   \n",
      "36      \"4005_10\"          1   \n",
      "38       \"9011_9\"          1   \n",
      "39      \"11885_1\"          0   \n",
      "40       \"7897_8\"          1   \n",
      "...           ...        ...   \n",
      "24958    \"6615_8\"          1   \n",
      "24959   \"7980_10\"          1   \n",
      "24960    \"6303_8\"          1   \n",
      "24961    \"9280_9\"          1   \n",
      "24962    \"2041_2\"          0   \n",
      "24964    \"7532_4\"          0   \n",
      "24965    \"1397_7\"          1   \n",
      "24966    \"1184_3\"          0   \n",
      "24969  \"11416_10\"          1   \n",
      "24971    \"9251_9\"          1   \n",
      "24972   \"1422_10\"          1   \n",
      "24973    \"7415_2\"          0   \n",
      "24974    \"7492_7\"          1   \n",
      "24975   \"7689_10\"          1   \n",
      "24976   \"12370_4\"          0   \n",
      "24978    \"9397_9\"          1   \n",
      "24979    \"5992_7\"          1   \n",
      "24982    \"3822_2\"          0   \n",
      "24983    \"5983_4\"          0   \n",
      "24986   \"6034_10\"          1   \n",
      "24987    \"1988_9\"          1   \n",
      "24989    \"5974_7\"          1   \n",
      "24991    \"9416_3\"          0   \n",
      "24992   \"10994_1\"          0   \n",
      "24993   \"10957_3\"          0   \n",
      "24994    \"2372_1\"          0   \n",
      "24996    \"5064_1\"          0   \n",
      "24997   \"10905_3\"          0   \n",
      "24998   \"10194_3\"          0   \n",
      "24999    \"8478_8\"          1   \n",
      "\n",
      "                                                  review  \\\n",
      "0      \"With all this stuff going down at the moment ...   \n",
      "1      \"\\\"The Classic War of the Worlds\\\" by Timothy ...   \n",
      "2      \"The film starts with a manager (Nicholas Bell...   \n",
      "3      \"It must be assumed that those who praised thi...   \n",
      "5      \"I dont know why people think this is such a b...   \n",
      "6      \"This movie could have been very good, but com...   \n",
      "7      \"I watched this video at a friend's house. I'm...   \n",
      "10     \"What happens when an army of wetbacks, towelh...   \n",
      "11     \"Although I generally do not like remakes beli...   \n",
      "12     \"\\\"Mr. Harvey Lights a Candle\\\" is anchored by...   \n",
      "13     \"I had a feeling that after \\\"Submerged\\\", thi...   \n",
      "14     \"note to George Litman, and others: the Myster...   \n",
      "15     \"Stephen King adaptation (scripted by King him...   \n",
      "16     \"`The Matrix' was an exciting summer blockbust...   \n",
      "17     \"Ulli Lommel's 1980 film 'The Boogey Man' is n...   \n",
      "18     \"This movie is one among the very few Indian m...   \n",
      "19     \"Most people, especially young people, may not...   \n",
      "20     \"\\\"Soylent Green\\\" is one of the best and most...   \n",
      "21     \"Michael Stearns plays Mike, a sexually frustr...   \n",
      "26     \"Note to all mad scientists everywhere: if you...   \n",
      "28     \"Intrigued by the synopsis (every gay video th...   \n",
      "31     \"Simon Pegg plays a rude crude and often out o...   \n",
      "32     \"Faithful adaptation of witty and interesting ...   \n",
      "33     \"Eva (Hedy Lamarr) has just got married with a...   \n",
      "34     \"Even if this film was allegedly a joke in res...   \n",
      "35     \"If you are looking for eye candy, you may enj...   \n",
      "36     \"Although at one point I thought this was goin...   \n",
      "38     \"I found this movie quite by accident, but am ...   \n",
      "39     \"I'll dispense with the usual comparisons to a...   \n",
      "40     \"At first sight this movie doesn't look like a...   \n",
      "...                                                  ...   \n",
      "24958  \"I am glad being able to say almost only posit...   \n",
      "24959  \"Man On Fire tells a story of an ex-special fo...   \n",
      "24960  \"Having heard quite positive reviews and havin...   \n",
      "24961  \"In Iran, women are officially banned from men...   \n",
      "24962  \"Well I'll start with the good points. The mov...   \n",
      "24964  \"Something I really love about this woman's sh...   \n",
      "24965  \"\\\"Shore Leave\\\" is mostly an average Star Tre...   \n",
      "24966  \"this movie had a fairly good sounding plot, b...   \n",
      "24969  \"An excellent family movie... gives a lot to t...   \n",
      "24971  \"what can i say?, ms Erika Eleniak is my favor...   \n",
      "24972  \"The spoiler warning is for those people who w...   \n",
      "24973  \"What do you call a horror story without horro...   \n",
      "24974  \"Though not a horror film in the traditional s...   \n",
      "24975  \"This was what black society was like before t...   \n",
      "24976  \"They probably should have called this movie T...   \n",
      "24978  \"Vaguely reminiscent of great 1940's westerns,...   \n",
      "24979  \"I admit I had no idea what to expect before v...   \n",
      "24982  \"To be a Buster Keaton fan is to have your hea...   \n",
      "24983  \"I was one of those \\\"few Americans\\\" that gre...   \n",
      "24986  \"Last November, I had a chance to see this fil...   \n",
      "24987  \"First off, I'd like to make a correction on a...   \n",
      "24989  \"I heard about this movie when watching VH1's ...   \n",
      "24991  \"Steve McQueen has certainly a lot of loyal fa...   \n",
      "24992  \"Sometimes you wonder how some people get fund...   \n",
      "24993  \"I am a student of film, and have been for sev...   \n",
      "24994  \"Unimaginably stupid, redundant and humiliatin...   \n",
      "24996  \"I don't believe they made this film. Complete...   \n",
      "24997  \"Guy is a loser. Can't get girls, needs to bui...   \n",
      "24998  \"This 30 minute documentary Buñuel made in the...   \n",
      "24999  \"I saw this movie as a child and it broke my h...   \n",
      "\n",
      "                                             cleanReview  \n",
      "0      stuff going moment mj started listening music ...  \n",
      "1      classic war worlds timothy hines entertaining ...  \n",
      "2      film starts manager nicholas bell giving welco...  \n",
      "3      must assumed praised film greatest filmed oper...  \n",
      "5      dont know people think bad movie got pretty go...  \n",
      "6      movie could good comes way short cheesy specia...  \n",
      "7      watched video friend house glad waste money bu...  \n",
      "10     happens army wetbacks towelheads godless easte...  \n",
      "11     although generally like remakes believing rema...  \n",
      "12     mr harvey lights candle anchored brilliant per...  \n",
      "13     feeling submerged one better right must lookin...  \n",
      "14     note george litman others mystery science thea...  \n",
      "15     stephen king adaptation scripted king young fa...  \n",
      "16     matrix exciting summer blockbuster visually fa...  \n",
      "17     ulli lommel film boogey man classic average lo...  \n",
      "18     movie one among indian movies would never fade...  \n",
      "19     people especially young people may understand ...  \n",
      "20     soylent green one best disturbing science fict...  \n",
      "21     michael stearns plays mike sexually frustrated...  \n",
      "26     note mad scientists everywhere going turn son ...  \n",
      "28     intrigued synopsis every gay video days hunk c...  \n",
      "31     simon pegg plays rude crude often control cele...  \n",
      "32     faithful adaptation witty interesting french n...  \n",
      "33     eva hedy lamarr got married older man honeymoo...  \n",
      "34     even film allegedly joke response critics stil...  \n",
      "35     looking eye candy may enjoy sky captain sky ca...  \n",
      "36     although one point thought going turn graduate...  \n",
      "38     found movie quite accident happy kenneth brana...  \n",
      "39     dispense usual comparisons certain legendary f...  \n",
      "40     first sight movie look like particular great o...  \n",
      "...                                                  ...  \n",
      "24958  glad able say almost positive things movie kar...  \n",
      "24959  man fire tells story ex special forces guy dri...  \n",
      "24960  heard quite positive reviews seen trailer see ...  \n",
      "24961  iran women officially banned men sporting even...  \n",
      "24962  well start good points movie minutes long bad ...  \n",
      "24964  something really love woman short films elusiv...  \n",
      "24965  shore leave mostly average star trek adventure...  \n",
      "24966  movie fairly good sounding plot paste slow slo...  \n",
      "24969  excellent family movie gives lot think absolut...  \n",
      "24971  say ms erika eleniak favorite blonde girl ever...  \n",
      "24972  spoiler warning people want see animals landsc...  \n",
      "24973  call horror story without horror story irritat...  \n",
      "24974  though horror film traditional sense creepy li...  \n",
      "24975  black society like crack epidemics gangsta rap...  \n",
      "24976  probably called movie map majority whole stupi...  \n",
      "24978  vaguely reminiscent great westerns like treasu...  \n",
      "24979  admit idea expect viewing highly stylized piec...  \n",
      "24982  buster keaton fan heart broken regular basis u...  \n",
      "24983  one americans grew gerry andersen marvelous cr...  \n",
      "24986  last november chance see film reno film festiv...  \n",
      "24987  first like make correction another review film...  \n",
      "24989  heard movie watching vh metal moments segment ...  \n",
      "24991  steve mcqueen certainly lot loyal fans certain...  \n",
      "24992  sometimes wonder people get funding create mov...  \n",
      "24993  student film several years concept cyber kung ...  \n",
      "24994  unimaginably stupid redundant humiliating clos...  \n",
      "24996  believe made film completely unnecessary first...  \n",
      "24997  guy loser get girls needs build picked stronge...  \n",
      "24998  minute documentary bu uel made early one spain...  \n",
      "24999  saw movie child broke heart story unfinished e...  \n",
      "\n",
      "[18757 rows x 4 columns]\n"
     ]
    }
   ],
   "source": [
    "dfObj = pd.DataFrame(b) \n",
    "print(dfObj)"
   ]
  },
  {
   "cell_type": "code",
   "execution_count": 62,
   "metadata": {},
   "outputs": [
    {
     "data": {
      "image/png": "[encoded data removed]",
      "text/plain": [
       "<Figure size 432x288 with 1 Axes>"
      ]
     },
     "metadata": {
      "needs_background": "light"
     },
     "output_type": "display_data"
    }
   ],
   "source": [
    "objects = ('0', '1')\n",
    "y_pos = np.arange(len(objects))\n",
    "\n",
    "plt.hist(dfObj['sentiment'])\n",
    "plt.xticks(y_pos, objects)\n",
    "plt.ylabel('Score')\n",
    "plt.title('Frequency of the word good and similar words')\n",
    "\n",
    "plt.show()"
   ]
  },
  {
   "cell_type": "code",
   "execution_count": 63,
   "metadata": {},
   "outputs": [],
   "source": [
    "c = model.most_similar(positive=['worst'])"
   ]
  },
  {
   "cell_type": "code",
   "execution_count": 64,
   "metadata": {},
   "outputs": [],
   "source": [
    "j = [i[0] for i in c]\n",
    "j.append('worst')"
   ]
  },
  {
   "cell_type": "code",
   "execution_count": 65,
   "metadata": {},
   "outputs": [
    {
     "name": "stdout",
     "output_type": "stream",
     "text": [
      "['Worst', 'weakest', 'scariest', 'ugliest', 'best', 'bleakest', 'strongest', 'nastiest', 'lousiest', 'toughest', 'worst']\n"
     ]
    }
   ],
   "source": [
    "print(j)"
   ]
  },
  {
   "cell_type": "code",
   "execution_count": 66,
   "metadata": {},
   "outputs": [],
   "source": [
    "b = []\n",
    "for x in range(0, len(train)):\n",
    "    for k in j:\n",
    "        if (train.loc[x]['cleanReview'].find(k) != -1):\n",
    "            b.append(train.loc[x])\n",
    "            break"
   ]
  },
  {
   "cell_type": "code",
   "execution_count": 67,
   "metadata": {},
   "outputs": [
    {
     "data": {
      "text/plain": [
       "6960"
      ]
     },
     "execution_count": 67,
     "metadata": {},
     "output_type": "execute_result"
    }
   ],
   "source": [
    "len(b)"
   ]
  },
  {
   "cell_type": "code",
   "execution_count": 77,
   "metadata": {},
   "outputs": [
    {
     "name": "stdout",
     "output_type": "stream",
     "text": [
      "               id  sentiment  \\\n",
      "0        \"5814_8\"          1   \n",
      "2        \"7759_3\"          0   \n",
      "3        \"3630_4\"          0   \n",
      "5        \"8196_8\"          1   \n",
      "6        \"7166_2\"          0   \n",
      "8         \"319_1\"          0   \n",
      "11      \"6811_10\"          1   \n",
      "12      \"11744_9\"          1   \n",
      "14      \"12081_1\"          0   \n",
      "15       \"3561_4\"          0   \n",
      "16       \"4489_1\"          0   \n",
      "17       \"3951_2\"          0   \n",
      "20       \"3374_7\"          1   \n",
      "21      \"10782_7\"          1   \n",
      "26       \"2203_3\"          0   \n",
      "28       \"9152_1\"          0   \n",
      "29       \"6077_1\"          0   \n",
      "32       \"1297_8\"          1   \n",
      "34       \"1119_1\"          0   \n",
      "35      \"11241_1\"          0   \n",
      "38       \"9011_9\"          1   \n",
      "39      \"11885_1\"          0   \n",
      "41       \"4613_4\"          0   \n",
      "42     \"12106_10\"          1   \n",
      "45       \"4221_8\"          1   \n",
      "47       \"9788_9\"          1   \n",
      "52       \"4439_4\"          0   \n",
      "53       \"8516_2\"          0   \n",
      "57      \"4155_10\"          1   \n",
      "59       \"9569_9\"          1   \n",
      "...           ...        ...   \n",
      "24943    \"9703_9\"          1   \n",
      "24945   \"9802_10\"          1   \n",
      "24946    \"3067_1\"          0   \n",
      "24947    \"9915_2\"          0   \n",
      "24948   \"10114_1\"          0   \n",
      "24949    \"5048_9\"          1   \n",
      "24952   \"10005_7\"          1   \n",
      "24954   \"12002_1\"          0   \n",
      "24955   \"7668_10\"          1   \n",
      "24956    \"6958_7\"          1   \n",
      "24957    \"9083_1\"          0   \n",
      "24959   \"7980_10\"          1   \n",
      "24960    \"6303_8\"          1   \n",
      "24961    \"9280_9\"          1   \n",
      "24962    \"2041_2\"          0   \n",
      "24963   \"3161_10\"          1   \n",
      "24964    \"7532_4\"          0   \n",
      "24965    \"1397_7\"          1   \n",
      "24966    \"1184_3\"          0   \n",
      "24971    \"9251_9\"          1   \n",
      "24974    \"7492_7\"          1   \n",
      "24978    \"9397_9\"          1   \n",
      "24982    \"3822_2\"          0   \n",
      "24987    \"1988_9\"          1   \n",
      "24988    \"7623_9\"          1   \n",
      "24989    \"5974_7\"          1   \n",
      "24991    \"9416_3\"          0   \n",
      "24993   \"10957_3\"          0   \n",
      "24994    \"2372_1\"          0   \n",
      "24996    \"5064_1\"          0   \n",
      "\n",
      "                                                  review  \\\n",
      "0      \"With all this stuff going down at the moment ...   \n",
      "2      \"The film starts with a manager (Nicholas Bell...   \n",
      "3      \"It must be assumed that those who praised thi...   \n",
      "5      \"I dont know why people think this is such a b...   \n",
      "6      \"This movie could have been very good, but com...   \n",
      "8      \"A friend of mine bought this film for £1, and...   \n",
      "11     \"Although I generally do not like remakes beli...   \n",
      "12     \"\\\"Mr. Harvey Lights a Candle\\\" is anchored by...   \n",
      "14     \"note to George Litman, and others: the Myster...   \n",
      "15     \"Stephen King adaptation (scripted by King him...   \n",
      "16     \"`The Matrix' was an exciting summer blockbust...   \n",
      "17     \"Ulli Lommel's 1980 film 'The Boogey Man' is n...   \n",
      "20     \"\\\"Soylent Green\\\" is one of the best and most...   \n",
      "21     \"Michael Stearns plays Mike, a sexually frustr...   \n",
      "26     \"Note to all mad scientists everywhere: if you...   \n",
      "28     \"Intrigued by the synopsis (every gay video th...   \n",
      "29     \"Would anyone really watch this RUBBISH if it ...   \n",
      "32     \"Faithful adaptation of witty and interesting ...   \n",
      "34     \"Even if this film was allegedly a joke in res...   \n",
      "35     \"If you are looking for eye candy, you may enj...   \n",
      "38     \"I found this movie quite by accident, but am ...   \n",
      "39     \"I'll dispense with the usual comparisons to a...   \n",
      "41     \"Well then, what is it?! I found Nicholson's c...   \n",
      "42     \"Antonio Margheriti's \\\"Danza Macabra\\\"/\\\"Cast...   \n",
      "45     \"I loved the episode but seems to me there sho...   \n",
      "47     \"I was at the same screenwriters conference an...   \n",
      "52     \"Yikes. This is pretty bad. The play isn't gre...   \n",
      "53     \"Last week, I took a look at the weekly Nielse...   \n",
      "57     \"What a stunning episode for this fine series....   \n",
      "59     \"As I understand it, after the Chinese took ov...   \n",
      "...                                                  ...   \n",
      "24943  \"One of the best comedy series to ever come ou...   \n",
      "24945  \"For starters I have always been a fan of the ...   \n",
      "24946  \"This is just plain bad. Sometimes remakes, ev...   \n",
      "24947  \"I just finished \\\"Dark Chamber\\\" aka \\\"Under ...   \n",
      "24948  \"This is one of the worst films ever. I like c...   \n",
      "24949  \"This is a very dark and intriguing horror typ...   \n",
      "24952  \"Yes its an art... to successfully make a slow...   \n",
      "24954  \"This is a sad film made for sad people. I was...   \n",
      "24955  \"I loved this movie for two reasons: 1) Jeff C...   \n",
      "24956  \"Of those comments here before mine, I mostly ...   \n",
      "24957  \"It was so terrible. It wasn't fun to watch at...   \n",
      "24959  \"Man On Fire tells a story of an ex-special fo...   \n",
      "24960  \"Having heard quite positive reviews and havin...   \n",
      "24961  \"In Iran, women are officially banned from men...   \n",
      "24962  \"Well I'll start with the good points. The mov...   \n",
      "24963  \"I actually didn't start watching the show unt...   \n",
      "24964  \"Something I really love about this woman's sh...   \n",
      "24965  \"\\\"Shore Leave\\\" is mostly an average Star Tre...   \n",
      "24966  \"this movie had a fairly good sounding plot, b...   \n",
      "24971  \"what can i say?, ms Erika Eleniak is my favor...   \n",
      "24974  \"Though not a horror film in the traditional s...   \n",
      "24978  \"Vaguely reminiscent of great 1940's westerns,...   \n",
      "24982  \"To be a Buster Keaton fan is to have your hea...   \n",
      "24987  \"First off, I'd like to make a correction on a...   \n",
      "24988  \"While originally reluctant to jump on the ban...   \n",
      "24989  \"I heard about this movie when watching VH1's ...   \n",
      "24991  \"Steve McQueen has certainly a lot of loyal fa...   \n",
      "24993  \"I am a student of film, and have been for sev...   \n",
      "24994  \"Unimaginably stupid, redundant and humiliatin...   \n",
      "24996  \"I don't believe they made this film. Complete...   \n",
      "\n",
      "                                             cleanReview  \n",
      "0      stuff going moment mj started listening music ...  \n",
      "2      film starts manager nicholas bell giving welco...  \n",
      "3      must assumed praised film greatest filmed oper...  \n",
      "5      dont know people think bad movie got pretty go...  \n",
      "6      movie could good comes way short cheesy specia...  \n",
      "8      friend mine bought film even grossly overprice...  \n",
      "11     although generally like remakes believing rema...  \n",
      "12     mr harvey lights candle anchored brilliant per...  \n",
      "14     note george litman others mystery science thea...  \n",
      "15     stephen king adaptation scripted king young fa...  \n",
      "16     matrix exciting summer blockbuster visually fa...  \n",
      "17     ulli lommel film boogey man classic average lo...  \n",
      "20     soylent green one best disturbing science fict...  \n",
      "21     michael stearns plays mike sexually frustrated...  \n",
      "26     note mad scientists everywhere going turn son ...  \n",
      "28     intrigued synopsis every gay video days hunk c...  \n",
      "29     would anyone really watch rubbish contain litt...  \n",
      "32     faithful adaptation witty interesting french n...  \n",
      "34     even film allegedly joke response critics stil...  \n",
      "35     looking eye candy may enjoy sky captain sky ca...  \n",
      "38     found movie quite accident happy kenneth brana...  \n",
      "39     dispense usual comparisons certain legendary f...  \n",
      "41     well found nicholson character shallow unfortu...  \n",
      "42     antonio margheriti danza macabra castle blood ...  \n",
      "45     loved episode seems quick reference secretary ...  \n",
      "47     screenwriters conference saw movie thought wri...  \n",
      "52     yikes pretty bad play great begin decision tra...  \n",
      "53     last week took look weekly nielsen ratings ver...  \n",
      "57     stunning episode fine series television excell...  \n",
      "59     understand chinese took hong kong infamous cat...  \n",
      "...                                                  ...  \n",
      "24943  one best comedy series ever come britain mark ...  \n",
      "24945  starters always fan batman cartoons theme univ...  \n",
      "24946  plain bad sometimes remakes even stray origina...  \n",
      "24947  finished dark chamber aka surveillance stunned...  \n",
      "24948  one worst films ever like cheesy movies simply...  \n",
      "24949  dark intriguing horror type thriller based ide...  \n",
      "24952  yes art successfully make slow paced thriller ...  \n",
      "24954  sad film made sad people sitting theaters tear...  \n",
      "24955  loved movie two reasons jeff combs absolutely ...  \n",
      "24956  comments mine mostly agree edyarb story script...  \n",
      "24957  terrible fun watch even scene girl using vibra...  \n",
      "24959  man fire tells story ex special forces guy dri...  \n",
      "24960  heard quite positive reviews seen trailer see ...  \n",
      "24961  iran women officially banned men sporting even...  \n",
      "24962  well start good points movie minutes long bad ...  \n",
      "24963  actually start watching show came fx bored not...  \n",
      "24964  something really love woman short films elusiv...  \n",
      "24965  shore leave mostly average star trek adventure...  \n",
      "24966  movie fairly good sounding plot paste slow slo...  \n",
      "24971  say ms erika eleniak favorite blonde girl ever...  \n",
      "24974  though horror film traditional sense creepy li...  \n",
      "24978  vaguely reminiscent great westerns like treasu...  \n",
      "24982  buster keaton fan heart broken regular basis u...  \n",
      "24987  first like make correction another review film...  \n",
      "24988  originally reluctant jump bandwagon watching l...  \n",
      "24989  heard movie watching vh metal moments segment ...  \n",
      "24991  steve mcqueen certainly lot loyal fans certain...  \n",
      "24993  student film several years concept cyber kung ...  \n",
      "24994  unimaginably stupid redundant humiliating clos...  \n",
      "24996  believe made film completely unnecessary first...  \n",
      "\n",
      "[14287 rows x 4 columns]\n"
     ]
    }
   ],
   "source": [
    "dfObj = pd.DataFrame(b) \n",
    "print(dfObj)"
   ]
  },
  {
   "cell_type": "code",
   "execution_count": 78,
   "metadata": {},
   "outputs": [
    {
     "data": {
      "image/png": "[encoded data removed]",
      "text/plain": [
       "<Figure size 432x288 with 1 Axes>"
      ]
     },
     "metadata": {
      "needs_background": "light"
     },
     "output_type": "display_data"
    }
   ],
   "source": [
    "objects = ('0', '1')\n",
    "y_pos = np.arange(len(objects))\n",
    "\n",
    "plt.hist(dfObj['sentiment'])\n",
    "plt.xticks(y_pos, objects)\n",
    "plt.ylabel('Score')\n",
    "plt.title('Frequency of the word worst and similar words')\n",
    "\n",
    "plt.show()"
   ]
  },
  {
   "cell_type": "code",
   "execution_count": 79,
   "metadata": {},
   "outputs": [],
   "source": [
    "c = model.most_similar(positive=['best'])"
   ]
  },
  {
   "cell_type": "code",
   "execution_count": 80,
   "metadata": {},
   "outputs": [],
   "source": [
    "j = [i[0] for i in c]\n",
    "j.append('best')"
   ]
  },
  {
   "cell_type": "code",
   "execution_count": 81,
   "metadata": {},
   "outputs": [
    {
     "name": "stdout",
     "output_type": "stream",
     "text": [
      "['finest', 'worst', 'greatest', 'strongest', 'smartest', 'easiest', 'good', 'quickest', 'healthiest', 'terrific', 'best']\n"
     ]
    }
   ],
   "source": [
    "print(j)"
   ]
  },
  {
   "cell_type": "code",
   "execution_count": 82,
   "metadata": {},
   "outputs": [],
   "source": [
    "b = []\n",
    "for x in range(0, len(train)):\n",
    "    for k in j:\n",
    "        if (train.loc[x]['cleanReview'].find(k) != -1):\n",
    "            b.append(train.loc[x])\n",
    "            break"
   ]
  },
  {
   "cell_type": "code",
   "execution_count": 83,
   "metadata": {},
   "outputs": [
    {
     "data": {
      "text/plain": [
       "14287"
      ]
     },
     "execution_count": 83,
     "metadata": {},
     "output_type": "execute_result"
    }
   ],
   "source": [
    "len(b)"
   ]
  },
  {
   "cell_type": "code",
   "execution_count": 84,
   "metadata": {},
   "outputs": [
    {
     "name": "stdout",
     "output_type": "stream",
     "text": [
      "               id  sentiment  \\\n",
      "0        \"5814_8\"          1   \n",
      "2        \"7759_3\"          0   \n",
      "3        \"3630_4\"          0   \n",
      "5        \"8196_8\"          1   \n",
      "6        \"7166_2\"          0   \n",
      "8         \"319_1\"          0   \n",
      "11      \"6811_10\"          1   \n",
      "12      \"11744_9\"          1   \n",
      "14      \"12081_1\"          0   \n",
      "15       \"3561_4\"          0   \n",
      "16       \"4489_1\"          0   \n",
      "17       \"3951_2\"          0   \n",
      "20       \"3374_7\"          1   \n",
      "21      \"10782_7\"          1   \n",
      "26       \"2203_3\"          0   \n",
      "28       \"9152_1\"          0   \n",
      "29       \"6077_1\"          0   \n",
      "32       \"1297_8\"          1   \n",
      "34       \"1119_1\"          0   \n",
      "35      \"11241_1\"          0   \n",
      "38       \"9011_9\"          1   \n",
      "39      \"11885_1\"          0   \n",
      "41       \"4613_4\"          0   \n",
      "42     \"12106_10\"          1   \n",
      "45       \"4221_8\"          1   \n",
      "47       \"9788_9\"          1   \n",
      "52       \"4439_4\"          0   \n",
      "53       \"8516_2\"          0   \n",
      "57      \"4155_10\"          1   \n",
      "59       \"9569_9\"          1   \n",
      "...           ...        ...   \n",
      "24943    \"9703_9\"          1   \n",
      "24945   \"9802_10\"          1   \n",
      "24946    \"3067_1\"          0   \n",
      "24947    \"9915_2\"          0   \n",
      "24948   \"10114_1\"          0   \n",
      "24949    \"5048_9\"          1   \n",
      "24952   \"10005_7\"          1   \n",
      "24954   \"12002_1\"          0   \n",
      "24955   \"7668_10\"          1   \n",
      "24956    \"6958_7\"          1   \n",
      "24957    \"9083_1\"          0   \n",
      "24959   \"7980_10\"          1   \n",
      "24960    \"6303_8\"          1   \n",
      "24961    \"9280_9\"          1   \n",
      "24962    \"2041_2\"          0   \n",
      "24963   \"3161_10\"          1   \n",
      "24964    \"7532_4\"          0   \n",
      "24965    \"1397_7\"          1   \n",
      "24966    \"1184_3\"          0   \n",
      "24971    \"9251_9\"          1   \n",
      "24974    \"7492_7\"          1   \n",
      "24978    \"9397_9\"          1   \n",
      "24982    \"3822_2\"          0   \n",
      "24987    \"1988_9\"          1   \n",
      "24988    \"7623_9\"          1   \n",
      "24989    \"5974_7\"          1   \n",
      "24991    \"9416_3\"          0   \n",
      "24993   \"10957_3\"          0   \n",
      "24994    \"2372_1\"          0   \n",
      "24996    \"5064_1\"          0   \n",
      "\n",
      "                                                  review  \\\n",
      "0      \"With all this stuff going down at the moment ...   \n",
      "2      \"The film starts with a manager (Nicholas Bell...   \n",
      "3      \"It must be assumed that those who praised thi...   \n",
      "5      \"I dont know why people think this is such a b...   \n",
      "6      \"This movie could have been very good, but com...   \n",
      "8      \"A friend of mine bought this film for £1, and...   \n",
      "11     \"Although I generally do not like remakes beli...   \n",
      "12     \"\\\"Mr. Harvey Lights a Candle\\\" is anchored by...   \n",
      "14     \"note to George Litman, and others: the Myster...   \n",
      "15     \"Stephen King adaptation (scripted by King him...   \n",
      "16     \"`The Matrix' was an exciting summer blockbust...   \n",
      "17     \"Ulli Lommel's 1980 film 'The Boogey Man' is n...   \n",
      "20     \"\\\"Soylent Green\\\" is one of the best and most...   \n",
      "21     \"Michael Stearns plays Mike, a sexually frustr...   \n",
      "26     \"Note to all mad scientists everywhere: if you...   \n",
      "28     \"Intrigued by the synopsis (every gay video th...   \n",
      "29     \"Would anyone really watch this RUBBISH if it ...   \n",
      "32     \"Faithful adaptation of witty and interesting ...   \n",
      "34     \"Even if this film was allegedly a joke in res...   \n",
      "35     \"If you are looking for eye candy, you may enj...   \n",
      "38     \"I found this movie quite by accident, but am ...   \n",
      "39     \"I'll dispense with the usual comparisons to a...   \n",
      "41     \"Well then, what is it?! I found Nicholson's c...   \n",
      "42     \"Antonio Margheriti's \\\"Danza Macabra\\\"/\\\"Cast...   \n",
      "45     \"I loved the episode but seems to me there sho...   \n",
      "47     \"I was at the same screenwriters conference an...   \n",
      "52     \"Yikes. This is pretty bad. The play isn't gre...   \n",
      "53     \"Last week, I took a look at the weekly Nielse...   \n",
      "57     \"What a stunning episode for this fine series....   \n",
      "59     \"As I understand it, after the Chinese took ov...   \n",
      "...                                                  ...   \n",
      "24943  \"One of the best comedy series to ever come ou...   \n",
      "24945  \"For starters I have always been a fan of the ...   \n",
      "24946  \"This is just plain bad. Sometimes remakes, ev...   \n",
      "24947  \"I just finished \\\"Dark Chamber\\\" aka \\\"Under ...   \n",
      "24948  \"This is one of the worst films ever. I like c...   \n",
      "24949  \"This is a very dark and intriguing horror typ...   \n",
      "24952  \"Yes its an art... to successfully make a slow...   \n",
      "24954  \"This is a sad film made for sad people. I was...   \n",
      "24955  \"I loved this movie for two reasons: 1) Jeff C...   \n",
      "24956  \"Of those comments here before mine, I mostly ...   \n",
      "24957  \"It was so terrible. It wasn't fun to watch at...   \n",
      "24959  \"Man On Fire tells a story of an ex-special fo...   \n",
      "24960  \"Having heard quite positive reviews and havin...   \n",
      "24961  \"In Iran, women are officially banned from men...   \n",
      "24962  \"Well I'll start with the good points. The mov...   \n",
      "24963  \"I actually didn't start watching the show unt...   \n",
      "24964  \"Something I really love about this woman's sh...   \n",
      "24965  \"\\\"Shore Leave\\\" is mostly an average Star Tre...   \n",
      "24966  \"this movie had a fairly good sounding plot, b...   \n",
      "24971  \"what can i say?, ms Erika Eleniak is my favor...   \n",
      "24974  \"Though not a horror film in the traditional s...   \n",
      "24978  \"Vaguely reminiscent of great 1940's westerns,...   \n",
      "24982  \"To be a Buster Keaton fan is to have your hea...   \n",
      "24987  \"First off, I'd like to make a correction on a...   \n",
      "24988  \"While originally reluctant to jump on the ban...   \n",
      "24989  \"I heard about this movie when watching VH1's ...   \n",
      "24991  \"Steve McQueen has certainly a lot of loyal fa...   \n",
      "24993  \"I am a student of film, and have been for sev...   \n",
      "24994  \"Unimaginably stupid, redundant and humiliatin...   \n",
      "24996  \"I don't believe they made this film. Complete...   \n",
      "\n",
      "                                             cleanReview  \n",
      "0      stuff going moment mj started listening music ...  \n",
      "2      film starts manager nicholas bell giving welco...  \n",
      "3      must assumed praised film greatest filmed oper...  \n",
      "5      dont know people think bad movie got pretty go...  \n",
      "6      movie could good comes way short cheesy specia...  \n",
      "8      friend mine bought film even grossly overprice...  \n",
      "11     although generally like remakes believing rema...  \n",
      "12     mr harvey lights candle anchored brilliant per...  \n",
      "14     note george litman others mystery science thea...  \n",
      "15     stephen king adaptation scripted king young fa...  \n",
      "16     matrix exciting summer blockbuster visually fa...  \n",
      "17     ulli lommel film boogey man classic average lo...  \n",
      "20     soylent green one best disturbing science fict...  \n",
      "21     michael stearns plays mike sexually frustrated...  \n",
      "26     note mad scientists everywhere going turn son ...  \n",
      "28     intrigued synopsis every gay video days hunk c...  \n",
      "29     would anyone really watch rubbish contain litt...  \n",
      "32     faithful adaptation witty interesting french n...  \n",
      "34     even film allegedly joke response critics stil...  \n",
      "35     looking eye candy may enjoy sky captain sky ca...  \n",
      "38     found movie quite accident happy kenneth brana...  \n",
      "39     dispense usual comparisons certain legendary f...  \n",
      "41     well found nicholson character shallow unfortu...  \n",
      "42     antonio margheriti danza macabra castle blood ...  \n",
      "45     loved episode seems quick reference secretary ...  \n",
      "47     screenwriters conference saw movie thought wri...  \n",
      "52     yikes pretty bad play great begin decision tra...  \n",
      "53     last week took look weekly nielsen ratings ver...  \n",
      "57     stunning episode fine series television excell...  \n",
      "59     understand chinese took hong kong infamous cat...  \n",
      "...                                                  ...  \n",
      "24943  one best comedy series ever come britain mark ...  \n",
      "24945  starters always fan batman cartoons theme univ...  \n",
      "24946  plain bad sometimes remakes even stray origina...  \n",
      "24947  finished dark chamber aka surveillance stunned...  \n",
      "24948  one worst films ever like cheesy movies simply...  \n",
      "24949  dark intriguing horror type thriller based ide...  \n",
      "24952  yes art successfully make slow paced thriller ...  \n",
      "24954  sad film made sad people sitting theaters tear...  \n",
      "24955  loved movie two reasons jeff combs absolutely ...  \n",
      "24956  comments mine mostly agree edyarb story script...  \n",
      "24957  terrible fun watch even scene girl using vibra...  \n",
      "24959  man fire tells story ex special forces guy dri...  \n",
      "24960  heard quite positive reviews seen trailer see ...  \n",
      "24961  iran women officially banned men sporting even...  \n",
      "24962  well start good points movie minutes long bad ...  \n",
      "24963  actually start watching show came fx bored not...  \n",
      "24964  something really love woman short films elusiv...  \n",
      "24965  shore leave mostly average star trek adventure...  \n",
      "24966  movie fairly good sounding plot paste slow slo...  \n",
      "24971  say ms erika eleniak favorite blonde girl ever...  \n",
      "24974  though horror film traditional sense creepy li...  \n",
      "24978  vaguely reminiscent great westerns like treasu...  \n",
      "24982  buster keaton fan heart broken regular basis u...  \n",
      "24987  first like make correction another review film...  \n",
      "24988  originally reluctant jump bandwagon watching l...  \n",
      "24989  heard movie watching vh metal moments segment ...  \n",
      "24991  steve mcqueen certainly lot loyal fans certain...  \n",
      "24993  student film several years concept cyber kung ...  \n",
      "24994  unimaginably stupid redundant humiliating clos...  \n",
      "24996  believe made film completely unnecessary first...  \n",
      "\n",
      "[14287 rows x 4 columns]\n"
     ]
    }
   ],
   "source": [
    "dfObj = pd.DataFrame(b) \n",
    "print(dfObj)"
   ]
  },
  {
   "cell_type": "code",
   "execution_count": 85,
   "metadata": {},
   "outputs": [
    {
     "data": {
      "image/png": "[encoded data removed]",
      "text/plain": [
       "<Figure size 432x288 with 1 Axes>"
      ]
     },
     "metadata": {
      "needs_background": "light"
     },
     "output_type": "display_data"
    }
   ],
   "source": [
    "objects = ('0', '1')\n",
    "y_pos = np.arange(len(objects))\n",
    "\n",
    "plt.hist(dfObj['sentiment'])\n",
    "plt.xticks(y_pos, objects)\n",
    "plt.ylabel('Score')\n",
    "plt.title('Frequency of the word best and similar words')\n",
    "\n",
    "plt.show()"
   ]
  },
  {
   "cell_type": "code",
   "execution_count": null,
   "metadata": {},
   "outputs": [],
   "source": []
  },
  {
   "cell_type": "code",
   "execution_count": null,
   "metadata": {},
   "outputs": [],
   "source": []
  }
 ],
 "metadata": {
  "kernelspec": {
   "display_name": "Python 3",
   "language": "python",
   "name": "python3"
  },
  "language_info": {
   "codemirror_mode": {
    "name": "ipython",
    "version": 3
   },
   "file_extension": ".py",
   "mimetype": "text/x-python",
   "name": "python",
   "nbconvert_exporter": "python",
   "pygments_lexer": "ipython3",
   "version": "3.7.3"
  }
 },
 "nbformat": 4,
 "nbformat_minor": 2
}
