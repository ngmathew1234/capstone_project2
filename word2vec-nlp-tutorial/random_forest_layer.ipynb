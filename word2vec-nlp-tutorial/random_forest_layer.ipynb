{
 "cells": [
  {
   "cell_type": "code",
   "execution_count": 1,
   "metadata": {},
   "outputs": [],
   "source": [
    "%matplotlib inline\n",
    "import numpy as np\n",
    "import scipy as sp\n",
    "import matplotlib as mpl\n",
    "import matplotlib.cm as cm\n",
    "import matplotlib.pyplot as plt\n",
    "import pandas as pd\n",
    "import seaborn as sns\n",
    "from six.moves import range\n",
    "from sklearn.model_selection import train_test_split\n",
    "\n",
    "# Setup Pandas\n",
    "pd.set_option('display.width', 500)\n",
    "pd.set_option('display.max_columns', 100)\n",
    "pd.set_option('display.notebook_repr_html', True)\n",
    "\n",
    "# Setup Seaborn\n",
    "sns.set_style(\"whitegrid\")\n",
    "sns.set_context(\"poster\")"
   ]
  },
  {
   "cell_type": "code",
   "execution_count": 2,
   "metadata": {},
   "outputs": [],
   "source": [
    "train = pd.read_csv(\"clean_train_reviewsbg.csv\")"
   ]
  },
  {
   "cell_type": "code",
   "execution_count": 3,
   "metadata": {},
   "outputs": [
    {
     "name": "stdout",
     "output_type": "stream",
     "text": [
      "Original text is\n",
      "Hop on pop\n",
      "Hop off pop\n",
      "Hop Hop hop\n",
      "\n",
      "Transformed text vector is \n",
      "[[1 0 1 1]\n",
      " [1 1 0 1]\n",
      " [3 0 0 0]]\n",
      "\n",
      "Words for each feature:\n",
      "['hop', 'off', 'on', 'pop']\n"
     ]
    }
   ],
   "source": [
    "from sklearn.feature_extraction.text import CountVectorizer\n",
    "\n",
    "text = ['Hop on pop', 'Hop off pop', 'Hop Hop hop']\n",
    "print(\"Original text is\\n{}\".format('\\n'.join(text)))\n",
    "\n",
    "vectorizer = CountVectorizer(min_df=0)\n",
    "\n",
    "# call `fit` to build the vocabulary\n",
    "vectorizer.fit(text)\n",
    "\n",
    "# call `transform` to convert text to a bag of words\n",
    "x = vectorizer.transform(text)\n",
    "\n",
    "# CountVectorizer uses a sparse array to save memory, but it's easier in this assignment to \n",
    "# convert back to a \"normal\" numpy array\n",
    "x = x.toarray()\n",
    "\n",
    "print(\"\")\n",
    "print(\"Transformed text vector is \\n{}\".format(x))\n",
    "\n",
    "# `get_feature_names` tracks which word is associated with each column of the transformed x\n",
    "print(\"\")\n",
    "print(\"Words for each feature:\")\n",
    "print(vectorizer.get_feature_names())\n",
    "\n",
    "# Notice that the bag of words treatment doesn't preserve information about the *order* of words, \n",
    "# just their frequency"
   ]
  },
  {
   "cell_type": "code",
   "execution_count": 4,
   "metadata": {},
   "outputs": [],
   "source": [
    "import gensim"
   ]
  },
  {
   "cell_type": "code",
   "execution_count": 5,
   "metadata": {},
   "outputs": [
    {
     "name": "stderr",
     "output_type": "stream",
     "text": [
      "C:\\Users\\ngmat\\Anaconda3\\lib\\site-packages\\smart_open\\smart_open_lib.py:398: UserWarning: This function is deprecated, use smart_open.open instead. See the migration notes for details: https://github.com/RaRe-Technologies/smart_open/blob/master/README.rst#migrating-to-the-new-open-function\n",
      "  'See the migration notes for details: %s' % _MIGRATION_NOTES_URL\n"
     ]
    }
   ],
   "source": [
    "model = gensim.models.KeyedVectors.load_word2vec_format('GoogleNews-vectors-negative300.bin.gz', binary=True, limit=500000)\n"
   ]
  },
  {
   "cell_type": "code",
   "execution_count": 6,
   "metadata": {},
   "outputs": [],
   "source": [
    "def review_to_vector(review):\n",
    "    ##strip puncation\n",
    "    review_array = review.split()\n",
    "    wordvectors = []\n",
    "    for word in review_array:\n",
    "        try:\n",
    "            vector = model.get_vector(word)\n",
    "            wordvectors.append(vector)\n",
    "        except KeyError:\n",
    "            pass\n",
    "    avg_word_vector = np.mean(np.array(wordvectors), axis=0)\n",
    "    return avg_word_vector"
   ]
  },
  {
   "cell_type": "code",
   "execution_count": 7,
   "metadata": {},
   "outputs": [],
   "source": [
    "cleanvector = []\n",
    "for review in train['cleanReview']:\n",
    "    cleanvector.append(review_to_vector(review))"
   ]
  },
  {
   "cell_type": "code",
   "execution_count": 8,
   "metadata": {},
   "outputs": [
    {
     "data": {
      "text/plain": [
       "(25000, 300)"
      ]
     },
     "execution_count": 8,
     "metadata": {},
     "output_type": "execute_result"
    }
   ],
   "source": [
    "X_emreviews = np.array(cleanvector, dtype=np.float)\n",
    "X_emreviews.shape"
   ]
  },
  {
   "cell_type": "code",
   "execution_count": 9,
   "metadata": {},
   "outputs": [
    {
     "name": "stdout",
     "output_type": "stream",
     "text": [
      "[ 0.03917618  0.07527008  0.00668135  0.12237892 -0.05514144  0.01250296\n",
      "  0.04666138 -0.04853227  0.06809974  0.06034899 -0.0264349  -0.13563843\n",
      " -0.02281494  0.04036713 -0.0774643   0.1085742   0.03467331  0.12186289\n",
      "  0.01463499 -0.05926056 -0.03535689  0.07528882  0.02703972  0.00123997\n",
      "  0.04615135 -0.03957943 -0.09244518  0.0536674   0.00888844 -0.00864553\n",
      " -0.06121502 -0.01299958 -0.01968536  0.03419232  0.05326509  0.0030509\n",
      "  0.03214207  0.04327729  0.05265088  0.09054108  0.11198883 -0.01156807\n",
      "  0.10114269  0.02941818 -0.02399211 -0.05242996 -0.06253014 -0.00025215\n",
      "  0.03833618 -0.01486816 -0.01893005  0.03220692 -0.04692974  0.01528053\n",
      "  0.02531347  0.02246552 -0.04301932 -0.09034767  0.02570829 -0.07500491\n",
      "  0.01776581  0.09853458 -0.09504414 -0.08185279  0.0098011  -0.03730826\n",
      " -0.1026289   0.06098423 -0.02648797  0.07591248  0.0409565  -0.00612602\n",
      "  0.07162933 -0.02266569 -0.12598877 -0.09535122  0.02087936  0.06742859\n",
      "  0.06781578  0.10706339 -0.02486682 -0.02205276  0.01952476 -0.00755806\n",
      " -0.03354416 -0.02675324 -0.07780381  0.13789615  0.0432416   0.04321108\n",
      "  0.04092674 -0.00406761 -0.04066338 -0.03041914 -0.03045635 -0.03265417\n",
      "  0.00537847  0.00116529  0.01319408 -0.04982672 -0.0320713   0.01041298\n",
      "  0.04274521  0.01638412 -0.01812897 -0.01291656  0.00203505 -0.01397324\n",
      "  0.04362183 -0.08087425 -0.03505726  0.03038459 -0.01818256  0.01543512\n",
      "  0.12339325  0.00201674  0.0230011  -0.05302453  0.06872873  0.00540767\n",
      " -0.06112514  0.01971245  0.03248906  0.02484074 -0.00200539 -0.04225402\n",
      " -0.0536644  -0.00547428 -0.03179278  0.02114239 -0.09763221 -0.07388382\n",
      " -0.02737465  0.051371   -0.01214066 -0.00177624  0.00588846  0.00446205\n",
      "  0.0141716   0.05488835  0.07450251 -0.04442434  0.00124378  0.02674446\n",
      "  0.02816525 -0.00233874 -0.00476418  0.02561762 -0.02843399 -0.02313423\n",
      "  0.04333    -0.01230054 -0.08882236  0.05244245 -0.04737167 -0.06583452\n",
      " -0.03338718 -0.02478504 -0.09255771 -0.04298391  0.01701183  0.10386572\n",
      "  0.0381979   0.05105858  0.02172956 -0.09971442  0.0669178  -0.06236224\n",
      "  0.00394688  0.00151367 -0.07764568 -0.04928856  0.01956596 -0.05983963\n",
      " -0.00854645  0.02050648  0.08085632 -0.11949845 -0.04259663  0.01047001\n",
      " -0.06695397 -0.06050224  0.00140824 -0.01616745 -0.02281075 -0.01270847\n",
      " -0.03983345 -0.01544151 -0.0130744   0.03479166  0.05098534  0.03166176\n",
      "  0.04678879  0.02357507  0.00573559  0.06386681 -0.01524739  0.01572933\n",
      " -0.0802002  -0.05786236  0.03583164  0.05950861 -0.05015409 -0.01014786\n",
      "  0.04701386 -0.02309036 -0.04573796 -0.02614861 -0.05566483  0.05925331\n",
      " -0.00711851  0.11417504 -0.00179157  0.00564728 -0.12234936 -0.01219993\n",
      "  0.05329742 -0.00785322 -0.05276308 -0.03320913 -0.02775803  0.03304977\n",
      " -0.02378044  0.02950134  0.04836883 -0.00833893  0.04862151 -0.00635371\n",
      "  0.03628664 -0.00354462  0.04844494 -0.02531013 -0.00535049  0.04118977\n",
      "  0.05862503  0.01184001  0.04297676 -0.01944704  0.0823822   0.00284567\n",
      "  0.0351059  -0.00381689  0.07167111 -0.08471756 -0.06391029  0.06308307\n",
      "  0.01384239  0.06641579 -0.01354866 -0.0240036  -0.01808748  0.06218567\n",
      "  0.04555225  0.0469266   0.03362932 -0.05887013 -0.01737785 -0.01062651\n",
      " -0.06456413 -0.07212295 -0.04503441  0.01664886 -0.02042713  0.00786285\n",
      "  0.03095512  0.10607795 -0.03940697 -0.10083542 -0.09050484 -0.02061209\n",
      "  0.03280792  0.09335766  0.01531801  0.02596726  0.05967903 -0.00926008\n",
      " -0.05287762 -0.10513401 -0.03089814  0.01939907 -0.00499496 -0.00445175\n",
      " -0.03134036  0.02073669  0.0095665  -0.01425333 -0.08875962 -0.00531454\n",
      "  0.01082382  0.04384365 -0.10198641  0.03021765 -0.1037159   0.03849125\n",
      " -0.04364643 -0.05891762 -0.00895462 -0.04843483  0.01169023  0.02353592]\n"
     ]
    }
   ],
   "source": [
    "print(X_emreviews[1])"
   ]
  },
  {
   "cell_type": "code",
   "execution_count": 10,
   "metadata": {},
   "outputs": [],
   "source": [
    "train_features, test_features, train_labels, test_labels = train_test_split(X_emreviews, train['sentiment'], test_size = 0.33, random_state = 42)"
   ]
  },
  {
   "cell_type": "code",
   "execution_count": 11,
   "metadata": {},
   "outputs": [],
   "source": [
    "from sklearn.ensemble import RandomForestClassifier\n",
    "rf2 = RandomForestClassifier()"
   ]
  },
  {
   "cell_type": "code",
   "execution_count": 12,
   "metadata": {},
   "outputs": [
    {
     "name": "stderr",
     "output_type": "stream",
     "text": [
      "C:\\Users\\ngmat\\Anaconda3\\lib\\site-packages\\sklearn\\ensemble\\forest.py:246: FutureWarning: The default value of n_estimators will change from 10 in version 0.20 to 100 in 0.22.\n",
      "  \"10 in version 0.20 to 100 in 0.22.\", FutureWarning)\n"
     ]
    },
    {
     "data": {
      "text/plain": [
       "RandomForestClassifier(bootstrap=True, class_weight=None, criterion='gini',\n",
       "            max_depth=None, max_features='auto', max_leaf_nodes=None,\n",
       "            min_impurity_decrease=0.0, min_impurity_split=None,\n",
       "            min_samples_leaf=1, min_samples_split=2,\n",
       "            min_weight_fraction_leaf=0.0, n_estimators=10, n_jobs=None,\n",
       "            oob_score=False, random_state=None, verbose=0,\n",
       "            warm_start=False)"
      ]
     },
     "execution_count": 12,
     "metadata": {},
     "output_type": "execute_result"
    }
   ],
   "source": [
    "rf2.fit(train_features, train_labels)"
   ]
  },
  {
   "cell_type": "code",
   "execution_count": 13,
   "metadata": {},
   "outputs": [],
   "source": [
    "sen_pred_train = rf2.predict(train_features)\n",
    "sen_pred_test = rf2.predict(test_features)"
   ]
  },
  {
   "cell_type": "code",
   "execution_count": 14,
   "metadata": {},
   "outputs": [
    {
     "name": "stdout",
     "output_type": "stream",
     "text": [
      "accuracy scores training set:  0.9917014925373134\n",
      "accuracy scores test set:  0.7469090909090909\n"
     ]
    }
   ],
   "source": [
    "from sklearn.metrics import accuracy_score\n",
    "print('accuracy scores training set: ',accuracy_score(train_labels,sen_pred_train))\n",
    "print('accuracy scores test set: ',accuracy_score(test_labels,sen_pred_test))"
   ]
  },
  {
   "cell_type": "code",
   "execution_count": 15,
   "metadata": {},
   "outputs": [],
   "source": [
    "from sklearn.metrics import classification_report, confusion_matrix, roc_curve, auc, roc_auc_score"
   ]
  },
  {
   "cell_type": "code",
   "execution_count": 16,
   "metadata": {},
   "outputs": [
    {
     "name": "stdout",
     "output_type": "stream",
     "text": [
      "              precision    recall  f1-score   support\n",
      "\n",
      "           0       0.72      0.79      0.76      4105\n",
      "           1       0.77      0.70      0.74      4145\n",
      "\n",
      "   micro avg       0.75      0.75      0.75      8250\n",
      "   macro avg       0.75      0.75      0.75      8250\n",
      "weighted avg       0.75      0.75      0.75      8250\n",
      "\n"
     ]
    }
   ],
   "source": [
    "print(classification_report(test_labels, sen_pred_test)) "
   ]
  },
  {
   "cell_type": "code",
   "execution_count": 17,
   "metadata": {},
   "outputs": [
    {
     "name": "stdout",
     "output_type": "stream",
     "text": [
      "[[3257  848]\n",
      " [1240 2905]]\n"
     ]
    }
   ],
   "source": [
    "print(confusion_matrix(test_labels, sen_pred_test)) "
   ]
  },
  {
   "cell_type": "code",
   "execution_count": 19,
   "metadata": {},
   "outputs": [],
   "source": [
    "sen_pred_test_roc = rf2.predict_proba(test_features)\n",
    "sen_pred_test_roc_positive = sen_pred_test_roc[:, 1]"
   ]
  },
  {
   "cell_type": "code",
   "execution_count": 20,
   "metadata": {},
   "outputs": [
    {
     "name": "stdout",
     "output_type": "stream",
     "text": [
      "AUC: 0.83\n"
     ]
    }
   ],
   "source": [
    "auc = roc_auc_score(test_labels, sen_pred_test_roc_positive)\n",
    "print('AUC: %.2f' % auc)"
   ]
  },
  {
   "cell_type": "code",
   "execution_count": 21,
   "metadata": {},
   "outputs": [],
   "source": [
    "fpr, tpr, thresholds = roc_curve(test_labels, sen_pred_test_roc_positive)"
   ]
  },
  {
   "cell_type": "code",
   "execution_count": 22,
   "metadata": {},
   "outputs": [
    {
     "data": {
      "image/png": "[encoded data removed]",
      "text/plain": [
       "<Figure size 432x288 with 1 Axes>"
      ]
     },
     "metadata": {
      "needs_background": "light"
     },
     "output_type": "display_data"
    }
   ],
   "source": [
    "plt.plot(fpr, tpr, color='orange', label='ROC')\n",
    "plt.plot([0, 1], [0, 1], color='darkblue', linestyle='--')\n",
    "plt.xlabel('False Positive Rate')\n",
    "plt.ylabel('True Positive Rate')\n",
    "plt.title('Receiver Operating Characteristic (ROC) Curve')\n",
    "plt.legend()\n",
    "plt.show()"
   ]
  },
  {
   "cell_type": "code",
   "execution_count": 23,
   "metadata": {},
   "outputs": [],
   "source": [
    "from sklearn.model_selection import GridSearchCV "
   ]
  },
  {
   "cell_type": "code",
   "execution_count": 24,
   "metadata": {},
   "outputs": [],
   "source": [
    "n_estimators = [1, 2, 4, 8, 16, 32, 64, 100, 200]\n",
    "max_features = ['auto', 'sqrt']\n",
    "max_depth = [int(x) for x in np.linspace(10, 110, num = 11)]\n",
    "max_depth.append(None)\n",
    "min_samples_split = [2, 5, 10]\n",
    "min_samples_leaf = [1, 2, 4]\n",
    "bootstrap = [True, False]"
   ]
  },
  {
   "cell_type": "code",
   "execution_count": 25,
   "metadata": {},
   "outputs": [],
   "source": [
    "param_gridne = {'n_estimators': n_estimators}"
   ]
  },
  {
   "cell_type": "code",
   "execution_count": 33,
   "metadata": {},
   "outputs": [],
   "source": [
    "param_maxdepth = {'max_depth': max_depth}"
   ]
  },
  {
   "cell_type": "code",
   "execution_count": 27,
   "metadata": {},
   "outputs": [
    {
     "name": "stdout",
     "output_type": "stream",
     "text": [
      "{'n_estimators': [1, 2, 4, 8, 16, 32, 64, 100, 200]}\n"
     ]
    }
   ],
   "source": [
    "print(param_gridne)"
   ]
  },
  {
   "cell_type": "code",
   "execution_count": 34,
   "metadata": {},
   "outputs": [
    {
     "name": "stdout",
     "output_type": "stream",
     "text": [
      "{'max_depth': [10, 20, 30, 40, 50, 60, 70, 80, 90, 100, 110, None]}\n"
     ]
    }
   ],
   "source": [
    "print(param_maxdepth)"
   ]
  },
  {
   "cell_type": "code",
   "execution_count": 28,
   "metadata": {},
   "outputs": [],
   "source": [
    "grid = GridSearchCV(estimator = rf2, param_grid = param_gridne,  n_jobs = -1, verbose = 2)"
   ]
  },
  {
   "cell_type": "code",
   "execution_count": 29,
   "metadata": {},
   "outputs": [
    {
     "name": "stderr",
     "output_type": "stream",
     "text": [
      "C:\\Users\\ngmat\\Anaconda3\\lib\\site-packages\\sklearn\\model_selection\\_split.py:2053: FutureWarning: You should specify a value for 'cv' instead of relying on the default value. The default value will change from 3 to 5 in version 0.22.\n",
      "  warnings.warn(CV_WARNING, FutureWarning)\n",
      "[Parallel(n_jobs=-1)]: Using backend LokyBackend with 8 concurrent workers.\n"
     ]
    },
    {
     "name": "stdout",
     "output_type": "stream",
     "text": [
      "Fitting 3 folds for each of 9 candidates, totalling 27 fits\n"
     ]
    },
    {
     "name": "stderr",
     "output_type": "stream",
     "text": [
      "[Parallel(n_jobs=-1)]: Done  27 out of  27 | elapsed:  2.4min finished\n"
     ]
    },
    {
     "data": {
      "text/plain": [
       "GridSearchCV(cv='warn', error_score='raise-deprecating',\n",
       "       estimator=RandomForestClassifier(bootstrap=True, class_weight=None, criterion='gini',\n",
       "            max_depth=None, max_features='auto', max_leaf_nodes=None,\n",
       "            min_impurity_decrease=0.0, min_impurity_split=None,\n",
       "            min_samples_leaf=1, min_samples_split=2,\n",
       "            min_weight_fraction_leaf=0.0, n_estimators=10, n_jobs=None,\n",
       "            oob_score=False, random_state=None, verbose=0,\n",
       "            warm_start=False),\n",
       "       fit_params=None, iid='warn', n_jobs=-1,\n",
       "       param_grid={'n_estimators': [1, 2, 4, 8, 16, 32, 64, 100, 200]},\n",
       "       pre_dispatch='2*n_jobs', refit=True, return_train_score='warn',\n",
       "       scoring=None, verbose=2)"
      ]
     },
     "execution_count": 29,
     "metadata": {},
     "output_type": "execute_result"
    }
   ],
   "source": [
    "grid.fit(train_features, train_labels)"
   ]
  },
  {
   "cell_type": "code",
   "execution_count": 30,
   "metadata": {},
   "outputs": [
    {
     "name": "stdout",
     "output_type": "stream",
     "text": [
      "RandomForestClassifier(bootstrap=True, class_weight=None, criterion='gini',\n",
      "            max_depth=None, max_features='auto', max_leaf_nodes=None,\n",
      "            min_impurity_decrease=0.0, min_impurity_split=None,\n",
      "            min_samples_leaf=1, min_samples_split=2,\n",
      "            min_weight_fraction_leaf=0.0, n_estimators=200, n_jobs=None,\n",
      "            oob_score=False, random_state=None, verbose=0,\n",
      "            warm_start=False)\n"
     ]
    }
   ],
   "source": [
    "print(grid.best_estimator_)"
   ]
  },
  {
   "cell_type": "code",
   "execution_count": 32,
   "metadata": {},
   "outputs": [
    {
     "name": "stdout",
     "output_type": "stream",
     "text": [
      "accuracy scores training set:  1.0\n",
      "accuracy scores test set:  0.8204848484848485\n",
      "              precision    recall  f1-score   support\n",
      "\n",
      "           0       0.83      0.80      0.82      4105\n",
      "           1       0.81      0.84      0.83      4145\n",
      "\n",
      "   micro avg       0.82      0.82      0.82      8250\n",
      "   macro avg       0.82      0.82      0.82      8250\n",
      "weighted avg       0.82      0.82      0.82      8250\n",
      "\n"
     ]
    }
   ],
   "source": [
    "rf2bestn = RandomForestClassifier(n_estimators=200)\n",
    "rf2bestn.fit(train_features, train_labels)\n",
    "sen_pred_trainrf2bestn = rf2bestn.predict(train_features)\n",
    "sen_pred_testrf2bestn = rf2bestn.predict(test_features)\n",
    "print('accuracy scores training set: ',accuracy_score(train_labels,sen_pred_trainrf2bestn))\n",
    "print('accuracy scores test set: ',accuracy_score(test_labels,sen_pred_testrf2bestn))\n",
    "print(classification_report(test_labels, sen_pred_testrf2bestn)) "
   ]
  },
  {
   "cell_type": "code",
   "execution_count": 35,
   "metadata": {},
   "outputs": [],
   "source": [
    "gridMD = GridSearchCV(estimator = rf2bestn, param_grid = param_maxdepth,  n_jobs = -1, verbose = 2)"
   ]
  },
  {
   "cell_type": "code",
   "execution_count": 36,
   "metadata": {},
   "outputs": [
    {
     "name": "stderr",
     "output_type": "stream",
     "text": [
      "C:\\Users\\ngmat\\Anaconda3\\lib\\site-packages\\sklearn\\model_selection\\_split.py:2053: FutureWarning: You should specify a value for 'cv' instead of relying on the default value. The default value will change from 3 to 5 in version 0.22.\n",
      "  warnings.warn(CV_WARNING, FutureWarning)\n",
      "[Parallel(n_jobs=-1)]: Using backend LokyBackend with 8 concurrent workers.\n"
     ]
    },
    {
     "name": "stdout",
     "output_type": "stream",
     "text": [
      "Fitting 3 folds for each of 12 candidates, totalling 36 fits\n"
     ]
    },
    {
     "name": "stderr",
     "output_type": "stream",
     "text": [
      "[Parallel(n_jobs=-1)]: Done  36 out of  36 | elapsed:  6.1min finished\n"
     ]
    },
    {
     "data": {
      "text/plain": [
       "GridSearchCV(cv='warn', error_score='raise-deprecating',\n",
       "       estimator=RandomForestClassifier(bootstrap=True, class_weight=None, criterion='gini',\n",
       "            max_depth=None, max_features='auto', max_leaf_nodes=None,\n",
       "            min_impurity_decrease=0.0, min_impurity_split=None,\n",
       "            min_samples_leaf=1, min_samples_split=2,\n",
       "            min_weight_fraction_leaf=0.0, n_estimators=200, n_jobs=None,\n",
       "            oob_score=False, random_state=None, verbose=0,\n",
       "            warm_start=False),\n",
       "       fit_params=None, iid='warn', n_jobs=-1,\n",
       "       param_grid={'max_depth': [10, 20, 30, 40, 50, 60, 70, 80, 90, 100, 110, None]},\n",
       "       pre_dispatch='2*n_jobs', refit=True, return_train_score='warn',\n",
       "       scoring=None, verbose=2)"
      ]
     },
     "execution_count": 36,
     "metadata": {},
     "output_type": "execute_result"
    }
   ],
   "source": [
    "gridMD.fit(train_features, train_labels)"
   ]
  },
  {
   "cell_type": "code",
   "execution_count": 37,
   "metadata": {},
   "outputs": [
    {
     "name": "stdout",
     "output_type": "stream",
     "text": [
      "RandomForestClassifier(bootstrap=True, class_weight=None, criterion='gini',\n",
      "            max_depth=60, max_features='auto', max_leaf_nodes=None,\n",
      "            min_impurity_decrease=0.0, min_impurity_split=None,\n",
      "            min_samples_leaf=1, min_samples_split=2,\n",
      "            min_weight_fraction_leaf=0.0, n_estimators=200, n_jobs=None,\n",
      "            oob_score=False, random_state=None, verbose=0,\n",
      "            warm_start=False)\n"
     ]
    }
   ],
   "source": [
    "print(gridMD.best_estimator_)"
   ]
  },
  {
   "cell_type": "code",
   "execution_count": 38,
   "metadata": {},
   "outputs": [
    {
     "name": "stdout",
     "output_type": "stream",
     "text": [
      "accuracy scores training set:  1.0\n",
      "accuracy scores test set:  0.8225454545454546\n",
      "              precision    recall  f1-score   support\n",
      "\n",
      "           0       0.83      0.81      0.82      4105\n",
      "           1       0.81      0.84      0.83      4145\n",
      "\n",
      "   micro avg       0.82      0.82      0.82      8250\n",
      "   macro avg       0.82      0.82      0.82      8250\n",
      "weighted avg       0.82      0.82      0.82      8250\n",
      "\n"
     ]
    }
   ],
   "source": [
    "rf2bestn = RandomForestClassifier(n_estimators=200, max_depth=60)\n",
    "rf2bestn.fit(train_features, train_labels)\n",
    "sen_pred_trainrf2bestn = rf2bestn.predict(train_features)\n",
    "sen_pred_testrf2bestn = rf2bestn.predict(test_features)\n",
    "print('accuracy scores training set: ',accuracy_score(train_labels,sen_pred_trainrf2bestn))\n",
    "print('accuracy scores test set: ',accuracy_score(test_labels,sen_pred_testrf2bestn))\n",
    "print(classification_report(test_labels, sen_pred_testrf2bestn)) "
   ]
  },
  {
   "cell_type": "code",
   "execution_count": null,
   "metadata": {},
   "outputs": [],
   "source": []
  }
 ],
 "metadata": {
  "kernelspec": {
   "display_name": "Python 3",
   "language": "python",
   "name": "python3"
  },
  "language_info": {
   "codemirror_mode": {
    "name": "ipython",
    "version": 3
   },
   "file_extension": ".py",
   "mimetype": "text/x-python",
   "name": "python",
   "nbconvert_exporter": "python",
   "pygments_lexer": "ipython3",
   "version": "3.7.3"
  }
 },
 "nbformat": 4,
 "nbformat_minor": 2
}
